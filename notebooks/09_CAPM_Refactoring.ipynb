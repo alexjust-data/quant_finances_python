{
 "cells": [
  {
   "cell_type": "markdown",
   "id": "a4b37b7a-25d6-42e6-a54c-a3329e5ed6e1",
   "metadata": {},
   "source": [
    "# Alphas, betas and regressions refactoring with classes\n",
    "\n",
    "Vamos a refectorizar, y veremos porqué lo hacemos con funciones o con clases. Las dos son buenas soluciones pero dependiendo de lo que estamos haciendo nos servirá mejor una cosa u otra. Cada solución responde a una cierta problematica y en particular tenemos que ver qué cosas estamos haciendo de manera que después las debamos utilizar. \n",
    "\n",
    "* `funciones` : las utilizo cuando se que estoy haciendo un proceso independiente y que eventualmente voy a reutilizar.\n",
    "* `clases` : y si cosas que dependen de ciertos procesos particulares prefiero esconderlo con clases porque la encapsulación en mucho más precisa."
   ]
  },
  {
   "cell_type": "code",
   "execution_count": null,
   "id": "d5e8a688-7999-4021-a989-7009ddb2cb02",
   "metadata": {},
   "outputs": [],
   "source": []
  },
  {
   "cell_type": "markdown",
   "id": "5f815900-c17f-403e-a7c8-7b61895ff08a",
   "metadata": {},
   "source": [
    "Como sincronizar series de tiempo lo voy a utilizar despues para `matriz de varianza y covarianza` todo el código que sigue voy a crear una nueva función."
   ]
  },
  {
   "cell_type": "code",
   "execution_count": null,
   "id": "cdb504bc-aae9-45fa-85fb-9fd34dbe2b2e",
   "metadata": {},
   "outputs": [],
   "source": [
    "# ric = r_a and benchmark = r_m\n",
    "x1, str1, t1 = stream_functions.load_time_series(ric)\n",
    "x2, str2, t2 = stream_functions.load_time_series(benchmark)\n",
    "\n",
    "# sinchronize timestamps\n",
    "timestamps1 = list(t1['date'].values) # .values lo convierte en array\n",
    "timestamps2 = list(t2['date'].values)\n",
    "timestamps = list(set(timestamps1) & set(timestamps2))\n",
    "\n",
    "# synchronised time series for x1 (ric)\n",
    "t1_sync = t1[t1['date'].isin(timestamps)]\n",
    "t1_sync.sort_values(by='date', ascending=True)\n",
    "t1_sync = t1_sync.reset_index(drop=True)\n",
    "\n",
    "# synchronised time series for x2 (benchmark)\n",
    "t2_sync = t2[t2['date'].isin(timestamps)]\n",
    "t2_sync.sort_values(by='date', ascending=True)\n",
    "t2_sync = t2_sync.reset_index(drop=True)\n",
    "\n",
    "# table of returns for ric and benchmark\n",
    "t = pd.DataFrame()\n",
    "t['date'] = t1_sync.date\n",
    "t['price_1'] = t1_sync.close\n",
    "t['price_2'] = t2_sync.close\n",
    "t['return_1'] = t1_sync.return_close\n",
    "t['return_2'] = t2_sync.return_close\n",
    "\n",
    "# compute vectors of return\n",
    "y = t['return_1'].values\n",
    "x = t['return_2'].values"
   ]
  }
 ],
 "metadata": {
  "kernelspec": {
   "display_name": "Python 3",
   "language": "python",
   "name": "python3"
  },
  "language_info": {
   "codemirror_mode": {
    "name": "ipython",
    "version": 3
   },
   "file_extension": ".py",
   "mimetype": "text/x-python",
   "name": "python",
   "nbconvert_exporter": "python",
   "pygments_lexer": "ipython3",
   "version": "3.8.8"
  }
 },
 "nbformat": 4,
 "nbformat_minor": 5
}
