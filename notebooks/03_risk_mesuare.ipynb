{
 "cells": [
  {
   "cell_type": "markdown",
   "id": "689c3f92-036d-4db7-a802-da1268138333",
   "metadata": {},
   "source": [
    "# Medidas de riesgo"
   ]
  },
  {
   "cell_type": "code",
   "execution_count": 14,
   "id": "1cd1c58f-8a8b-4c49-831b-83352a8cf5ef",
   "metadata": {},
   "outputs": [
    {
     "data": {
      "image/png": "[encoded data removed]",
      "text/plain": [
       "<Figure size 432x288 with 1 Axes>"
      ]
     },
     "metadata": {
      "needs_background": "light"
     },
     "output_type": "display_data"
    },
    {
     "name": "stdout",
     "output_type": "stream",
     "text": [
      "Distibución: NORMAL\n",
      "mean: 0.00041850824096949983\n",
      "std : 1.0005083229735299\n",
      "skewness : -0.0010490215174099222\n",
      "kurtosis : 0.0017892819313662933\n",
      "VaR 95% : -1.6437707226824898\n",
      "Jarque-Bera : 0.31680476691124815\n",
      "p_value : 0.8535062760578118\n",
      "is normal :True\n"
     ]
    }
   ],
   "source": [
    "# !/usr/bin/ python\n",
    "# -*- coding: utf-8 -*-\n",
    "\n",
    "import numpy as np\n",
    "import pandas as pd\n",
    "import scipy\n",
    "import importlib\n",
    "import matplotlib.pyplot as plt\n",
    "import matplotlib as mpl\n",
    "from scipy.stats import skew, kurtosis, chi2\n",
    "\n",
    "\n",
    "def normality_test(x_size, type_random_variable, degrees_freedom=5):\n",
    "    \"\"\"Create a normality test by example with Jarque_Bera\n",
    "    Arg:\n",
    "        1. x_size : size of distribution.\n",
    "        2. type_random_variable : generate random distributions.\n",
    "        3. degrees_freedom : only for t-student\n",
    "    Return:\n",
    "        Plot and risk metrics\n",
    "    \"\"\"\n",
    "    if type_random_variable == \"normal\":\n",
    "        x = np.random.standard_normal(x_size)\n",
    "        x_str = type_random_variable\n",
    "    elif type_random_variable == \"exponential\":\n",
    "        x = np.random.standard_exponential(x_size)\n",
    "        x_str = type_random_variable\n",
    "    elif type_random_variable == \"student\":\n",
    "        x = np.random.standard_t(size=x_size, df=degrees_freedom)\n",
    "        x_str = type_random_variable + \"(df=\" + str(degrees_freedom) + \")\"\n",
    "    elif type_random_variable == \"chi-squared\":\n",
    "        x = np.random.chisquare(size=x_size, df=degrees_freedom)\n",
    "        x_str = type_random_variable + \"(df=\" + str(degrees_freedom) + \")\"\n",
    "\n",
    "    # compute risk metrics\n",
    "    x_mean = np.mean(x)\n",
    "    x_stdev = np.std(x)\n",
    "    x_skew = skew(x)\n",
    "    x_kurt = kurtosis(x)\n",
    "    x_var_95 = np.percentile(x, 5)\n",
    "    jb = x_size/6 * (x_skew**2 + 1/4*(x_kurt**2))\n",
    "    p_value = 1 - chi2.cdf(jb, df=2) # buscamos dos grados de libertad\n",
    "    is_normal = (p_value > 0.05) # equivalenty jb < 6\n",
    "\n",
    "    # plot histogram\n",
    "    plt.figure()\n",
    "    plt.hist(x, bins=100)\n",
    "    plt.title(type_random_variable)\n",
    "    plt.show()\n",
    "\n",
    "    # print risk metrics\n",
    "    print(\"Distibución: \" + x_str.upper())\n",
    "    print(\"mean: \" + str(x_mean))\n",
    "    print(\"std : \" + str(x_stdev))\n",
    "    print(\"skewness : \" + str(x_skew))\n",
    "    print(\"kurtosis : \" + str(x_kurt))\n",
    "    print(\"VaR 95% : \" + str(x_var_95))\n",
    "    print(\"Jarque-Bera : \" + str(jb))\n",
    "    print(\"p_value : \" + str(p_value))\n",
    "    print(\"is normal :\" + str(is_normal))\n",
    "\n",
    "\n",
    "if __name__ == \"__main__\":\n",
    "\n",
    "    normality_test(10**6, \"normal\")"
   ]
  },
  {
   "cell_type": "markdown",
   "id": "faa91ce9-95e9-4633-a10f-c795d15ac4d0",
   "metadata": {},
   "source": [
    "> Tengo un valor Jarque-Bera de 0.31 lo que significa que estoy en el eje de las x en 0.70\n",
    ">\n",
    "> Calculado el p-value que es la provabilidad de tener eventos que sean mayores a 0.31 y esa área de probabilidad bajo la curva que es hacia la derecha a partir de 0.31 es del 0.85\n",
    "\n",
    "**PLAYING WITH Borel_Cantelli**  \n",
    "Voy a crear un loop infinito con distribuciones normales hasya que uno de ellos no paso el test de normalidad:"
   ]
  },
  {
   "cell_type": "code",
   "execution_count": 17,
   "id": "6a6b3e96-5846-4a55-9c70-2bf63d501550",
   "metadata": {},
   "outputs": [],
   "source": [
    "def normality_test(x_size, type_random_variable, degrees_freedom=5):\n",
    "    \"\"\"Create a normality test e.g Jarque_bera\n",
    "    Arg:\n",
    "        1. x_size : size of distribution.\n",
    "        2. type_random_variable : generate random distributions.\n",
    "        3. degrees_freedom : only for t-student\n",
    "    Return:\n",
    "    \"\"\"\n",
    "\n",
    "    is_normal = True\n",
    "    counter = 0\n",
    "    while is_normal:\n",
    "        \n",
    "        if type_random_variable == \"normal\":\n",
    "            x = np.random.standard_normal(x_size)\n",
    "            x_str = type_random_variable\n",
    "        elif type_random_variable == \"exponential\":\n",
    "            x = np.random.standard_exponential(x_size)\n",
    "            x_str = type_random_variable\n",
    "        elif type_random_variable == \"student\":\n",
    "            x = np.random.standard_t(size=x_size, df=degrees_freedom)\n",
    "            x_str = type_random_variable + \"(df=\" + str(degrees_freedom) + \")\"\n",
    "        elif type_random_variable == \"chi-squared\":\n",
    "            x = np.random.chisquare(size=x_size, df=degrees_freedom)\n",
    "            x_str = type_random_variable + \"(df=\" + str(degrees_freedom) + \")\"\n",
    "\n",
    "        # compute risk metrics\n",
    "        x_mean = np.mean(x)\n",
    "        x_stdev = np.std(x)\n",
    "        x_skew = skew(x)\n",
    "        x_kurt = kurtosis(x)\n",
    "        x_var_95 = np.percentile(x, 5)\n",
    "        jb = x_size/6 * (x_skew**2 + 1/4*(x_kurt**2))\n",
    "        p_value = 1 - chi2.cdf(jb, df=2) # buscamos dos grados de libertad\n",
    "        is_normal = (p_value > 0.05) # equivalenty jb < 6\n",
    "\n",
    "        # plot histogram\n",
    "        plt.figure()\n",
    "        plt.hist(x, bins=100)\n",
    "        plt.title(type_random_variable)\n",
    "        plt.show()\n",
    "        \n",
    "        print(\"counter :\" + str(counter))\n",
    "        print(\"------------\")\n",
    "\n",
    "        # print risk metrics\n",
    "        print(\"Distibución: \" + x_str.upper())\n",
    "        print(\"mean: \" + str(x_mean))\n",
    "        print(\"std : \" + str(x_stdev))\n",
    "        print(\"skewness : \" + str(x_skew))\n",
    "        print(\"kurtosis : \" + str(x_kurt))\n",
    "        print(\"VaR 95% : \" + str(x_var_95))\n",
    "        print(\"Jarque-Bera : \" + str(jb))\n",
    "        print(\"p_value : \" + str(p_value))\n",
    "        print(\"is normal :\" + str(is_normal))\n",
    "        \n",
    "        counter += 1"
   ]
  },
  {
   "cell_type": "code",
   "execution_count": 25,
   "id": "05e02e38-e0aa-433a-9bab-73f9f9e6b2e9",
   "metadata": {},
   "outputs": [
    {
     "data": {
      "image/png": "[encoded data removed]",
      "text/plain": [
       "<Figure size 432x288 with 1 Axes>"
      ]
     },
     "metadata": {
      "needs_background": "light"
     },
     "output_type": "display_data"
    },
    {
     "name": "stdout",
     "output_type": "stream",
     "text": [
      "counter :0\n",
      "------------\n",
      "Distibución: NORMAL\n",
      "mean: 0.0006919579798533419\n",
      "std : 0.9999873969993277\n",
      "skewness : 0.004594263312789796\n",
      "kurtosis : 0.004701745384343425\n",
      "VaR 95% : -1.6449213177054778\n",
      "Jarque-Bera : 4.4389763003408245\n",
      "p_value : 0.10866471460849314\n",
      "is normal :True\n"
     ]
    },
    {
     "data": {
      "image/png": "[encoded data removed]",
      "text/plain": [
       "<Figure size 432x288 with 1 Axes>"
      ]
     },
     "metadata": {
      "needs_background": "light"
     },
     "output_type": "display_data"
    },
    {
     "name": "stdout",
     "output_type": "stream",
     "text": [
      "counter :1\n",
      "------------\n",
      "Distibución: NORMAL\n",
      "mean: 0.0015414672537610635\n",
      "std : 1.0003858971545334\n",
      "skewness : -0.007717332942213212\n",
      "kurtosis : -0.0020991732091419912\n",
      "VaR 95% : -1.6460648176165773\n",
      "Jarque-Bera : 10.109809963577352\n",
      "p_value : 0.006377972757104722\n",
      "is normal :False\n"
     ]
    }
   ],
   "source": [
    "normality_test(10**6, \"normal\")"
   ]
  },
  {
   "cell_type": "markdown",
   "id": "54ade674-e037-402e-832b-279274a8c7b5",
   "metadata": {},
   "source": [
    "---\n",
    "\n",
    "Al segundo test ha fallado, veamos que tenemos:\n",
    "* p_value : 0.006377972757104722  \n",
    "\n",
    "es decir que si estoy jugando con un nivel de confianza del 95% con este p-value estoy < 0.05 y por lo tanto no es una distribución normal."
   ]
  },
  {
   "cell_type": "markdown",
   "id": "dd74325f-55e4-4369-a1a1-490a496f8d5d",
   "metadata": {},
   "source": [
    "**VAMOS A BUSCAR LAS MÉTRICAS DE RIESGO**\n",
    "\n",
    "\n",
    "Un **déficit esperado** es una idea que se utiliza comúnmente dentro del proceso de gestión del riesgo financiero para determinar la cantidad de riesgo asociado con una cartera financiera tal como está constituida actualmente.\n"
   ]
  },
  {
   "cell_type": "code",
   "execution_count": null,
   "id": "1965c5b3-59df-4256-b1c8-811f0b7685f4",
   "metadata": {},
   "outputs": [],
   "source": [
    "x_cvar_95 = who knows?"
   ]
  },
  {
   "cell_type": "markdown",
   "id": "f7fbcda3-294f-4a9b-999b-8e5a33881b16",
   "metadata": {},
   "source": [
    "**Two-sided confidence intervals**\n",
    "\n",
    "<img src=\"img/02.png\">\n",
    "\n",
    "\n",
    "**VALUE at RISK**  \n",
    "\n",
    "The Value at Risk of level $q \\in (0,1)$ is a number $VaR(p)$ such that\n",
    "\n",
    "$$\n",
    "P[x \\ge VaR(q)] = p\n",
    "$$\n",
    "\n",
    "Equivalenty, \n",
    "\n",
    "$$\n",
    "P[x \\leq VaR(q)] = 1 - p\n",
    "$$\n",
    "\n",
    "For noraml random variables $N(\\mu, \\sigma^2)$ we have\n",
    "\n",
    "$$\n",
    "VaR(95\\%) = \\mu - 1.64 * \\sigma\n",
    "$$\n",
    "\n",
    "![](img/03.png)\n",
    "\n",
    "**Visto desde un punto de vista financiero**  \n",
    "En un mes que tiene 20 días hábiles de trading ¿cuál es el peor día que puedo tener en un mes? Pues tomamos el pero día en un mes y ese es el $VaR(95\\%)$.  \n",
    "Obviamente si lo hacemos por varios mesos o hasta ños, nos va a decir cuáles son las peores pérdidas que vamos a tener con ese 95%.\n",
    "\n",
    "**A mi lo que me interesan son las ganancias**   \n",
    "Entonces digo, qué es lo peor que me puede ir en el 95% de mis casos. Yo se que tengo mis ganacias a la derecha en un 95% y ese 5% de perdidas están a la izquierda.\n",
    "\n",
    "Esencialmente lo que estoy haciendo es: tomo mi distribución, le calculo el cuantil al 5% y ese es mi valor en riesgo al 95%.\n",
    ">\n",
    ">Obviamente ésto sólo palica cuando la distribución es de rendimientos, entonces me va a dar ¿cuál es el rendimiento tal que el 95% de probabilidad, mis rendimientos van a ser mayores que dicho número? O visto en dinero ¿Cuál es la perdida máxima que yo puedo tener en el 95% de los casos? Básicamente separo la zona gris y la tiro a la basura, luego miro el número más pequeño y ese es el **Valos en Riesgo**.\n",
    " \n",
    "\n",
    "**¿QUE ES EL CVaR ?**  \n",
    "Es el promedio de todo lo que está hacia la izquierda (la zona gris)\n",
    "\n",
    "Imagínate una distribución de 100 puntos que sean \n",
    "\n",
    "caso1 :\n",
    "\n",
    "$[-\\infty , -\\infty , -\\infty , -\\infty , 0 , 1 , 2 , ... , 100]$\n",
    "\n",
    "mi valor en riesgo es 0 porque tengo 4 -infinitos y el cuantil 5 van a ser 0. Pero tengo 4 casos a la izquierda que pierdo infinto.\n",
    "\n",
    "caso1 :\n",
    "\n",
    "$[0 , 0 , 0 , 0 , 0 , 1 , 2 , ... , 100]$\n",
    "\n",
    "el VaR sigue siendo 0, pero en el caso1 el **promedio** de los valores que están a la izquierda del VaR es -infinito y el caso2 es cero. Entonces el VaR no me da toda la información que quiero.\n",
    "\n",
    "Por eso voy a considerar el Conditional CVaR que es, en el pero de los casos, ¿cuál es el promedio de las pérdidas?\n",
    "* caso1 : CVaR = -$\\infty$\n",
    "* caso2 : CVaR = 0\n",
    "\n",
    "vemos que esto nos da alguna información complementaria. Es por eso que aveces se utiliza, porque no sólo tenemos ¿cuál es lo máximo que puedo perder en el 95% de los casos? sino ¿cuándo pierdo cuánto de mal voy a perder? (esto es muy importante para aseguradores y si vendemos opciones)"
   ]
  },
  {
   "cell_type": "code",
   "execution_count": 31,
   "id": "20290547-e53b-4295-a246-1d66defd483f",
   "metadata": {},
   "outputs": [
    {
     "data": {
      "text/plain": [
       "1000000"
      ]
     },
     "execution_count": 31,
     "metadata": {},
     "output_type": "execute_result"
    }
   ],
   "source": [
    "x = np.random.standard_normal(10**6)\n",
    "len(x)"
   ]
  },
  {
   "cell_type": "markdown",
   "id": "9240a08d-9d0f-4e28-9c62-ca320da3c812",
   "metadata": {},
   "source": [
    "Tenemos 1000000 de puntos y nosotros nos queremos quedar con el 5% por debajo del VaR"
   ]
  },
  {
   "cell_type": "code",
   "execution_count": 37,
   "id": "54e0e3db-ab3c-46e8-ab56-f012e0585e37",
   "metadata": {},
   "outputs": [
    {
     "data": {
      "text/plain": [
       "-1.6472704511767244"
      ]
     },
     "execution_count": 37,
     "metadata": {},
     "output_type": "execute_result"
    }
   ],
   "source": [
    "# hemos tomado el percentil de x al 5%\n",
    "x_var_95 = np.percentile(x, 5)\n",
    "x_var_95"
   ]
  },
  {
   "cell_type": "code",
   "execution_count": 38,
   "id": "24aadf9c-2929-4966-841b-e79a0d5d1dbb",
   "metadata": {},
   "outputs": [
    {
     "data": {
      "text/plain": [
       "array([-2.50049543, -2.42037214, -2.12424492, ..., -2.84652761,\n",
       "       -1.73184645, -2.24022675])"
      ]
     },
     "execution_count": 38,
     "metadata": {},
     "output_type": "execute_result"
    }
   ],
   "source": [
    "# escojo los elementos por debajo del VaR\n",
    "x[x <= x_var_95]"
   ]
  },
  {
   "cell_type": "code",
   "execution_count": 39,
   "id": "4ec24d0f-8260-4256-8a35-ffcab604afcb",
   "metadata": {},
   "outputs": [
    {
     "data": {
      "text/plain": [
       "50000"
      ]
     },
     "execution_count": 39,
     "metadata": {},
     "output_type": "execute_result"
    }
   ],
   "source": [
    "# obvio son el 5% de x\n",
    "len(x[x <= x_var_95])"
   ]
  },
  {
   "cell_type": "code",
   "execution_count": 42,
   "id": "0b4f1370-e960-4b02-8d5b-0c87dd4b3ba9",
   "metadata": {},
   "outputs": [
    {
     "data": {
      "text/plain": [
       "-2.0648351332794825"
      ]
     },
     "execution_count": 42,
     "metadata": {},
     "output_type": "execute_result"
    }
   ],
   "source": [
    "# CVaR es la media de esos valores\n",
    "x_cvar = np.mean(x[x <= x_var_95])\n",
    "x_cvar"
   ]
  },
  {
   "cell_type": "code",
   "execution_count": 44,
   "id": "ae3546bc-dcf5-4d61-b9fc-541e65b70537",
   "metadata": {},
   "outputs": [
    {
     "data": {
      "image/png": "[encoded data removed]",
      "text/plain": [
       "<Figure size 432x288 with 1 Axes>"
      ]
     },
     "metadata": {
      "needs_background": "light"
     },
     "output_type": "display_data"
    },
    {
     "name": "stdout",
     "output_type": "stream",
     "text": [
      "Distibución: NORMAL\n",
      "mean: 0.00012613614639545598\n",
      "std : 1.0001739974640171\n",
      "skewness : -0.00047518975768249074\n",
      "kurtosis : 0.00040378855442968486\n",
      "VaR 95% : -1.6435936330024359\n",
      "CVaR 95% : -2.06330963196147\n",
      "Jarque-Bera : 0.04442776749640798\n",
      "p_value : 0.9780310277369132\n",
      "is normal :True\n"
     ]
    }
   ],
   "source": [
    "# !/usr/bin/ python\n",
    "# -*- coding: utf-8 -*-\n",
    "\n",
    "import numpy as np\n",
    "import pandas as pd\n",
    "import scipy\n",
    "import importlib\n",
    "import matplotlib.pyplot as plt\n",
    "import matplotlib as mpl\n",
    "from scipy.stats import skew, kurtosis, chi2\n",
    "\n",
    "\n",
    "def normality_test(x_size, type_random_variable, degrees_freedom=5):\n",
    "    \"\"\"Create a normality test by example with Jarque_Bera\n",
    "    Arg:\n",
    "        1. x_size : size of distribution.\n",
    "        2. type_random_variable : generate random distributions.\n",
    "        3. degrees_freedom : only for t-student\n",
    "    Return:\n",
    "        Plot and risk metrics\n",
    "    \"\"\"\n",
    "    if type_random_variable == \"normal\":\n",
    "        x = np.random.standard_normal(x_size)\n",
    "        x_str = type_random_variable\n",
    "    elif type_random_variable == \"exponential\":\n",
    "        x = np.random.standard_exponential(x_size)\n",
    "        x_str = type_random_variable\n",
    "    elif type_random_variable == \"student\":\n",
    "        x = np.random.standard_t(size=x_size, df=degrees_freedom)\n",
    "        x_str = type_random_variable + \"(df=\" + str(degrees_freedom) + \")\"\n",
    "    elif type_random_variable == \"chi-squared\":\n",
    "        x = np.random.chisquare(size=x_size, df=degrees_freedom)\n",
    "        x_str = type_random_variable + \"(df=\" + str(degrees_freedom) + \")\"\n",
    "\n",
    "    # compute risk metrics\n",
    "    x_mean = np.mean(x)\n",
    "    x_stdev = np.std(x)\n",
    "    x_skew = skew(x)\n",
    "    x_kurt = kurtosis(x)\n",
    "    x_var_95 = np.percentile(x, 5)\n",
    "    x_cvar_95 = np.mean(x[x <= x_var_95])\n",
    "    jb = x_size/6 * (x_skew**2 + 1/4*(x_kurt**2))\n",
    "    p_value = 1 - chi2.cdf(jb, df=2) # buscamos dos grados de libertad\n",
    "    is_normal = (p_value > 0.05) # equivalenty jb < 6\n",
    "\n",
    "    # plot histogram\n",
    "    plt.figure()\n",
    "    plt.hist(x, bins=100)\n",
    "    plt.title(type_random_variable)\n",
    "    plt.show()\n",
    "\n",
    "    # print risk metrics\n",
    "    print(\"Distibución: \" + x_str.upper())\n",
    "    print(\"mean: \" + str(x_mean))\n",
    "    print(\"std : \" + str(x_stdev))\n",
    "    print(\"skewness : \" + str(x_skew))\n",
    "    print(\"kurtosis : \" + str(x_kurt))\n",
    "    print(\"VaR 95% : \" + str(x_var_95))\n",
    "    print(\"CVaR 95% : \" + str(x_cvar_95))\n",
    "    print(\"Jarque-Bera : \" + str(jb))\n",
    "    print(\"p_value : \" + str(p_value))\n",
    "    print(\"is normal :\" + str(is_normal))\n",
    "\n",
    "\n",
    "if __name__ == \"__main__\":\n",
    "\n",
    "    normality_test(10**6, \"normal\")"
   ]
  },
  {
   "cell_type": "markdown",
   "id": "f2e4ff9a-ec50-4c10-a56f-b5eaf734964e",
   "metadata": {},
   "source": [
    "Mi valor en riesgo es de VaR 95% : -1.6435936330024359 pero cuando toma el promedio de los valores que están a la izquierda de dicho valor es CVaR 95% : -2.06330963196147\n",
    "\n",
    "**CUÁL ES EL PUNTO DE TODO ESTE ANALISIS DE MÉTRICAS DE RIESGO**\n",
    "\n",
    "¿Qué quiero entender cuando veo una distribución de ganacias y pérdidas, o rendimientos? Yo quiero saber:\n",
    "* la media\n",
    "* la volatilidad (que en los mercados con es la desviación standard)\n",
    "* skewness quiero ver qué tan simétrica es\n",
    "* kurtosis : quiero ver qué tantas colas largas tiene\n",
    "* quiero calcular el valor en rieso\n",
    "* y el valor en riesgo condicional\n",
    "* si la variable va a ser normal o no\n",
    "\n",
    "Vamos a ver en loop qué pasa con CVaR cuando no hay normalidad: "
   ]
  },
  {
   "cell_type": "code",
   "execution_count": 50,
   "id": "9b138fda-e43e-474a-be9b-4ed5fc74791b",
   "metadata": {},
   "outputs": [],
   "source": [
    "def normality_test(x_size, type_random_variable, degrees_freedom=5):\n",
    "    \"\"\"Create a normality test e.g Jarque_bera\n",
    "    Arg:\n",
    "        1. x_size : size of distribution.\n",
    "        2. type_random_variable : generate random distributions.\n",
    "        3. degrees_freedom : only for t-student\n",
    "    Return:\n",
    "    \"\"\"\n",
    "\n",
    "    is_normal = True\n",
    "    counter = 0\n",
    "    while is_normal:\n",
    "        \n",
    "        if type_random_variable == \"normal\":\n",
    "            x = np.random.standard_normal(x_size)\n",
    "            x_str = type_random_variable\n",
    "        elif type_random_variable == \"exponential\":\n",
    "            x = np.random.standard_exponential(x_size)\n",
    "            x_str = type_random_variable\n",
    "        elif type_random_variable == \"student\":\n",
    "            x = np.random.standard_t(size=x_size, df=degrees_freedom)\n",
    "            x_str = type_random_variable + \"(df=\" + str(degrees_freedom) + \")\"\n",
    "        elif type_random_variable == \"chi-squared\":\n",
    "            x = np.random.chisquare(size=x_size, df=degrees_freedom)\n",
    "            x_str = type_random_variable + \"(df=\" + str(degrees_freedom) + \")\"\n",
    "\n",
    "        # compute risk metrics\n",
    "        x_mean = np.mean(x)\n",
    "        x_stdev = np.std(x)\n",
    "        x_skew = skew(x)\n",
    "        x_kurt = kurtosis(x)\n",
    "        x_var_95 = np.percentile(x, 5)\n",
    "        x_cvar_95 = np.mean(x[x <= x_var_95])\n",
    "        jb = x_size/6 * (x_skew**2 + 1/4*(x_kurt**2))\n",
    "        p_value = 1 - chi2.cdf(jb, df=2) # buscamos dos grados de libertad\n",
    "        is_normal = (p_value > 0.05) # equivalenty jb < 6\n",
    "\n",
    "        # plot histogram\n",
    "        plt.figure()\n",
    "        plt.hist(x, bins=100)\n",
    "        plt.title(type_random_variable)\n",
    "        plt.show()\n",
    "        \n",
    "        print(\"counter :\" + str(counter))\n",
    "        print(\"------------\")\n",
    "\n",
    "        # print risk metrics\n",
    "        print(\"Distibución: \" + x_str.upper())\n",
    "        print(\"mean: \" + str(x_mean))\n",
    "        print(\"std : \" + str(x_stdev))\n",
    "        print(\"skewness : \" + str(x_skew))\n",
    "        print(\"kurtosis : \" + str(x_kurt))\n",
    "        print(\"VaR 95% : \" + str(x_var_95))\n",
    "        print(\"CVaR 95% : \" + str(x_cvar_95))\n",
    "        print(\"Jarque-Bera : \" + str(jb))\n",
    "        print(\"p_value : \" + str(p_value))\n",
    "        print(\"is normal :\" + str(is_normal))\n",
    "        \n",
    "        counter += 1"
   ]
  },
  {
   "cell_type": "code",
   "execution_count": 51,
   "id": "8e5e031a-fc64-4672-a878-2349a33ae08a",
   "metadata": {},
   "outputs": [
    {
     "data": {
      "image/png": "[encoded data removed]",
      "text/plain": [
       "<Figure size 432x288 with 1 Axes>"
      ]
     },
     "metadata": {
      "needs_background": "light"
     },
     "output_type": "display_data"
    },
    {
     "name": "stdout",
     "output_type": "stream",
     "text": [
      "counter :0\n",
      "------------\n",
      "Distibución: NORMAL\n",
      "mean: -0.0007761472666232012\n",
      "std : 1.0014703816369175\n",
      "skewness : -0.0027160421902078214\n",
      "kurtosis : 0.0060890909821664785\n",
      "VaR 95% : -1.6476466021513245\n",
      "CVaR 95% : -2.0692614655515356\n",
      "Jarque-Bera : 2.7743570710440304\n",
      "p_value : 0.24977905409122114\n",
      "is normal :True\n"
     ]
    },
    {
     "data": {
      "image/png": "[encoded data removed]",
      "text/plain": [
       "<Figure size 432x288 with 1 Axes>"
      ]
     },
     "metadata": {
      "needs_background": "light"
     },
     "output_type": "display_data"
    },
    {
     "name": "stdout",
     "output_type": "stream",
     "text": [
      "counter :1\n",
      "------------\n",
      "Distibución: NORMAL\n",
      "mean: 0.0019282575397358325\n",
      "std : 0.9994841237769209\n",
      "skewness : 0.00025191704140457524\n",
      "kurtosis : 0.004895830774046317\n",
      "VaR 95% : -1.6442592426639142\n",
      "CVaR 95% : -2.059900442017052\n",
      "Jarque-Bera : 1.009291989629129\n",
      "p_value : 0.6037192573502037\n",
      "is normal :True\n"
     ]
    },
    {
     "data": {
      "image/png": "[encoded data removed]",
      "text/plain": [
       "<Figure size 432x288 with 1 Axes>"
      ]
     },
     "metadata": {
      "needs_background": "light"
     },
     "output_type": "display_data"
    },
    {
     "name": "stdout",
     "output_type": "stream",
     "text": [
      "counter :2\n",
      "------------\n",
      "Distibución: NORMAL\n",
      "mean: -0.0018287974749604348\n",
      "std : 1.0009088963244779\n",
      "skewness : 0.007171605991149454\n",
      "kurtosis : -0.0015909633302415571\n",
      "VaR 95% : -1.6448663446717744\n",
      "CVaR 95% : -2.0613232221280415\n",
      "Jarque-Bera : 8.677453928639013\n",
      "p_value : 0.013053134737102678\n",
      "is normal :False\n"
     ]
    }
   ],
   "source": [
    "normality_test(10**6, \"normal\")"
   ]
  },
  {
   "cell_type": "markdown",
   "id": "4304cb9b-f5de-4010-ad34-ac1f6f3d09bf",
   "metadata": {},
   "source": [
    "> Vemoa que la variable aleatoria normal como distribución satisface lo mismo de antes:\n",
    "> * VaR 95% : -1.6448663446717744\n",
    "> * CVaR 95% : -2.0613232221280415\n",
    ">\n",
    "> pero los datos empíricos que estoy generando esto son tales que su  \n",
    "Jarque-Bera(8.677453) $\\nless$ 6 no pasa el test de normalidad\n"
   ]
  }
 ],
 "metadata": {
  "kernelspec": {
   "display_name": "Python 3",
   "language": "python",
   "name": "python3"
  },
  "language_info": {
   "codemirror_mode": {
    "name": "ipython",
    "version": 3
   },
   "file_extension": ".py",
   "mimetype": "text/x-python",
   "name": "python",
   "nbconvert_exporter": "python",
   "pygments_lexer": "ipython3",
   "version": "3.8.8"
  }
 },
 "nbformat": 4,
 "nbformat_minor": 5
}
