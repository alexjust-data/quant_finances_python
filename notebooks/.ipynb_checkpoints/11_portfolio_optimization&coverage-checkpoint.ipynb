{
 "cells": [
  {
   "cell_type": "markdown",
   "id": "c7618b73-8a10-4f7d-87ee-9f72f7fbde20",
   "metadata": {},
   "source": [
    "# `Refactoring` optimización y cobertura de portafolios en Python\n",
    "\n",
    "Quiero refectorizar el código anterior en bloques:\n",
    "* constructor\n",
    "* carga de datos\n",
    "* computo de datos\n",
    "\n",
    "Voy a escribir las lineas lo que después quiero construir:"
   ]
  },
  {
   "cell_type": "code",
   "execution_count": null,
   "id": "ffe9354a-e6b4-4346-bde3-858a8a370932",
   "metadata": {},
   "outputs": [],
   "source": [
    "\"\"\"\n",
    "escribiré una clase que se lamará `hedge_manager` \n",
    "y la guardaré en el archivo 'stream_classes'\n",
    "\n",
    "Argumentos:\n",
    "    -ric : valor a cubrir\n",
    "    -benchmark : mercado a operar\n",
    "    -hendge_rics : universo valores para optimizar\n",
    "    -delta : dinero a cubrir\n",
    "\"\"\"\n",
    "hedge = stream_classes.hedge_manager(ric, benchmark, hendge_rics, delta)"
   ]
  },
  {
   "cell_type": "code",
   "execution_count": null,
   "id": "daf1ba5b-7f97-4e61-8ae4-fe3e0bd33458",
   "metadata": {},
   "outputs": [],
   "source": [
    "\"\"\"\n",
    "Load imputs. \n",
    "Usaré la función compute_beta() para cargar beta y calcular \n",
    "el beta en dólares. Además poder imprimir si quiero los datos \n",
    "calculados. Calculará los betas de cada valor de las coberturas\n",
    "e imprimirá los valores.\n",
    "\"\"\"\n",
    "hedger.load_inputs(bool_print=True)"
   ]
  },
  {
   "cell_type": "code",
   "execution_count": null,
   "id": "82b13433-7421-4bfa-9c4b-e57fe9cb1b77",
   "metadata": {},
   "outputs": [],
   "source": [
    "\"\"\"\n",
    "Hacer los cálculos de algortimo de cobertura.\n",
    "Tansformar en matrices e invertir y calcular el delta\n",
    "de cobertura y el beta de cobertura para ver que si cubrimos\n",
    "lo que queremos cubrir. Imprimir opcionamente los datos.\n",
    "\"\"\"\n",
    "hedger.compute(bool_print=True)"
   ]
  },
  {
   "cell_type": "markdown",
   "id": "4122e58a-47f7-44e9-821c-a7d750c2cd4f",
   "metadata": {},
   "source": [
    "**MI CÓDIGO A ENCAPSULAR**"
   ]
  },
  {
   "cell_type": "code",
   "execution_count": null,
   "id": "cb0a7a53-930c-4351-bd7a-0df6a02e549d",
   "metadata": {},
   "outputs": [],
   "source": [
    "import scipy\n",
    "import importlib\n",
    "import numpy as np\n",
    "import pandas as pd\n",
    "import matplotlib as mpl\n",
    "import matplotlib.pyplot as plt\n",
    "from scipy.stats import skew, kurtosis, chi2, linregress\n",
    "# our own files an reload\n",
    "import stream_classes\n",
    "import stream_functions\n",
    "importlib.reload(stream_classes)\n",
    "importlib.reload(stream_functions)\n",
    "\n",
    "# imput parameters\n",
    "ric = \"BBVA.MC\"\n",
    "benchmark = \"^STOXX\"\n",
    "hedge_rics = ['SAN.MC', 'REP.MC']\n",
    "delta_0 = 10\n",
    "\n",
    "\n",
    "def compute_beta(ric, benchmark, bool_print=False):\n",
    "    # portfolio beta: beta_0\n",
    "    capm = stream_classes.capm_manager(ric, benchmark)\n",
    "    capm.load_timeseries()\n",
    "    capm.compute()\n",
    "    # \n",
    "    if bool_print:\n",
    "        print('------')\n",
    "        print(capm)\n",
    "    beta = capm.beta\n",
    "    return beta\n",
    "\n",
    "\n",
    "# computa beta_0 BBVA.MC\n",
    "beta_0 = compute_beta(ric, benchmark, bool_print=False)\n",
    "# beta en dólares BBVA.MC\n",
    "beta_usd = beta_0 * delta_0\n",
    "\n",
    "print('---------------')\n",
    "print('Imput portfolio')\n",
    "print('---------------')\n",
    "print('Delta mnUSD for ' + ric + ' is ' + str(delta_0))\n",
    "print('Beta for ' + ric + ' vs ' + benchmark + ' is ' + str(beta_0))\n",
    "print('Beta mnUSD for ' + ric + ' vs ' + benchmark + ' is ' + str(beta_usd))\n",
    "\n",
    "\n",
    "# compute betas for the hedges\n",
    "shape = [len(hedge_rics), 1]     # quiero una matriz 2*1\n",
    "betas = np.zeros(shape)          # quiero un vector vertical de 2*1\n",
    "print('-------------')\n",
    "print('Input hedges:')\n",
    "print('-------------')\n",
    "# a cada vector le calculo el beta para cada ric de cobertura\n",
    "counter = 0\n",
    "for i in hedge_rics:\n",
    "    beta = compute_beta(i, benchmark)\n",
    "    print('Beta_' + str(counter + 1) + ' for hedge[' + str(counter) + '] ' +\n",
    "          i + ' vs ' + benchmark + ' is ' + str(beta))\n",
    "    # lleno mi vector de betas\n",
    "    betas[counter] = beta\n",
    "    counter += 1\n",
    "\n",
    "deltas = np.ones(shape)\n",
    "\n",
    "# genero matriz de dos renglones deltas, betas\n",
    "mtx = np.transpose(          # traspuesta\n",
    "        np.column_stack(     # acomodo como columnas\n",
    "            (deltas, betas)  # relleno mis columnas\n",
    "        ))\n",
    "\n",
    "targets = - np.array([[delta_0],[beta_usd]])\n",
    "# inversa de la matriz mtx\n",
    "optimal_hedge = np.linalg.inv(mtx)\n",
    "\n",
    "\n",
    "# cobertura óptima\n",
    "optimal_hedge = np.linalg.inv(mtx).dot(targets)\n",
    "hedge_delta = np.sum(optimal_hedge)\n",
    "hedge_beta_usd = np.transpose(betas).dot(optimal_hedge).item()\n",
    "\n",
    "print('-------------------')\n",
    "print('Optimisation result')\n",
    "print('-------------------')\n",
    "print('Delta: ' + str(delta_0))\n",
    "print('Beta USD: ' + str(beta_usd))\n",
    "print('')\n",
    "print('Hedge delta:' + str(hedge_delta))\n",
    "print('Hedge beta:' + str(hedge_beta_usd))\n",
    "print('--------------------')\n",
    "print('Betas for the hedge:')\n",
    "print('--------------------')\n",
    "print(betas)\n",
    "print('--------------')\n",
    "print('Optimal hedge:')\n",
    "print('--------------')\n",
    "print(optimal_hedge)"
   ]
  },
  {
   "cell_type": "markdown",
   "id": "b1b879f5-0d46-4d5a-a869-bed704ba4b30",
   "metadata": {},
   "source": [
    "**CONSTRUYENDO LA CLASE**"
   ]
  },
  {
   "cell_type": "code",
   "execution_count": 2,
   "id": "9a6568b0-fc3d-411f-9c6b-b123b76a0a6d",
   "metadata": {},
   "outputs": [],
   "source": [
    "import scipy\n",
    "import importlib\n",
    "import numpy as np\n",
    "import pandas as pd\n",
    "import matplotlib as mpl\n",
    "import matplotlib.pyplot as plt\n",
    "from scipy.stats import skew, kurtosis, chi2, linregress\n",
    "# our own files an reload\n",
    "import stream_classes\n",
    "import stream_functions\n",
    "importlib.reload(stream_classes)\n",
    "importlib.reload(stream_functions)\n",
    "\n",
    "\n",
    "\n",
    "class hedge_maneger():\n",
    "    \n",
    "    def __init__(self, ric, benchmark, hedge_rics, delta):\n",
    "        self.ric = ric\n",
    "        self.benchmark = benchmark\n",
    "        self.hedge_ric = hedge_rics\n",
    "        self.delta = delta\n",
    "        self.dataframe= pd.DataFrame()            # quiero un df con el resumen de la cobertura\n",
    "        self.hedge_delta = None                   # para cálculo del algortimo\n",
    "        self.hedge_beta_usd = None                # para cálculo del algortimo\n",
    "    \n",
    "    def load_inputs(self, bool_print=False):\n",
    "        self.beta = stream_functions.compute_beta( # llamo función creada para calcular beta\n",
    "            self.ric, self.benchmark\n",
    "        )\n",
    "        self.beta_usd = self.beta * self.delta\n",
    "        hedge_betas = [                           # Calcula betas de cada valor de las coberturas\n",
    "            stream_functions.compute_beta(i, self.benchmark) for i in self.hedges_rics]\n",
    "        self.dataframe['ric'] = self.hedges_rics  # cargando columnas de mi df de salida\n",
    "        self.dataframe['deta'] = hedge_betas      # cargando columnas de mi df de salida\n",
    "        if bool_print:\n",
    "            print('---------------')\n",
    "            print('Imput portfolio')\n",
    "            print('---------------')\n",
    "            print('Delta mnUSD for ' + self.ric + ' is ' + str(self.delta))\n",
    "            print('Beta for ' + self.ric + ' vs ' + self.benchmark + ' is ' + str(self.beta))\n",
    "            print('Beta mnUSD for ' + self.ric + ' vs ' + self.benchmark + ' is ' + str(self.beta_usd))\n",
    "            print('---------------')\n",
    "            print('Input hedges:')\n",
    "            print('-------------')\n",
    "            # a cada vector le calculo el beta para cada ric de cobertura\n",
    "            for i in range(self.dataframe.shape[0]):\n",
    "                print('Beta for hedge[ ' + str(i) + '] = ' + self.dataframe['ric'][n] \\\n",
    "                      + ' vs ' + self.benchmark + ' is ' + str(self.dataframe['beta'][n]))\n",
    "    \n",
    "    def compute():\n",
    "        shape = [len(self.hedge_rics), 1]           # dimensión de las matrices que voy a usar\n",
    "        betas = np.array(self.dataframe['beta']).reshape(shape) # da forma igual a matriz shape\n",
    "        deltas = np.ones(shape)                     # matriz de unos de la forma shape\n",
    "        targets = - np.array([[self.delta],[self.beta_usd]])\n",
    "        mtx = np.transpose(                         # traspuesta\n",
    "                np.column_stack(                    # acomodo como columnas\n",
    "                    (deltas, betas)))               # relleno mis columnas\n",
    "        optimal_hedge = np.linalg.inv(mtx).dot(targets)\n",
    "        self.dataframe['delta'] = optimal_hedge\n",
    "        self.dataframe['beta_usd'] = betas * optimal_hedge # dot of matrix\n",
    "        self.hedge_delta = np.sum(self.dataframe['delta'])\n",
    "        self.hedge_beta_usd = np.sum(self.dataframe['beta_usd'])\n",
    "        if bool_print:\n",
    "            print('-------------------')\n",
    "            print('Optimisation result')\n",
    "            print('-------------------')\n",
    "            print('Delta: ' + str(delta_0))\n",
    "            print('Beta USD: ' + str(beta_usd))\n",
    "            print('')\n",
    "            print('Hedge delta:' + str(hedge_delta))\n",
    "            print('Hedge beta:' + str(hedge_beta_usd))\n",
    "            print('--------------------')\n",
    "            print('Betas for the hedge:')\n",
    "            print('--------------------')\n",
    "            print(betas)\n",
    "            print('--------------')\n",
    "            print('Optimal hedge:')\n",
    "            print('--------------')\n",
    "            print(optimal_hedge)"
   ]
  },
  {
   "cell_type": "markdown",
   "id": "fb928250-4081-41f5-a453-242ce5507101",
   "metadata": {},
   "source": [
    "**Guardo class hedge_maneger() en `stream_classes.py`**"
   ]
  },
  {
   "cell_type": "code",
   "execution_count": 9,
   "id": "401ae0df-9710-413d-b9d7-891d27e9973b",
   "metadata": {},
   "outputs": [
    {
     "name": "stdout",
     "output_type": "stream",
     "text": [
      "---------------\n",
      "Imput portfolio\n",
      "---------------\n",
      "Delta mnUSD for BBVA.MC is 10\n",
      "Beta for BBVA.MC vs ^STOXX is 1.3527\n",
      "Beta mnUSD for BBVA.MC vs ^STOXX is 13.527000000000001\n",
      "---------------\n",
      "Input hedges:\n",
      "-------------\n",
      "Beta for hedge[ 0] = SAN.MC vs ^STOXX is 1.4513\n",
      "Beta for hedge[ 1] = REP.MC vs ^STOXX is 1.3007\n",
      "-------------------\n",
      "Optimisation result\n",
      "-------------------\n",
      "Delta: 10\n",
      "Beta USD: 13.527000000000001\n",
      "\n",
      "Hedge delta:-10.0\n",
      "Hedge beta:-13.527000000000005\n",
      "--------------------\n",
      "Betas for the hedge:\n",
      "--------------------\n",
      "[[1.4513]\n",
      " [1.3007]]\n",
      "--------------\n",
      "Optimal hedge:\n",
      "--------------\n",
      "[[-3.45285525]\n",
      " [-6.54714475]]\n"
     ]
    }
   ],
   "source": [
    "import importlib\n",
    "# our own files an reload\n",
    "import stream_classes\n",
    "import stream_functions\n",
    "importlib.reload(stream_classes)\n",
    "importlib.reload(stream_functions)\n",
    "\n",
    "# imput parameters\n",
    "ric = \"BBVA.MC\"\n",
    "benchmark = \"^STOXX\"\n",
    "hedge_rics = ['SAN.MC', 'REP.MC']\n",
    "delta = 10\n",
    "\n",
    "hedge = stream_classes.hedge_maneger(ric, benchmark, hedge_rics, delta)\n",
    "hedge.load_inputs(bool_print=True)\n",
    "hedge.compute(bool_print=True)"
   ]
  },
  {
   "cell_type": "code",
   "execution_count": 11,
   "id": "352d1c2b-8884-4ee9-b256-46bcdd31e43f",
   "metadata": {},
   "outputs": [
    {
     "data": {
      "text/html": [
       "<div>\n",
       "<style scoped>\n",
       "    .dataframe tbody tr th:only-of-type {\n",
       "        vertical-align: middle;\n",
       "    }\n",
       "\n",
       "    .dataframe tbody tr th {\n",
       "        vertical-align: top;\n",
       "    }\n",
       "\n",
       "    .dataframe thead th {\n",
       "        text-align: right;\n",
       "    }\n",
       "</style>\n",
       "<table border=\"1\" class=\"dataframe\">\n",
       "  <thead>\n",
       "    <tr style=\"text-align: right;\">\n",
       "      <th></th>\n",
       "      <th>ric</th>\n",
       "      <th>beta</th>\n",
       "      <th>delta</th>\n",
       "      <th>beta_usd</th>\n",
       "    </tr>\n",
       "  </thead>\n",
       "  <tbody>\n",
       "    <tr>\n",
       "      <th>0</th>\n",
       "      <td>SAN.MC</td>\n",
       "      <td>1.4513</td>\n",
       "      <td>-3.452855</td>\n",
       "      <td>-5.011129</td>\n",
       "    </tr>\n",
       "    <tr>\n",
       "      <th>1</th>\n",
       "      <td>REP.MC</td>\n",
       "      <td>1.3007</td>\n",
       "      <td>-6.547145</td>\n",
       "      <td>-8.515871</td>\n",
       "    </tr>\n",
       "  </tbody>\n",
       "</table>\n",
       "</div>"
      ],
      "text/plain": [
       "      ric    beta     delta  beta_usd\n",
       "0  SAN.MC  1.4513 -3.452855 -5.011129\n",
       "1  REP.MC  1.3007 -6.547145 -8.515871"
      ]
     },
     "execution_count": 11,
     "metadata": {},
     "output_type": "execute_result"
    }
   ],
   "source": [
    "optimal_hedge = hedge.dataframe\n",
    "optimal_hedge"
   ]
  },
  {
   "cell_type": "markdown",
   "id": "bb0068ca-6ad6-49b3-91b2-1f0c18299e95",
   "metadata": {},
   "source": [
    "**Preguntas**\n",
    "\n",
    "¿Las coberturas son diarías?\n",
    "No tienen porqué serlo. Uno puede tomar rendimientos diaríos; por ejemplo el beta que hemos calculado arriba son 5 años de datos, del 2015 al 2020. Día tras día calcular rendimientos diarios no sognifica que tengas que cambiar diario. \n",
    "\n",
    "Muchas veces puedes tener 6 meses (120 puntos 20*6 días de trading) si avanzo un día voy a tener 119 días que son iguales y sólo uno que es diferente. Entonces tengo una diferencia de 1/120=0.00833 de 0.8% de diferencia y eso no es suficiente. Entonces yo podría calcular betas con rendimientos diario, recalibrar mis betas diariamente, pero sólo recalibrar mi porfolio cada semana, dos semanas o cada mes; dependerá de cuán costoso es mober mi portafolio (hay que pensar en los costos de transacción, voy a intentar comprar y vender la menos de veces posibles sin sacrificar la reactividad de mi portafolio)."
   ]
  },
  {
   "cell_type": "markdown",
   "id": "d90a3a72-9a48-48cd-b39b-f1c62c11f88c",
   "metadata": {},
   "source": [
    "## CAPM investment strategies and fund classification ['Portafolios de inversión']\n",
    "\n",
    "\n",
    "![4.png](img/04.png)\n",
    "\n",
    "\n",
    "Queremos entender los tres riesgos\n",
    "* Riesgo en $\\varepsilon$ : es el error en aproximación (que se puede diversificar).\n",
    "* Riesgo en $\\alpha$ : es el riesgo de mercado.\n",
    "* Riesgo en $\\beta$ : es el riesgo inherente al activo.\n",
    "\n",
    "Si yo considero la teoría de mercados eficientes **EMT**:  \n",
    ">* significa que estoy considerando que no hay alpha $\\alpha=0$\n",
    "\n",
    "Si estoy jugando con la **CAPM (Capital Asset Pricing Mode)** + **ETM (Teoría de mercados eficientes)**:\n",
    ">* significa que sólo tengo dos componentes de riesgo: $\\varepsilon$ y $\\beta$.\n",
    ">* El $\\varepsilon$ es un error que cuando tomo la esperanza $\\varepsilon$ tiene E[$\\varepsilon$]=0\n",
    ">* lo que nos lleva a un problema unidemiensional **1D** : $E[r_a]=\\beta E[r_M]$ del cual es único riesgo que tengo es $beta$\n",
    ">\n",
    ">Por lo tanto si quiero tener un portfolios completamente cubierto llibre de riesgo, necesito que beta sea cero porque esto significa que no tengo ningun riesgo en la componenete de beta\n",
    "\n",
    "Bajo esta perspectiva, para entender **Portafolios de inversión** vamos hacerlo sólamente con alphas y betas. Todo esto está en el plano alpha y beta (no voy a tomar en cuenta el épsilon) y necesito replicar cosas.\n",
    "\n",
    "\n",
    "---\n",
    "\n",
    "**RECONSTRUYENDO ESTRATEGIAS**\n",
    "\n",
    "**¿Cómo replico un Index tracker?**  \n",
    "> * replica el rendimiento de un benchmark (puede ser un indices S&P500, BMN, Stoxx600, etc o comodities, etc)\n",
    "> * para replicar necesito tener exactamente el rendimiento del mercado. \n",
    "> * Y si lo que quiero es replicar el rendimiento del mercado con mi activo $a$ necesito que $\\beta= 1$ y $\\alpha=0$ \n",
    ">\n",
    ">\n",
    ">![](img/06.png)\n",
    ">\n",
    "> Vemos que el  Index tracker es $beta=1$ (la estrella en amarillo) y $alpha=0$\n",
    "\n",
    "Lo que estoy intentando hacer es: \n",
    "> $r_{a} = \\alpha + \\beta r_M + \\varepsilon$  \n",
    ">\n",
    ">alpha y beta yo los conozco\n",
    ">* alpha: es el rendimiento intrínsico de mi activo que de acuerdo a la teoría de mercados eficientes tiene que ser cero pero no necesariamente lo es. $\\alpha$ es el rendimiento de $r_a$ que no está explicado por el mercado.\n",
    ">* beta: es el rendimiento de mi activo $r_a$ que está explicado por el mercado $\\beta r_M$\n",
    ">\n",
    "> Entonces yo me estoy quitando el $\\varepsilon$rror que sólo es ruído o me supongo que el modelo es perfecto, que no hay error. Entonces estamos ahora mismo en este plano **2D** alpha-beta del dibujo.\n",
    "\n",
    "Supongamos que uso $benchmark=STOXX50E$ eurostoxx sólo de la zona euro.  Lo hago porque son los futuros más líquidos de europa.  \n",
    "Para Index tracker en STOXX50E con $\\beta= 1$ y $\\alpha=0$; si quiero $\\beta= 1$ necesito invertir en el STOXX50E y nada mas que en el STOXX50E\n",
    "> * tracker : necesito comprar los futuros de los STOXX50E\n",
    "> ¿cómo lo puedo hacer para que eso vaya cambiando? los futuros son contratos que tiene una madurez, son a 6, 9 y 12 meses. Los futuros más liquidos son los futuros más cercanos a la expiración (los que van en los próximos tres meses o menos). Cuando tenemos un futuro que va a exprirar, lo que hacemos es vender los futuros de la expiración actual y con ese dinero que optengo compro futuros de la siguiente expiración. Si los futuros expiran en diciembre, cuando llegue diciembre voy a vender futuros de diciembre y recomprar futuros de marzo del siguiente año [esto se llama el **rol de futuros**].\n",
    ">\n",
    "> Compro futuros del STOXX50E que por definieción tiene $\\beta= 1$ y $\\alpha=0$"
   ]
  },
  {
   "cell_type": "markdown",
   "id": "3dc3055e-86f7-43b3-a65b-b4e15d8433e1",
   "metadata": {},
   "source": [
    "**¿Cómo replico un Asset Manager?**  \n",
    "\n",
    "> Yo comienzo con un **Index Traker** y lo voy a modificar tantito de manera que el **beta** no cambie mucho o sea que estemos en el eje vertial azul y que me mueva hacia arriba para opteneer más alpha. es decir, yo quiero tener un performans por encima del del **Index Traker** quiero vencer al traker\n",
    ">\n",
    ">![](img/06.png)\n",
    ">\n",
    "> ¿Cuáles son los elementos de juicio que tenemos? Quiero ver qué cara tiene el STOXX50E"
   ]
  },
  {
   "cell_type": "code",
   "execution_count": 15,
   "id": "4ecf0dd3-3faf-4ff0-97c4-72cc1a716b02",
   "metadata": {},
   "outputs": [
    {
     "data": {
      "image/png": "[encoded data removed]",
      "text/plain": [
       "<Figure size 432x288 with 1 Axes>"
      ]
     },
     "metadata": {
      "needs_background": "light"
     },
     "output_type": "display_data"
    }
   ],
   "source": [
    "import importlib\n",
    "import stream_classes\n",
    "import stream_functions\n",
    "importlib.reload(stream_functions)\n",
    "importlib.reload(stream_classes)\n",
    "\n",
    "ric = '^STOXX50E'\n",
    "# compute risk metrics for real returns\n",
    "jb = stream_classes.jarque_bera_test(ric)  # create object of class\n",
    "jb.load_timeseries()                       # load from load_timeseries() method\n",
    "jb.compute()                               # compute from compute() method\n",
    "#jb.plot_timeseries()                       # plot from plot_timeseries() method\n",
    "jb.plot_histogram()                        # plot from plot_histogram() method"
   ]
  },
  {
   "cell_type": "markdown",
   "id": "0bb5e895-6a7c-4c5c-8c2b-669f3c9c0085",
   "metadata": {},
   "source": [
    "Me está diciendo que la media es ¿0?  \n",
    "Esto es porque está redondiado a 4 cifras, vemos que sharpe_ratio es positiva entonces la media no es cero es positiva pero redeondeado a 4 cifras significativas es cero.\n",
    "\n",
    "Yo quiero mejorar al STOXX50E. Entonces, vamos a ver **betas**:\n",
    "\n",
    "y yo se que tengo dos activos el **cac-40 [FCHI]** del indice europeo (yo se por loq ue vimos antes) yo se que son casi colineales en el sentido de que el alpha es pequeño, el beta es casi 1 y que el error es pequeño."
   ]
  },
  {
   "cell_type": "code",
   "execution_count": 16,
   "id": "22eb4d8a-df8a-4021-aa19-12508624cb4d",
   "metadata": {},
   "outputs": [
    {
     "data": {
      "image/png": "[encoded data removed]",
      "text/plain": [
       "<Figure size 432x288 with 1 Axes>"
      ]
     },
     "metadata": {
      "needs_background": "light"
     },
     "output_type": "display_data"
    },
    {
     "name": "stdout",
     "output_type": "stream",
     "text": [
      "Linear regression of | ric : ^FCHI | benchmark : ^STOXX50E\n",
      "alpha (intercept) : 0.0001 | beta (slope) : 0.9747\n",
      "p-value : 0.0 | null hypothesis : False\n",
      "r-value : 0.9825 | r-squared : 0.9652\n"
     ]
    }
   ],
   "source": [
    "ric = \"^FCHI\"\n",
    "benchmark = \"^STOXX50E\" \n",
    "\n",
    "capm = stream_classes.capm_manager(ric, benchmark)\n",
    "capm.load_timeseries()\n",
    "capm.compute()\n",
    "capm.scatterplot()\n",
    "#capm.plot_normalised()\n",
    "#capm.plot_dual_axes()\n",
    "print(capm)"
   ]
  },
  {
   "cell_type": "markdown",
   "id": "d08423fe-a42f-48da-9359-d675cc4eaeed",
   "metadata": {},
   "source": [
    "Tenemos \n",
    "* r-squared : 0.9652 con este modelo se explica el 96%\n",
    "* r-value : 0.9825 correlación entre cac-40 [FCHI] y STOXX50E es del 98%, es casi el mismo."
   ]
  },
  {
   "cell_type": "code",
   "execution_count": 18,
   "id": "95d266fb-04a8-4cf9-8d0f-b76401b554b8",
   "metadata": {},
   "outputs": [
    {
     "data": {
      "image/png": "[encoded data removed]",
      "text/plain": [
       "<Figure size 432x288 with 1 Axes>"
      ]
     },
     "metadata": {
      "needs_background": "light"
     },
     "output_type": "display_data"
    },
    {
     "name": "stdout",
     "output_type": "stream",
     "text": [
      "Linear regression of | ric : ^GDAXI | benchmark : ^STOXX50E\n",
      "alpha (intercept) : 0.0001 | beta (slope) : 0.9868\n",
      "p-value : 0.0 | null hypothesis : False\n",
      "r-value : 0.9706 | r-squared : 0.9421\n"
     ]
    }
   ],
   "source": [
    "ric = \"^GDAXI\"\n",
    "benchmark = \"^STOXX50E\" \n",
    "\n",
    "capm = stream_classes.capm_manager(ric, benchmark)\n",
    "capm.load_timeseries()\n",
    "capm.compute()\n",
    "capm.scatterplot()\n",
    "#capm.plot_normalised()\n",
    "#capm.plot_dual_axes()\n",
    "print(capm)"
   ]
  },
  {
   "cell_type": "markdown",
   "id": "341e88ab-7bd5-4c59-80c5-c7b220357d3a",
   "metadata": {},
   "source": [
    "Tenemos \n",
    "* r-squared : 0.9652 con este modelo se explica el 96%\n",
    "* r-value : 0.9825 correlación entre cac-40 [FCHI] y STOXX50E es del 98%, es casi el mismo.\n",
    "\n",
    "Como en los tres tenemos una correlación casi perfecta, casi uno, podemos considerar indistintamente cualquiera de los tres.\n",
    "Como gerente de portfolios voy a escoger un activo entre el **dax GDAXI** y el **cac-40 FCHI**, invertir en él en vez de invertir en el **STOXX50E** del tal manera que yo tengo una ganacia un poquito por encima del STOXX50E\n",
    "\n",
    "![](img/06.png)\n",
    "\n",
    "En la estrella amarilla está el STOXX50E el **beta** se va a mover un porquito hacia la derecha o hacia la izquierda, pero yo quiero tener más **alpha**, yo quiero escoger el **dax GDAXI** o el **cac-40 FCHI** y ver cuál me va a dar mejor rendimientos."
   ]
  },
  {
   "cell_type": "code",
   "execution_count": null,
   "id": "c9b07507-dfad-46f0-b6a5-ec0b3822494f",
   "metadata": {},
   "outputs": [],
   "source": []
  }
 ],
 "metadata": {
  "kernelspec": {
   "display_name": "Python 3",
   "language": "python",
   "name": "python3"
  },
  "language_info": {
   "codemirror_mode": {
    "name": "ipython",
    "version": 3
   },
   "file_extension": ".py",
   "mimetype": "text/x-python",
   "name": "python",
   "nbconvert_exporter": "python",
   "pygments_lexer": "ipython3",
   "version": "3.8.8"
  }
 },
 "nbformat": 4,
 "nbformat_minor": 5
}
