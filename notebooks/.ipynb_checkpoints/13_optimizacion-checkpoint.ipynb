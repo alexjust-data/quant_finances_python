{
 "cells": [
  {
   "cell_type": "markdown",
   "id": "7c0a2b44-53f5-4f52-a1fa-a3e0ce38829a",
   "metadata": {},
   "source": [
    "# Algoritmos de optimización de portafolios\n",
    "\n",
    "https://machinelearningmastery.com/bfgs-optimization-in-python/\n",
    "\n",
    "Vemos cómo usar el método optimize.minimize de la librería scipy. Una ves que estamos satisfechos con el método (test unitario), creamos una optimización numérica de la cobertura de portafolios que teníamos antes:: esto nos permite comparar la solución numérica con la solución exacta. Terminamos agregando una penalización (siguiendo los argumentos de regularización de funciones de costo) para no tener coberturas \"muy grandes\" respecto al delta original.\n",
    "\n",
    "Por separado vamos a entener cómo funcinoa el método `optimize&minimize` de la librería scipy.\n",
    "* Luego voy a construírme la misma `cobertura de portafolios (beta-neutal, delta-neutral)` que tenían dos activos; como tiene dos ecuaciones, una para hacer beta-neutral y otra para hacer delta-neutral y tienen dos incognitas para hacer los dos activos de cobertura la solución existe y es única con algebra lineal siempre y cuando os betas no sena iguales.\n",
    "> Lo que haremos es tratar de buscar la misma solución numéricamente, esto me va a permitir tener confianza en el método **minimize** para haber cosas después.  \n",
    ">\n",
    "> Esto es lo que se lama un test unitario en programación, que lo que hace es tratar de ver de manera independiente para probar que ese pedazo de código hace lo que ha de hacer. En nuestro caso es satisfacer que la librería debe de funcionar como debe de funcionear.\n"
   ]
  },
  {
   "cell_type": "code",
   "execution_count": 186,
   "id": "cf2306ee-dcd6-4bfd-9ebc-609be0a55425",
   "metadata": {},
   "outputs": [
    {
     "name": "stdout",
     "output_type": "stream",
     "text": [
      "---------------\n",
      "Imput portfolio\n",
      "---------------\n",
      "Delta mnUSD for BBVA.MC is 10\n",
      "Beta for BBVA.MC vs ^STOXX50E is 1.2874\n",
      "Beta mnUSD for BBVA.MC vs ^STOXX50E is 12.874\n",
      "---------------\n",
      "Input hedges:\n",
      "-------------\n",
      "Beta for hedge[ 0] = SAN.MC vs ^STOXX50E is 1.3739\n",
      "Beta for hedge[ 1] = REP.MC vs ^STOXX50E is 1.1593\n",
      "-------------------\n",
      "Optimisation result Exact solution from linear algebra:\n",
      "-------------------\n",
      "Delta: 10\n",
      "Beta USD: 12.874\n",
      "\n",
      "Hedge delta:-10.0\n",
      "Hedge beta:-12.874000000000002\n",
      "--------------------\n",
      "Betas for the hedge:\n",
      "--------------------\n",
      "[[1.3739]\n",
      " [1.1593]]\n",
      "--------------\n",
      "Optimal hedge:\n",
      "--------------\n",
      "[[-5.96924511]\n",
      " [-4.03075489]]\n"
     ]
    }
   ],
   "source": [
    "import importlib\n",
    "import stream_classes\n",
    "import stream_functions\n",
    "importlib.reload(stream_functions)\n",
    "importlib.reload(stream_classes)\n",
    "\n",
    "ric = \"BBVA.MC\"\n",
    "benchmark = \"^STOXX50E\"\n",
    "hedge_rics = ['SAN.MC', 'REP.MC']\n",
    "delta = 10\n",
    "\n",
    "# compute optimal hedge\n",
    "hedge = stream_classes.hedge_maneger(ric, benchmark, hedge_rics, delta)\n",
    "hedge.load_inputs(bool_print=True)\n",
    "hedge.compute(bool_print=True)\n",
    "optimal_hedge = hedge.dataframe"
   ]
  },
  {
   "cell_type": "markdown",
   "id": "73c9baa5-3f9c-4873-9490-75956be0426a",
   "metadata": {},
   "source": [
    "Ahora lo que quiero es entrar en en el método `hedge.compute(bool_print=True)` de la clase `hedge.maneger()`"
   ]
  },
  {
   "cell_type": "code",
   "execution_count": 2,
   "id": "4846d0f5-a72c-4627-9e4a-402781062a90",
   "metadata": {},
   "outputs": [],
   "source": [
    "def compute(self, bool_print=False):\n",
    "    size = len(self.hedge_rics)      \n",
    "    if not size != 2:                          # para asegurarme que me dan 2 rics de cobert\n",
    "        print('-------')\n",
    "        print('Warning: cannot compute exact solution, size ' + str(size) + ' =/= 2')\n",
    "        return\n",
    "    deltas = np.ones([size, 1])                 # matriz de unos\n",
    "    targets = - np.array([[self.delta],[self.beta_usd]])\n",
    "    mtx = np.transpose(                         # traspuesta\n",
    "            np.column_stack(                    # acomodo como columnas\n",
    "                (deltas, self.betas)))          # relleno mis columnas\n",
    "    self.optimal_hedge = np.linalg.inv(mtx).dot(targets)\n",
    "    self.dataframe['delta'] = self.optimal_hedge\n",
    "    self.dataframe['beta_usd'] = self.betas * self.optimal_hedge # dot of matrix\n",
    "    self.hedge_delta = np.sum(self.dataframe['delta'])\n",
    "    self.hedge_beta_usd = np.sum(self.dataframe['beta_usd'])\n",
    "    if bool_print:\n",
    "        self.print_output('Exact solution from linear algebra')"
   ]
  },
  {
   "cell_type": "markdown",
   "id": "c4172692-7752-4e5a-b439-bc9155b17ee2",
   "metadata": {},
   "source": [
    "En este método respecto al del notebook anterior he realizado pequeños cambios, simplemente he separado el `print` del método antiguo y lo he puesto como método independiente porque voy a crearme otro método **`compute_numerical`**  y así reciclaré el print, luego ajusté el código un poco, pero básicamente es lo mismo que teníamos.\n",
    "\n",
    "Para crear este nuevo método usaré una nueva librería llamada `minimize`, que minimiza y optimiza la función de costes:"
   ]
  },
  {
   "cell_type": "code",
   "execution_count": null,
   "id": "be3ce155-ce55-4506-aab9-fbec8f67161a",
   "metadata": {},
   "outputs": [],
   "source": [
    "from scipy.optimize import minimize\n",
    "\n",
    "\"\"\"\n",
    "Docstring:\n",
    "Minimization of scalar function of one or more variables.\n",
    "\"\"\"\n",
    "\n",
    "#minimize?                    # veamos cómo trabaja esta function\n",
    "\n",
    "Signature:\n",
    "minimize(\n",
    "    fun,                      # tengo que darle una función\n",
    "    x0,                       # \n",
    "    args=(),                  #\n",
    "    method=None,              # el método que usaremos es - 'BFGS'\n",
    "    jac=None,\n",
    "    hess=None,\n",
    "    hessp=None,\n",
    "    bounds=None,\n",
    "    constraints=(),\n",
    "    tol=None,\n",
    "    callback=None,\n",
    "    options=None,\n",
    ")\n",
    "\n",
    "Parameters\n",
    "----------\n",
    "fun : callable\n",
    "    The objective function to be minimized.\n",
    "\n",
    "        ``fun(x, *args) -> float``\n",
    "\n",
    "    where ``x`` is an 1-D array with shape (n,) and ``args``\n",
    "    is a tuple of the fixed parameters needed to completely\n",
    "    specify the function.\n",
    "x0 : ndarray, shape (n,)\n",
    "    Initial guess. Array of real elements of size (n,),\n",
    "    where 'n' is the number of independent variables.\n",
    "args : tuple, optional\n",
    "    Extra arguments passed to the objective function and its\n",
    "    derivatives (`fun`, `jac` and `hess` functions).\n",
    "method : str or callable, optional\n",
    "    Type of solver.  Should be one of\n",
    "\n",
    "        - 'Nelder-Mead' :ref:`(see here) <optimize.minimize-neldermead>`\n",
    "        - 'Powell'      :ref:`(see here) <optimize.minimize-powell>`\n",
    "        - 'CG'          :ref:`(see here) <optimize.minimize-cg>`\n",
    "        - 'BFGS'        :ref:`(see here) <optimize.minimize-bfgs>`\n",
    "        - 'Newton-CG'   :ref:`(see here) <optimize.minimize-newtoncg>`\n",
    "        - 'L-BFGS-B'    :ref:`(see here) <optimize.minimize-lbfgsb>`\n",
    "        - 'TNC'         :ref:`(see here) <optimize.minimize-tnc>`\n",
    "        - 'COBYLA'      :ref:`(see here) <optimize.minimize-cobyla>`\n",
    "        - 'SLSQP'       :ref:`(see here) <optimize.minimize-slsqp>`\n",
    "        - 'trust-constr':ref:`(see here) <optimize.minimize-trustconstr>`\n",
    "        - 'dogleg'      :ref:`(see here) <optimize.minimize-dogleg>`\n",
    "        - 'trust-ncg'   :ref:`(see here) <optimize.minimize-trustncg>`\n",
    "        - 'trust-exact' :ref:`(see here) <optimize.minimize-trustexact>`\n",
    "        - 'trust-krylov' :ref:`(see here) <optimize.minimize-trustkrylov>`\n",
    "        - custom - a callable object (added in version 0.14.0),\n",
    "          see below for description."
   ]
  },
  {
   "cell_type": "markdown",
   "id": "a6301b97-1489-4e64-a3c1-9e5607e37373",
   "metadata": {},
   "source": [
    "---\n",
    "\n",
    "Usamos el método - 'BFGS' porque calcula el Jacobiano y Heisseano directo y es ideal para optimizar cuadráticas:\n",
    "\n",
    "> Comments on the metohd for minimize:  \n",
    "The BFGS method does not require to provide explicity the Jacobian or Hessian. There are other mothods, but I use this one for my optmisers in trading. It computes numerically the Jacobian and Hessian: ideal for quadratic optimisations.  \n",
    "\n",
    "---\n",
    "\n",
    "\n",
    "Voy a crear la función tonta de prueba (la que tenemos que pasar), esta función la usaré de test para ver su funciona bien el método `minimize` la nueva librería. Realizaré test con vectores unitarios y ceros para que me dé como resultado las mismas raices de entada.\n",
    "\n",
    "* $x = [0, 1]$\n",
    "* roots = $[2, -1]$\n",
    "* coeff = $\\begin{bmatrix}\n",
    "              1, \\\\\n",
    "              1\n",
    "            \\end{bmatrix}$\n",
    "\n",
    "for n in range(len(x)):\n",
    ">$f $+=$ \\text{coeff}[n]*( x[n] - \\text{roots}[n])^2$\n",
    ">* $1* (0 - 2)^2$ +\n",
    ">* $1* (1 - (-1))^2$"
   ]
  },
  {
   "cell_type": "code",
   "execution_count": 188,
   "id": "fa13243d-817c-42f2-9dd7-59904e4f9189",
   "metadata": {},
   "outputs": [],
   "source": [
    "# reset all variables\n",
    "%reset -f\n",
    "\n",
    "import importlib\n",
    "import stream_classes\n",
    "import stream_functions\n",
    "importlib.reload(stream_functions)\n",
    "importlib.reload(stream_classes)\n",
    "import scipy\n",
    "import importlib\n",
    "import numpy as np\n",
    "import pandas as pd\n",
    "import matplotlib as mpl\n",
    "import matplotlib.pyplot as plt\n",
    "from scipy.stats import skew, kurtosis, chi2, linregress\n",
    "from scipy.optimize import minimize"
   ]
  },
  {
   "cell_type": "code",
   "execution_count": 189,
   "id": "345d0525-0dee-489c-854e-d9c7a7ad8fd0",
   "metadata": {},
   "outputs": [],
   "source": [
    "# define the function to minimize\n",
    "def cost_function(x, roots, coeffs):\n",
    "    \"\"\"\n",
    "    Parameters:\n",
    "        - x :\n",
    "        - roots :\n",
    "        - coeff : \n",
    "    \"\"\"\n",
    "    f = 0\n",
    "    for n in range(len(x)):\n",
    "        f += coeffs[n] * (x[n] - roots[n])**2\n",
    "    return f"
   ]
  },
  {
   "cell_type": "code",
   "execution_count": 190,
   "id": "93e7fa60-6426-4e75-a484-e7e4cb2ea7a3",
   "metadata": {},
   "outputs": [
    {
     "name": "stdout",
     "output_type": "stream",
     "text": [
      "[ 2. -1.]\n",
      "longitud array :2\n"
     ]
    }
   ],
   "source": [
    "# pongo los puntos para que los lea como enteros vector [2, 1]\n",
    "roots = np.array([2., -1.])\n",
    "print(roots)\n",
    "print(\"longitud array :\" + str(len(roots)))"
   ]
  },
  {
   "cell_type": "code",
   "execution_count": 191,
   "id": "b7691260-43c9-4dac-b21a-e810aeba15cc",
   "metadata": {},
   "outputs": [
    {
     "data": {
      "text/plain": [
       "array([[1.],\n",
       "       [1.]])"
      ]
     },
     "execution_count": 191,
     "metadata": {},
     "output_type": "execute_result"
    }
   ],
   "source": [
    "# Devuelve matriz de unos dado el tamaño [matrix 2*1]\n",
    "coeffs = np.ones([len(roots), 1])  \n",
    "coeffs"
   ]
  },
  {
   "cell_type": "code",
   "execution_count": 192,
   "id": "2f1aff6e-a92c-46bb-8c8e-a171250ea4de",
   "metadata": {},
   "outputs": [
    {
     "data": {
      "text/plain": [
       "array([[0.],\n",
       "       [0.]])"
      ]
     },
     "execution_count": 192,
     "metadata": {},
     "output_type": "execute_result"
    }
   ],
   "source": [
    "# inicializa optimización matriz 2*1\n",
    "x = np.zeros([len(roots), 1]) \n",
    "x"
   ]
  },
  {
   "cell_type": "code",
   "execution_count": 193,
   "id": "1f2c700a-ad25-4285-b3f8-b66bf5acfeb2",
   "metadata": {},
   "outputs": [
    {
     "name": "stdout",
     "output_type": "stream",
     "text": [
      "      fun: 9.029827044970221e-16\n",
      " hess_inv: array([[0.59999999, 0.2       ],\n",
      "       [0.2       , 0.90000001]])\n",
      "      jac: array([-2.16583089e-08, -3.27993206e-08])\n",
      "  message: 'Optimization terminated successfully.'\n",
      "     nfev: 9\n",
      "      nit: 2\n",
      "     njev: 3\n",
      "   status: 0\n",
      "  success: True\n",
      "        x: array([ 1.99999998, -1.00000002])\n",
      "----------------\n",
      "originals roots:\n",
      "[ 2. -1.]\n"
     ]
    }
   ],
   "source": [
    "optimal_result = minimize(fun=cost_function, \n",
    "                          x0=x, \n",
    "                          args=(roots, coeffs), \n",
    "                          method='BFGS')\n",
    "# objetos de resultados\n",
    "print(optimal_result)\n",
    "print('----------------')\n",
    "print('originals roots:')\n",
    "print(roots)"
   ]
  },
  {
   "cell_type": "markdown",
   "id": "9acdf170-1608-41cc-ba2a-9931d90eabb3",
   "metadata": {},
   "source": [
    "---\n",
    "* `la función` es 0 : fun: 9.029827044970221e-16\n",
    "* tuvo `2 iteraciones` : nit: 2\n",
    "* la primera es 2 : 1.99999998\n",
    "* la segunda es -1 : -1.00000002\n",
    "\n",
    "La salida x es igual a las raíces por construcción de la función al multiplicar por uno y ceros. Así yo se que funciona.\n",
    "\n",
    "Parece que funciona, ahora en lugar de estar cambiando cosas a mano voy a generar raíces random"
   ]
  },
  {
   "cell_type": "code",
   "execution_count": 160,
   "id": "10b88085-0e35-4882-b380-9f15f8d006ab",
   "metadata": {},
   "outputs": [
    {
     "data": {
      "text/plain": [
       "array([-13,  17,  -6,  17,  -2])"
      ]
     },
     "execution_count": 160,
     "metadata": {},
     "output_type": "execute_result"
    }
   ],
   "source": [
    "# vector de 5 del (-20 al 19)\n",
    "roots = np.random.randint(low=-20,\n",
    "                          high=20,\n",
    "                          size=5)\n",
    "coeffs = np.ones([len(roots), 1]) \n",
    "x = np.zeros([len(roots), 1]) \n",
    "\n",
    "roots "
   ]
  },
  {
   "cell_type": "code",
   "execution_count": 161,
   "id": "22c85bbe-23bc-408c-8e00-a922f3c12277",
   "metadata": {},
   "outputs": [
    {
     "name": "stdout",
     "output_type": "stream",
     "text": [
      "      fun: 1.5726891209054103e-12\n",
      " hess_inv: array([[ 0.89262774,  0.1404077 , -0.04955606,  0.1404077 , -0.0165192 ],\n",
      "       [ 0.1404077 ,  0.81639279,  0.06480307, -0.18360721,  0.02160169],\n",
      "       [-0.04955606,  0.06480307,  0.97712814,  0.06480307, -0.00762419],\n",
      "       [ 0.1404077 , -0.18360721,  0.06480307,  0.81639279,  0.02160169],\n",
      "       [-0.0165192 ,  0.02160169, -0.00762419,  0.02160169,  0.99745852]])\n",
      "      jac: array([ 1.20219847e-06, -1.49665103e-06,  5.42018856e-07, -1.49665103e-06,\n",
      "        1.98336363e-07])\n",
      "  message: 'Optimization terminated successfully.'\n",
      "     nfev: 42\n",
      "      nit: 4\n",
      "     njev: 7\n",
      "   status: 0\n",
      "  success: True\n",
      "        x: array([-12.99999941,  16.99999924,  -5.99999974,  16.99999924,\n",
      "        -1.99999991])\n",
      "----------------\n",
      "originals roots:\n",
      "[-13  17  -6  17  -2]\n"
     ]
    }
   ],
   "source": [
    "optimal_result = minimize(fun=cost_function, \n",
    "                          x0=x, \n",
    "                          args=(roots, coeffs), \n",
    "                          method='BFGS')\n",
    "# objetos de resultados\n",
    "print(optimal_result)\n",
    "print('----------------')\n",
    "print('originals roots:')\n",
    "print(roots)"
   ]
  },
  {
   "cell_type": "code",
   "execution_count": 162,
   "id": "8a4fbf18-4c55-4df5-95ab-09420892d323",
   "metadata": {},
   "outputs": [
    {
     "data": {
      "text/plain": [
       "array([-12.99999941,  16.99999924,  -5.99999974,  16.99999924,\n",
       "        -1.99999991])"
      ]
     },
     "execution_count": 162,
     "metadata": {},
     "output_type": "execute_result"
    }
   ],
   "source": [
    "# puedo acceder al resultado de forma independiente\n",
    "optimal_result.x"
   ]
  },
  {
   "cell_type": "code",
   "execution_count": 163,
   "id": "8ef49850-47f4-4f00-ba84-74c88f49feb7",
   "metadata": {},
   "outputs": [
    {
     "data": {
      "text/plain": [
       "array([ 1.20219847e-06, -1.49665103e-06,  5.42018856e-07, -1.49665103e-06,\n",
       "        1.98336363e-07])"
      ]
     },
     "execution_count": 163,
     "metadata": {},
     "output_type": "execute_result"
    }
   ],
   "source": [
    "# puedo acceder a la jacobiana\n",
    "optimal_result.jac"
   ]
  },
  {
   "cell_type": "markdown",
   "id": "c9b6b82e-6a58-464c-9e53-627c53ce12c1",
   "metadata": {},
   "source": [
    "Lo que estoy haciendo es un test unitario, estoy tomando una unidad del código, es este caso el algortimo minimize y conociendo el resultado original, porque así me estoy construyendo mis raíces, conociendo el resultado de cuál es la fórmula que necesitamos cuál es la función que es cuadrática que tiene \n",
    "\n",
    "\n",
    "entonces yo sé que estas son las `soluciones ([  8   7 -16  16 -20])`  \n",
    "y estas son las soluciones numércias  `x: array([8.00000001, 7., -16.00000001,  16.00000001, -20.00000002])`,  \n",
    "entonces por el momento estoy satisfechode cómo funciona el minimize.\n",
    "\n",
    "---\n",
    "\n",
    "**Método nuevo para computar numéricamente:** \n",
    "\n",
    "**compute_numerical()**"
   ]
  },
  {
   "cell_type": "code",
   "execution_count": 111,
   "id": "6a1272dc-0c11-4e60-a1ee-9c6a92a2de27",
   "metadata": {},
   "outputs": [],
   "source": [
    "# método para clase hedge_maneger()\n",
    "\n",
    "def compute_numerical(self, bool_print=False):\n",
    "    x = np.zeros([len(self.betas), 1])           # núm de betas equivalente al num de raíces\n",
    "    args = (self.delta,                          # el delta del portafolios\n",
    "            self.beta_usd,                       # beta en dólares del portfolio\n",
    "            self.betas)                          # vector con betas de los activos de cobertura\n",
    "    optimal_result = minimize(fum=stream_functions.cost_function_beta_delta,  # la crearé después\n",
    "                              x0=x,\n",
    "                              args=args,\n",
    "                              method='BFGS')\n",
    "    self.optimal_hedge = optimal_result.x.reshape([len(self.betas), 1]) # lo deja como una matriz sin cambiar datos.\n",
    "    self.dataframe['delta'] = self.optimal_hedge                        # \n",
    "    self.dataframe['beta_usd'] = self.betas * self.optimal_hedge        # estoy multiplicando matrices (vectores columna) \n",
    "    self.hedge_delta = np.sum(self.dataframe['delta'])\n",
    "    self.hedge_delta_usd = np.sum(self.dataframe['beta_usd'])\n",
    "    if bool_print:\n",
    "        self.print_output('Numerical solution with optimize.minimize')"
   ]
  },
  {
   "cell_type": "markdown",
   "id": "ebece5f0-fe11-485e-8659-b0bc2a7cca18",
   "metadata": {},
   "source": [
    "La función que me cree para la clase es **`cost_function_beta_delta()`**\n",
    "\n",
    "Yo quiero algo que sea beta neutral y delta neutral. Entonces yo quiero esto de aquí \n",
    "* delta-neutral $S_0+\\sum S_n=0$:\n",
    "> Este es el delta del portafolios $S_O$  \n",
    "> Este es mi vector x --> $S_1, ..., S_N$ que es la sumatoria $\\sum S_n$\n",
    "* beta-neutral $\\beta_0 S_0+\\sum \\beta_n S_n=0$\n",
    "> Este es el beta en dólares del postafolio  $\\beta_0 S_0$.  \n",
    "> El producto punto del `vector de betas` traspuesto por el `vector x` $\\beta_n S_n$\n",
    "\n",
    "![](img/09.png)\n",
    "\n",
    "Cómo traducimos esto es python?"
   ]
  },
  {
   "cell_type": "code",
   "execution_count": 125,
   "id": "b575a062-4244-4bcb-b639-5acd59ac02fe",
   "metadata": {},
   "outputs": [],
   "source": [
    "def cost_function_beta_delta(x, delta, beta_usd, betas):\n",
    "    \"\"\" Tomo las dos funciones  [f_delta, f_beta] al cuadrado porque yo lo que \n",
    "    quiero es que las dos sean igual a cero en mi función de coste y quiero \n",
    "    minimizar dicho coste, el mímino será cuando  el primer cuadrado sea \n",
    "    cero y el segundo cuadrado sea cero.\n",
    "    \"\"\"\n",
    "    f_delta = (sum(x).items() +                          # sumatoria del vector x .items() es para que tome el escalar\n",
    "               delta)**2                                 # delta del portafolios\n",
    "    f_beta = (np.transpose(betas).dot(x).items() +       # traspuesta v. betas por vector x. Me da matriz 1*\n",
    "              beta_usd)**2                    \n",
    "    f = f_delta + f_beta\n",
    "    return f"
   ]
  },
  {
   "cell_type": "markdown",
   "id": "015ad220-4f41-4aa2-9c48-902d5c1ce835",
   "metadata": {},
   "source": [
    "Añado la función a **`stream_functions.py`**"
   ]
  },
  {
   "cell_type": "code",
   "execution_count": 226,
   "id": "ea3504eb-775f-4710-b625-292c95baa1eb",
   "metadata": {},
   "outputs": [
    {
     "name": "stdout",
     "output_type": "stream",
     "text": [
      "---------------\n",
      "Imput portfolio\n",
      "---------------\n",
      "Delta mnUSD for BBVA.MC is 10\n",
      "Beta for BBVA.MC vs ^STOXX50E is 1.2874\n",
      "Beta mnUSD for BBVA.MC vs ^STOXX50E is 12.874\n",
      "---------------\n",
      "Input hedges:\n",
      "-------------\n",
      "Beta for hedge[ 0] = SAN.MC vs ^STOXX50E is 1.3739\n",
      "Beta for hedge[ 1] = REP.MC vs ^STOXX50E is 1.1593\n",
      "\n",
      "COMPUTE EXACT:\n",
      "-------------------\n",
      "Optimisation result Exact solution from linear algebra:\n",
      "-------------------\n",
      "Delta: 10\n",
      "Beta USD: 12.874\n",
      "\n",
      "Hedge delta:-10.0\n",
      "Hedge beta:-12.874000000000002\n",
      "--------------------\n",
      "Betas for the hedge:\n",
      "--------------------\n",
      "[[1.3739]\n",
      " [1.1593]]\n",
      "--------------\n",
      "Optimal hedge:\n",
      "--------------\n",
      "[[-5.96924511]\n",
      " [-4.03075489]]\n",
      "\n",
      "COMPUTE NUMERICAL:\n",
      "-------------------\n",
      "Optimisation result Numerical solution with optimize.minimize:\n",
      "-------------------\n",
      "Delta: 10\n",
      "Beta USD: 12.874\n",
      "\n",
      "Hedge delta:-10.000000116987717\n",
      "Hedge beta:-12.874000040613176\n",
      "--------------------\n",
      "Betas for the hedge:\n",
      "--------------------\n",
      "[[1.3739]\n",
      " [1.1593]]\n",
      "--------------\n",
      "Optimal hedge:\n",
      "--------------\n",
      "[[-5.96924466]\n",
      " [-4.03075545]]\n"
     ]
    }
   ],
   "source": [
    "import importlib\n",
    "import stream_classes\n",
    "import stream_functions\n",
    "importlib.reload(stream_functions)\n",
    "importlib.reload(stream_classes)\n",
    "\n",
    "ric = \"BBVA.MC\"\n",
    "benchmark = \"^STOXX50E\"\n",
    "hedge_rics = ['SAN.MC', 'REP.MC']\n",
    "delta = 10\n",
    "\n",
    "# compute optimal hedge\n",
    "hedge = stream_classes.hedge_maneger(ric, benchmark, hedge_rics, delta)\n",
    "hedge.load_inputs(bool_print=True)\n",
    "print('\\nCOMPUTE EXACT:')\n",
    "hedge.compute(bool_print=True)\n",
    "print('\\nCOMPUTE NUMERICAL:')\n",
    "hedge.compute_numerical(bool_print=True)\n",
    "optimal_hedge = hedge.dataframe"
   ]
  },
  {
   "cell_type": "markdown",
   "id": "2b12feab-79bc-4b2c-8a0b-53dbbb0b7eb2",
   "metadata": {},
   "source": [
    "---\n",
    "\n",
    "**RESULTADOS**\n",
    "\n",
    "El resultado es exáctamente el mismo, osea que estoy satisfecho con el nuevo método.  \n",
    "La diferencia es que antes sóLo podía añadir dos valores para cubrirme, ahora puedo con infinidad de valores:"
   ]
  },
  {
   "cell_type": "code",
   "execution_count": 227,
   "id": "7cb8fbcf-41fa-4bba-b9e0-57f4a642b072",
   "metadata": {},
   "outputs": [
    {
     "name": "stdout",
     "output_type": "stream",
     "text": [
      "---------------\n",
      "Imput portfolio\n",
      "---------------\n",
      "Delta mnUSD for BBVA.MC is 10\n",
      "Beta for BBVA.MC vs ^STOXX50E is 1.2874\n",
      "Beta mnUSD for BBVA.MC vs ^STOXX50E is 12.874\n",
      "---------------\n",
      "Input hedges:\n",
      "-------------\n",
      "Beta for hedge[ 0] = SAN.MC vs ^STOXX50E is 1.3739\n",
      "Beta for hedge[ 1] = ^FCHI vs ^STOXX50E is 0.9747\n",
      "Beta for hedge[ 2] = ^GDAXI vs ^STOXX50E is 0.9868\n"
     ]
    }
   ],
   "source": [
    "ric = \"BBVA.MC\"\n",
    "benchmark = \"^STOXX50E\"\n",
    "hedge_rics = ['SAN.MC', '^FCHI', '^GDAXI']\n",
    "delta = 10\n",
    "\n",
    "# compute optimal hedge\n",
    "hedge = stream_classes.hedge_maneger(ric, benchmark, hedge_rics, delta)\n",
    "hedge.load_inputs(bool_print=True)"
   ]
  },
  {
   "cell_type": "markdown",
   "id": "062bd655-dc08-41b7-9af4-1015f5635b20",
   "metadata": {},
   "source": [
    "**CALCULAMOS CON TRES VALORES PARA CUBRIR BBVA**"
   ]
  },
  {
   "cell_type": "code",
   "execution_count": 228,
   "id": "6abc0529-fe5c-4d43-a96c-c60ab4c6d310",
   "metadata": {},
   "outputs": [
    {
     "name": "stdout",
     "output_type": "stream",
     "text": [
      "\n",
      "########################## COMPUTE EXACT:\n",
      "-------\n",
      "Warning: cannot compute exact solution, hedge rics size 3 =/= 2\n",
      "\n",
      "########################## COMPUTE NUMERICAL:\n",
      "-------------------\n",
      "Optimisation result Numerical solution with optimize.minimize:\n",
      "-------------------\n",
      "Delta: 10\n",
      "Beta USD: 12.874\n",
      "\n",
      "Hedge delta:-9.99999999638392\n",
      "Hedge beta:-12.874000018665479\n",
      "--------------------\n",
      "Betas for the hedge:\n",
      "--------------------\n",
      "[[1.3739]\n",
      " [0.9747]\n",
      " [0.9868]]\n",
      "--------------\n",
      "Optimal hedge:\n",
      "--------------\n",
      "[[-7.79665114]\n",
      " [-0.9986475 ]\n",
      " [-1.20470135]]\n"
     ]
    }
   ],
   "source": [
    "print('\\n########################## COMPUTE EXACT:')\n",
    "hedge.compute(bool_print=True)\n",
    "print('\\n########################## COMPUTE NUMERICAL:')\n",
    "hedge.compute_numerical(bool_print=True)\n",
    "optimal_hedge = hedge.dataframe"
   ]
  },
  {
   "cell_type": "markdown",
   "id": "e7ee605a-fc66-47c0-9109-79b92ed00893",
   "metadata": {},
   "source": [
    "---\n",
    "\n",
    "**CUANDO TENGO 3 ACTIVOS ESTOY EN $R^3$**\n",
    "\n",
    "![](img/10.png)\n",
    "\n",
    "* El hiperplano $L_{delta}$ es un plano de dimensión 2\n",
    "* El hiperplano $L_{beta}$ es un plano de dimensión 2\n",
    "\n",
    "Por lo tanto la solución en una recta $P_{ideal}$ es N-2 = 1 .  \n",
    "Esto nos dice que tengo una infinidad de soluciones. Si a mi algoritmo le cambio la inicialización y en lugar de comenzar en 0 como habíamos hecho en el **test**, le hago inicializar en otros valores, el algoritmo va a encontrar otra solución porque tenemos infinitas soluciones que están en una recta.\n",
    "\n",
    "En el ejemplo anterior voy a cubrir con \n",
    "* Santander : -7MM\n",
    "* Futuros cac-40 : -1MM\n",
    "* Futuros Dax : -1.2MM\n",
    "> este solución me gusta porque los futuros son muy liquidos y son venta inmediata mientras espero colocar el santander."
   ]
  },
  {
   "cell_type": "code",
   "execution_count": 229,
   "id": "e528863e-fd99-4376-aa51-fe9c026942ec",
   "metadata": {},
   "outputs": [
    {
     "name": "stdout",
     "output_type": "stream",
     "text": [
      "---------------\n",
      "Imput portfolio\n",
      "---------------\n",
      "Delta mnUSD for BBVA.MC is 10\n",
      "Beta for BBVA.MC vs ^STOXX50E is 1.2874\n",
      "Beta mnUSD for BBVA.MC vs ^STOXX50E is 12.874\n",
      "---------------\n",
      "Input hedges:\n",
      "-------------\n",
      "Beta for hedge[ 0] = SAN.MC vs ^STOXX50E is 1.3739\n",
      "\n",
      "################################ COMPUTE NUMERICAL:\n",
      "-------------------\n",
      "Optimisation result Numerical solution with optimize.minimize:\n",
      "-------------------\n",
      "Delta: 10\n",
      "Beta USD: 12.874\n",
      "\n",
      "Hedge delta:-9.58843920611317\n",
      "Hedge beta:-13.173556625278884\n",
      "--------------------\n",
      "Betas for the hedge:\n",
      "--------------------\n",
      "[[1.3739]]\n",
      "--------------\n",
      "Optimal hedge:\n",
      "--------------\n",
      "[[-9.58843921]]\n"
     ]
    }
   ],
   "source": [
    "ric = \"BBVA.MC\"\n",
    "benchmark = \"^STOXX50E\"\n",
    "hedge_rics = ['SAN.MC']\n",
    "delta = 10\n",
    "\n",
    "\n",
    "# compute optimal hedge\n",
    "hedge = stream_classes.hedge_maneger(ric, benchmark, hedge_rics, delta)\n",
    "hedge.load_inputs(bool_print=True)\n",
    "print('\\n################################ COMPUTE NUMERICAL:')\n",
    "hedge.compute_numerical(bool_print=True)\n",
    "optimal_hedge = hedge.dataframe"
   ]
  },
  {
   "cell_type": "markdown",
   "id": "7ac385ad-1d40-458d-90bb-b4a2581a97a6",
   "metadata": {},
   "source": [
    "---\n",
    "Si fuera **delta-neutral** tendría que ser 10MM.\n",
    "Si fuera **beta-neutral** tendría que ser 12.874MM\n",
    "\n",
    "Esta calculando algo diferente. \n",
    "* El `Beta for BBVA.MC vs ^STOXX50E` es 1.2874\n",
    "* El beta de la cobertura `Beta SAN.MC vs ^STOXX50E`es más grande : 1.3739\n",
    "\n",
    "Entonces necesito menos de 10MM para cubrir, y es lo que me está diciendo el resultado. Con `-9.58843921` tengo suficiente para cubrir.\n",
    "\n",
    "**PORQUÉ ESTOY CONTENTO**  \n",
    "1. Reproduce bien la parte exacta. Este es mi test unitario.\n",
    "2. Tal como lo tengo construído ya no me estoy limitando nada más a dos activos, puedo poner tres o más, o uno."
   ]
  },
  {
   "cell_type": "markdown",
   "id": "31799304-2c6e-481e-929d-8e47dee1595f",
   "metadata": {},
   "source": [
    "**Preguntas**  \n",
    "¿Puede ocurrir que tengamos una función de coste con multiples mínimos locales?  \n",
    "¿Qué podríamos hacer en ese caso?\n",
    "> Depende de mi inicialización. \n",
    "> En el método `compute_numerical` mi inicialización es alrededor de 0. Si yo pusiera puros unos, o un millon, voy a encontrar una solución diferente. Cómo lo podemos hacer, hay muchas maneras. Ahora vamos a ver una de ellas que se llama `regularización`.\n",
    "\n",
    "¿La inicialización te permitiría, ya que tienes tu portafolio de inversión y buscando con un activo determinado, la cobertura óptima utilizando lo que ya tienes en tu portafolios?\n",
    "> Es diferente. Lo que tu dices estás suponiendo que tengo una inicialización con el activo Bbva, en tu caso estás suponiendo que no tienes dos activos del bbva, tienes tres activos de inversión y que bbva es 10MM. Pero eso es una pregunta financiera en el sentido de ¿quieres modificar tu exposición en Bbva o no?\n",
    ">\n",
    "> Mi pregunta es diferente, tengo 10MM del Bbva, no me los toques, cúbrelo con otra cosa.\n",
    ">\n",
    "> Tu pregunta está sugiriendo, tengo 10MM, te lanzo el DAX y el CAC-40 pero se vale modificar un poco el BBVA de tal menera que el riesgo se minimice. Y esto `es más desde el punto de vista de optimización de portafolio y no desde cobertura`.\n",
    "\n",
    "---\n",
    "Cuando yo calculaba esto no me gustaba:"
   ]
  },
  {
   "cell_type": "code",
   "execution_count": 230,
   "id": "5da15726-cbb8-4cdc-b538-67b55cc75c8b",
   "metadata": {},
   "outputs": [
    {
     "name": "stdout",
     "output_type": "stream",
     "text": [
      "---------------\n",
      "Imput portfolio\n",
      "---------------\n",
      "Delta mnUSD for BBVA.MC is 10\n",
      "Beta for BBVA.MC vs ^STOXX50E is 1.2874\n",
      "Beta mnUSD for BBVA.MC vs ^STOXX50E is 12.874\n",
      "---------------\n",
      "Input hedges:\n",
      "-------------\n",
      "Beta for hedge[ 0] = ^FCHI vs ^STOXX50E is 0.9747\n",
      "Beta for hedge[ 1] = ^GDAXI vs ^STOXX50E is 0.9868\n",
      "\n",
      ">>>>>COMPUTE EXACT:<<<<<<<\n",
      "-------------------\n",
      "Optimisation result Exact solution from linear algebra:\n",
      "-------------------\n",
      "Delta: 10\n",
      "Beta USD: 12.874\n",
      "\n",
      "Hedge delta:-10.0\n",
      "Hedge beta:-12.873999999999995\n",
      "--------------------\n",
      "Betas for the hedge:\n",
      "--------------------\n",
      "[[0.9747]\n",
      " [0.9868]]\n",
      "--------------\n",
      "Optimal hedge:\n",
      "--------------\n",
      "[[ 248.42975207]\n",
      " [-258.42975207]]\n",
      "\n",
      ">>>>COMPUTE NUMERICAL:<<<<<<\n",
      "-------------------\n",
      "Optimisation result Numerical solution with optimize.minimize:\n",
      "-------------------\n",
      "Delta: 10\n",
      "Beta USD: 12.874\n",
      "\n",
      "Hedge delta:-10.000001360260256\n",
      "Hedge beta:-12.874001441685465\n",
      "--------------------\n",
      "Betas for the hedge:\n",
      "--------------------\n",
      "[[0.9747]\n",
      " [0.9868]]\n",
      "--------------\n",
      "Optimal hedge:\n",
      "--------------\n",
      "[[ 248.42976028]\n",
      " [-258.42976164]]\n"
     ]
    }
   ],
   "source": [
    "ric = \"BBVA.MC\"\n",
    "benchmark = \"^STOXX50E\"\n",
    "hedge_rics = ['^FCHI', '^GDAXI']\n",
    "delta = 10\n",
    "\n",
    "# compute optimal hedge\n",
    "hedge = stream_classes.hedge_maneger(ric, benchmark, hedge_rics, delta)\n",
    "hedge.load_inputs(bool_print=True)\n",
    "print('\\n>>>>>COMPUTE EXACT:<<<<<<<')\n",
    "hedge.compute(bool_print=True)\n",
    "print('\\n>>>>COMPUTE NUMERICAL:<<<<<<')\n",
    "hedge.compute_numerical(bool_print=True)\n",
    "optimal_hedge = hedge.dataframe"
   ]
  },
  {
   "cell_type": "markdown",
   "id": "cca08428-f70e-4b3f-b6b9-2170cbfeb505",
   "metadata": {},
   "source": [
    "---\n",
    "\n",
    "Vemos que tenemos:\n",
    "* Delta: 10\n",
    "* Beta USD: 12.874\n",
    "\n",
    "Con soluciones:\n",
    "* 248.42976028\n",
    "* -258.42976164\n",
    "\n",
    "Y como no me gusta esta respuesta, me gustaría sacrificar un poco la preción del delta y el beta, pero con tal de que estas soluciones esén del mismo lado. En otras palabras, si lo vemos desde el punto de vista deun fit numérico de algoritmo, lo que estamos haciendo aquí es un [overfiting](https://www.ibm.com/cloud/learn/overfitting) porque estoy siendo tan preciso que estoy siendo demasiado brutal con los pesos; me gustaría tener pesos pequeños. \n",
    "\n",
    "---\n",
    "\n",
    "Entonces vamos a enfocarnos en:   \n",
    "DATA SCIENCE AND MACHINE LEARNING. En concreto es regrersión logística y overfitting\n",
    "\n",
    "Tengo una función $C$ que dependen de unos parámetros $\\theta$ que es la variable : $C(\\theta)$  \n",
    "Voy a calcular en gradiente en $x_0$:\n",
    ">* el gradiente me va a decir cuál es la dirección por la cual el vector varía lo más rápido posible.\n",
    ">* por lo tanto si me muevo en la dirección \"- gradiente\" $- \\Delta C(\\theta)$; significa que me muevo en la dirección como un mínimo, en lo que crece más rápido.\n",
    "\n",
    "Voy a moverme en el espacio del parámetro (**learning rate $\\alpha$**) y voy bajando\n",
    "> $\\theta(k+1)=\\theta(k) - \\alpha \\Delta C(\\theta(K))$  \n",
    "> depende de donde inicie la convergencia será más rápida o más lenta. Pero dependiendo de cómo inicializo puedo ir a un mínimo local diferente.\n",
    "> Este es uno de los problemas d elas redes neuronales, por eso hay que correrlas varias veces, pra que si caigo en un minimo local buscar un mínimo local que sea menor que los mínimos locales anteriores.\n",
    "\n",
    "![](img/12.png)\n",
    "\n",
    "![](img/11.png)\n",
    "\n",
    "Entonces, **¿qué hacen las redes neuronales?**  \n",
    "> Tienen una función de costo $Cost(\\theta)$ que es posotiva\n",
    "\n",
    "$$\n",
    "Cost(\\theta) = - \\frac{1}{M} \\sum_{m=1}^{M} [y^m log h(x^{(m)} \\theta) - (1-y^m)log(1-h(x^{(m)}) \\theta)]\n",
    "$$\n",
    "\n",
    "![](img/16.png)\n",
    "\n",
    "Y lo que queremos es acercarnos lo más posible a la función dada.\n",
    "> * si tenemos demasiados parámetros tenemos un overfitting, que es perfecta cuando estamos entrenando al algorithmo pero a la mejor no funciona.\n",
    "> \n",
    "> ![](img/13.png)\n",
    "> \n",
    "> porque estamo clasificando un 100% de precisión.  \n",
    "Pero quizás la siguiente clasifica mejor:\n",
    ">\n",
    "> ![](img/14.png)\n",
    "\n",
    "Entonces lo que haremos es que si esto es muy grande:\n",
    "* 248.42976028\n",
    "* -258.42976164\n",
    "\n",
    "Haremos lo que se llama una **$\\color{blue}{regularización}$**:\n",
    "\n",
    "$$\n",
    "Cost(\\theta) = - \\frac{1}{M} \\sum_{m=1}^{M} [y^m log h(x^{(m)} \\theta) - (1-y^m)log(1-h(x^{(m)}) \\theta)] \\color{blue}{ + \\frac{\\lambda}{2M} \\sum_{n=1}^{N} \\theta_{n}^{2}}\n",
    "$$\n",
    "\n",
    "Al poner la penalización cuadrática lo que hacemos es, en lugar de tener un fitting perfecto, lo sacrificamos pero los pesos (los thetas $\\theta$) en lugar de ser tan grandes, vamos a sacrificar eso.\n",
    "\n",
    "Como es cuadrático, la deribada es lineal:  \n",
    "$$\n",
    "\\Delta_{\\theta}Cost= \\frac{1}{M}(h(X \\theta) - Y)^TX \\color{blue}{+ \\frac{\\lambda}{M}J\\theta}\n",
    "$$\n",
    "\n",
    "![](img/15.png)"
   ]
  },
  {
   "cell_type": "markdown",
   "id": "e5cc43ff-593e-42f7-93f6-45187e8bce13",
   "metadata": {},
   "source": [
    "**¿Cómo voy a penalizar?**\n",
    "\n",
    "Voy a tomar la suma de los cuadrados."
   ]
  },
  {
   "cell_type": "code",
   "execution_count": 174,
   "id": "1c7850ed-f02f-4465-bf11-c9f29a4065b1",
   "metadata": {},
   "outputs": [
    {
     "data": {
      "text/plain": [
       "array([[ 248.42976028],\n",
       "       [-258.42976164]])"
      ]
     },
     "execution_count": 174,
     "metadata": {},
     "output_type": "execute_result"
    }
   ],
   "source": [
    "# solución optima\n",
    "hedge.optimal_hedge"
   ]
  },
  {
   "cell_type": "code",
   "execution_count": 175,
   "id": "2a955a40-4daa-4a83-a83c-2f1d5fd5d3a6",
   "metadata": {
    "tags": []
   },
   "outputs": [
    {
     "data": {
      "text/plain": [
       "array([[61717.34579248],\n",
       "       [66785.94170113]])"
      ]
     },
     "execution_count": 175,
     "metadata": {},
     "output_type": "execute_result"
    }
   ],
   "source": [
    "# solución optima al cuadrado\n",
    "(hedge.optimal_hedge)**2"
   ]
  },
  {
   "cell_type": "code",
   "execution_count": 177,
   "id": "b9ff6fe7-adfe-420d-8ffc-5476c43c19c0",
   "metadata": {},
   "outputs": [
    {
     "data": {
      "text/plain": [
       "128503.28749360351"
      ]
     },
     "execution_count": 177,
     "metadata": {},
     "output_type": "execute_result"
    }
   ],
   "source": [
    "# suma de soluciones optimas al cuadrado\n",
    "sum((hedge.optimal_hedge)**2).item()"
   ]
  },
  {
   "cell_type": "markdown",
   "id": "223b40b1-d42f-48b2-a4d4-d8029023d360",
   "metadata": {},
   "source": [
    "Este ejemplo sirve para definir a f_penalty:"
   ]
  },
  {
   "cell_type": "code",
   "execution_count": 183,
   "id": "9cdd6ddd-494d-472d-97dd-b0d164ced602",
   "metadata": {},
   "outputs": [],
   "source": [
    "# stream_function.py \n",
    "\n",
    "def cost_function_beta_delta(x, delta, beta_usd, betas):\n",
    "    \"\"\" Tomo las dos funciones  [f_delta, f_beta] al cuadrado porque yo lo que \n",
    "    quiero es que las dos sean igual a cero en mi función de coste y quiero \n",
    "    minimizar dicho coste, el mímino será cuando  el primer cuadrado sea \n",
    "    cero y el segundo cuadrado sea cero.\n",
    "    \"\"\"\n",
    "    f_delta = (sum(x).items() +                     # sumatoria del vector x .items() es para que tome el escalar\n",
    "               delta)**2                            # delta del portafolios\n",
    "    f_beta = (np.transpose(betas).dot(x).items() +  # traspuesta v. betas por vector x. Me da matriz 1*\n",
    "              beta_usd)**2\n",
    "    # pruebas con incremento \"epsilon\" 10^-4, 10^-3, 10^-2\n",
    "    # hasta dar con los Optimal hedge: que yo quiero\n",
    "    f_penalty = 10**-2 * sum(x**2).item()\n",
    "    \n",
    "    # incremento mi \n",
    "    f = f_delta + f_beta + f_penalty\n",
    "    return f"
   ]
  },
  {
   "cell_type": "code",
   "execution_count": 244,
   "id": "7bee3235-9583-4529-ae90-2acd96b6dea4",
   "metadata": {},
   "outputs": [
    {
     "name": "stdout",
     "output_type": "stream",
     "text": [
      "---------------\n",
      "Imput portfolio\n",
      "---------------\n",
      "Delta mnUSD for BBVA.MC is 10\n",
      "Beta for BBVA.MC vs ^STOXX50E is 1.2874\n",
      "Beta mnUSD for BBVA.MC vs ^STOXX50E is 12.874\n",
      "---------------\n",
      "Input hedges:\n",
      "-------------\n",
      "Beta for hedge[ 0] = ^FCHI vs ^STOXX50E is 0.9747\n",
      "Beta for hedge[ 1] = ^GDAXI vs ^STOXX50E is 0.9868\n",
      "\n",
      ">>>>>COMPUTE EXACT:<<<<<<<\n",
      "-------------------\n",
      "Optimisation result Exact solution from linear algebra:\n",
      "-------------------\n",
      "Delta: 10\n",
      "Beta USD: 12.874\n",
      "\n",
      "Hedge delta:-10.0\n",
      "Hedge beta:-12.873999999999995\n",
      "--------------------\n",
      "Betas for the hedge:\n",
      "--------------------\n",
      "[[0.9747]\n",
      " [0.9868]]\n",
      "--------------\n",
      "Optimal hedge:\n",
      "--------------\n",
      "[[ 248.42975207]\n",
      " [-258.42975207]]\n",
      "\n",
      ">>>>COMPUTE NUMERICAL:<<<<<<\n",
      "-------------------\n",
      "Optimisation result Numerical solution with optimize.minimize:\n",
      "-------------------\n",
      "Delta: 10\n",
      "Beta USD: 12.874\n",
      "\n",
      "Hedge delta:-11.497853480295074\n",
      "Hedge beta:-11.288129269664594\n",
      "--------------------\n",
      "Betas for the hedge:\n",
      "--------------------\n",
      "[[0.9747]\n",
      " [0.9868]]\n",
      "--------------\n",
      "Optimal hedge:\n",
      "--------------\n",
      "[[-4.7894665 ]\n",
      " [-6.70838698]]\n"
     ]
    }
   ],
   "source": [
    "# reset all variables\n",
    "%reset -f\n",
    "\n",
    "import importlib\n",
    "import stream_classes\n",
    "import stream_functions\n",
    "importlib.reload(stream_functions)\n",
    "importlib.reload(stream_classes)\n",
    "\n",
    "\n",
    "ric = \"BBVA.MC\"\n",
    "benchmark = \"^STOXX50E\"\n",
    "hedge_rics = ['^FCHI', '^GDAXI']\n",
    "delta = 10\n",
    "\n",
    "# compute optimal hedge\n",
    "hedge = stream_classes.hedge_maneger(ric, benchmark, hedge_rics, delta)\n",
    "hedge.load_inputs(bool_print=True)\n",
    "print('\\n>>>>>COMPUTE EXACT:<<<<<<<')\n",
    "hedge.compute(bool_print=True)\n",
    "print('\\n>>>>COMPUTE NUMERICAL:<<<<<<')\n",
    "hedge.compute_numerical(bool_print=True)"
   ]
  },
  {
   "cell_type": "markdown",
   "id": "82497a99-1670-4f21-8aca-5dd83795c73d",
   "metadata": {},
   "source": [
    "---\n",
    "\n",
    "`Optimal hedge: [[-4.7894665 ][-6.70838698]]` se ha reducido mucho\n",
    "\n",
    "Podemos ver como el epsilon ya no es perfecto. Paso a tener un delta [10 - 11.49] = -1.49.\n",
    "* Antes teníamos delta`Hedge delta: -10.000001360260256` \n",
    "* Ahora tenemos delta `Hedge delta: -11.497853480295074`\n",
    "\n",
    "De beta paso a tener [12.874 - 11.288129269664594]=1.58:\n",
    "* Beta USD: 12.874\n",
    "* Hedge beta: -11.288129269664594\n",
    "\n",
    "No es la mejor solución pero es una mejor solución de lo que teníamos.\n",
    "\n",
    "\n",
    "\n",
    "Como el beta está por encima del casco convexo, osea del intervalo \n",
    "* Beta for BBVA.MC vs ^STOXX50E is 1.2874\n",
    "* mínimo  Beta for hedge[ 0] = ^FCHI vs ^STOXX50E is 0.9747\n",
    "* máximo  Beta for hedge[ 1] = ^GDAXI vs ^STOXX50E is 0.9868\n",
    "\n",
    "Como el beta es más fuerte, necesito poner más delta para poder reducir el beta, pero está funcionando.\n",
    "\n",
    "---\n",
    "Voy agregar \"epsilon\" como argumento de entrada a mi función:"
   ]
  },
  {
   "cell_type": "code",
   "execution_count": null,
   "id": "1dc28695-0891-45e0-9e99-7f0e6e2b6b82",
   "metadata": {},
   "outputs": [],
   "source": [
    "# stream_function.py \n",
    "\n",
    "def cost_function_beta_delta(x, delta, beta_usd, betas, epsilon=0):\n",
    "    \"\"\" Tomo las dos funciones  [f_delta, f_beta] al cuadrado porque yo lo que \n",
    "    quiero es que las dos sean igual a cero en mi función de coste y quiero \n",
    "    minimizar dicho coste, el mímino será cuando  el primer cuadrado sea \n",
    "    cero y el segundo cuadrado sea cero.\n",
    "    \"\"\"\n",
    "    f_delta = (sum(x).items() +                     # sumatoria del vector x .items() es para que tome el escalar\n",
    "               delta)**2                            # delta del portafolios\n",
    "    f_beta = (np.transpose(betas).dot(x).items() +  # traspuesta v. betas por vector x. Me da matriz 1*\n",
    "              beta_usd)**2\n",
    "    # pruebas con incremento \"epsilon\" 10^-4, 10^-3, 10^-2\n",
    "    # hasta dar con los Optimal hedge: que yo quiero\n",
    "    f_penalty = epsilon * sum(x**2).item()\n",
    "    \n",
    "    # incremento mi \n",
    "    f = f_delta + f_beta + f_penalty\n",
    "    return f"
   ]
  },
  {
   "cell_type": "markdown",
   "id": "2099cbfe-a59c-4857-87dd-d2d271d543fd",
   "metadata": {},
   "source": [
    "Modifico el método de mi clase:"
   ]
  },
  {
   "cell_type": "code",
   "execution_count": null,
   "id": "2fbb161e-b897-4d6a-875e-dd570f1b98a0",
   "metadata": {},
   "outputs": [],
   "source": [
    "def compute_numerical(self, epsilon=0, bool_print=False):\n",
    "    x = np.zeros([len(self.betas), 1])           # núm de betas equivalente al num de raíces\n",
    "    args = (self.delta,                          # el delta del portafolios\n",
    "            self.beta_usd,                       # beta del portfolio en dólares\n",
    "            self.betas,                          # vector con betas de los activos de cobertura\n",
    "            epsilon)                             # agrego argumento epsilon\n",
    "    optimal_result = minimize(fun=stream_functions.cost_function_beta_delta,\n",
    "                              x0=x, args=args, method='BFGS')\n",
    "    self.optimal_hedge = optimal_result.x.reshape([len(self.betas), 1])\n",
    "    self.dataframe['delta'] = self.optimal_hedge\n",
    "    self.dataframe['beta_usd'] = self.betas * self.optimal_hedge\n",
    "    self.hedge_delta = np.sum(self.dataframe['delta'])\n",
    "    self.hedge_beta_usd = np.sum(self.dataframe['beta_usd'])\n",
    "    if bool_print:\n",
    "        self.print_output('Numerical solution with optimize.minimize')"
   ]
  },
  {
   "cell_type": "code",
   "execution_count": 249,
   "id": "87c7a547-3e7b-4d3e-a8b7-a03328e0c4dc",
   "metadata": {},
   "outputs": [
    {
     "name": "stdout",
     "output_type": "stream",
     "text": [
      "---------------\n",
      "Imput portfolio\n",
      "---------------\n",
      "Delta mnUSD for BBVA.MC is 10\n",
      "Beta for BBVA.MC vs ^STOXX50E is 1.2874\n",
      "Beta mnUSD for BBVA.MC vs ^STOXX50E is 12.874\n",
      "---------------\n",
      "Input hedges:\n",
      "-------------\n",
      "Beta for hedge[ 0] = ^FCHI vs ^STOXX50E is 0.9747\n",
      "Beta for hedge[ 1] = ^GDAXI vs ^STOXX50E is 0.9868\n",
      "\n",
      ">>>>>COMPUTE EXACT:<<<<<<<\n",
      "-------------------\n",
      "Optimisation result Exact solution from linear algebra:\n",
      "-------------------\n",
      "Delta: 10\n",
      "Beta USD: 12.874\n",
      "\n",
      "Hedge delta:-10.0\n",
      "Hedge beta:-12.873999999999995\n",
      "--------------------\n",
      "Betas for the hedge:\n",
      "--------------------\n",
      "[[0.9747]\n",
      " [0.9868]]\n",
      "--------------\n",
      "Optimal hedge:\n",
      "--------------\n",
      "[[ 248.42975207]\n",
      " [-258.42975207]]\n",
      "\n",
      ">>>>COMPUTE NUMERICAL:<<<<<<\n",
      "-------------------\n",
      "Optimisation result Numerical solution with optimize.minimize:\n",
      "-------------------\n",
      "Delta: 10\n",
      "Beta USD: 12.874\n",
      "\n",
      "Hedge delta:-10.000001360260256\n",
      "Hedge beta:-12.874001441685465\n",
      "--------------------\n",
      "Betas for the hedge:\n",
      "--------------------\n",
      "[[0.9747]\n",
      " [0.9868]]\n",
      "--------------\n",
      "Optimal hedge:\n",
      "--------------\n",
      "[[ 248.42976028]\n",
      " [-258.42976164]]\n"
     ]
    }
   ],
   "source": [
    "# reset all variables\n",
    "%reset -f\n",
    "\n",
    "import importlib\n",
    "import stream_classes\n",
    "import stream_functions\n",
    "importlib.reload(stream_functions)\n",
    "importlib.reload(stream_classes)\n",
    "\n",
    "\n",
    "ric = \"BBVA.MC\"\n",
    "benchmark = \"^STOXX50E\"\n",
    "hedge_rics = ['^FCHI', '^GDAXI']\n",
    "delta = 10\n",
    "\n",
    "# compute optimal hedge\n",
    "hedge = stream_classes.hedge_maneger(ric, benchmark, hedge_rics, delta)\n",
    "hedge.load_inputs(bool_print=True)\n",
    "print('\\n>>>>>COMPUTE EXACT:<<<<<<<')\n",
    "hedge.compute(bool_print=True)\n",
    "print('\\n>>>>COMPUTE NUMERICAL:<<<<<<')\n",
    "hedge.compute_numerical(epsilon=0, bool_print=True)"
   ]
  },
  {
   "cell_type": "code",
   "execution_count": 250,
   "id": "ca36a377-2973-4d04-96f9-867fa3f568e0",
   "metadata": {},
   "outputs": [
    {
     "name": "stdout",
     "output_type": "stream",
     "text": [
      "\n",
      ">>>>>COMPUTE EXACT:<<<<<<<\n",
      "-------------------\n",
      "Optimisation result Exact solution from linear algebra:\n",
      "-------------------\n",
      "Delta: 10\n",
      "Beta USD: 12.874\n",
      "\n",
      "Hedge delta:-10.0\n",
      "Hedge beta:-12.873999999999995\n",
      "--------------------\n",
      "Betas for the hedge:\n",
      "--------------------\n",
      "[[0.9747]\n",
      " [0.9868]]\n",
      "--------------\n",
      "Optimal hedge:\n",
      "--------------\n",
      "[[ 248.42975207]\n",
      " [-258.42975207]]\n",
      "\n",
      ">>>>COMPUTE NUMERICAL:<<<<<<\n",
      "-------------------\n",
      "Optimisation result Numerical solution with optimize.minimize:\n",
      "-------------------\n",
      "Delta: 10\n",
      "Beta USD: 12.874\n",
      "\n",
      "Hedge delta:-11.497853480295074\n",
      "Hedge beta:-11.288129269664594\n",
      "--------------------\n",
      "Betas for the hedge:\n",
      "--------------------\n",
      "[[0.9747]\n",
      " [0.9868]]\n",
      "--------------\n",
      "Optimal hedge:\n",
      "--------------\n",
      "[[-4.7894665 ]\n",
      " [-6.70838698]]\n"
     ]
    }
   ],
   "source": [
    "print('\\n>>>>>COMPUTE EXACT:<<<<<<<')\n",
    "hedge.compute(bool_print=True)\n",
    "print('\\n>>>>COMPUTE NUMERICAL:<<<<<<')\n",
    "hedge.compute_numerical(epsilon=10**-2, bool_print=True)"
   ]
  },
  {
   "cell_type": "code",
   "execution_count": 251,
   "id": "576fc020-aebd-461b-a750-45472caf92e6",
   "metadata": {},
   "outputs": [
    {
     "name": "stdout",
     "output_type": "stream",
     "text": [
      "\n",
      ">>>>>COMPUTE EXACT:<<<<<<<\n",
      "-------------------\n",
      "Optimisation result Exact solution from linear algebra:\n",
      "-------------------\n",
      "Delta: 10\n",
      "Beta USD: 12.874\n",
      "\n",
      "Hedge delta:-10.0\n",
      "Hedge beta:-12.873999999999995\n",
      "--------------------\n",
      "Betas for the hedge:\n",
      "--------------------\n",
      "[[0.9747]\n",
      " [0.9868]]\n",
      "--------------\n",
      "Optimal hedge:\n",
      "--------------\n",
      "[[ 248.42975207]\n",
      " [-258.42975207]]\n",
      "\n",
      ">>>>COMPUTE NUMERICAL:<<<<<<\n",
      "-------------------\n",
      "Optimisation result Numerical solution with optimize.minimize:\n",
      "-------------------\n",
      "Delta: 10\n",
      "Beta USD: 12.874\n",
      "\n",
      "Hedge delta:-11.497853480295074\n",
      "Hedge beta:-11.288129269664594\n",
      "--------------------\n",
      "Betas for the hedge:\n",
      "--------------------\n",
      "[[0.9747]\n",
      " [0.9868]]\n",
      "--------------\n",
      "Optimal hedge:\n",
      "--------------\n",
      "[[-4.7894665 ]\n",
      " [-6.70838698]]\n"
     ]
    }
   ],
   "source": [
    "print('\\n>>>>>COMPUTE EXACT:<<<<<<<')\n",
    "hedge.compute(bool_print=True)\n",
    "print('\\n>>>>COMPUTE NUMERICAL:<<<<<<')\n",
    "hedge.compute_numerical(epsilon=0.01, bool_print=True)"
   ]
  },
  {
   "cell_type": "code",
   "execution_count": 252,
   "id": "18e1ea8c-e838-4c32-99ab-31105c775464",
   "metadata": {},
   "outputs": [
    {
     "name": "stdout",
     "output_type": "stream",
     "text": [
      "---------------\n",
      "Imput portfolio\n",
      "---------------\n",
      "Delta mnUSD for BBVA.MC is 10\n",
      "Beta for BBVA.MC vs ^STOXX50E is 1.2874\n",
      "Beta mnUSD for BBVA.MC vs ^STOXX50E is 12.874\n",
      "---------------\n",
      "Input hedges:\n",
      "-------------\n",
      "Beta for hedge[ 0] = SAN.MC vs ^STOXX50E is 1.3739\n",
      "Beta for hedge[ 1] = ^FCHI vs ^STOXX50E is 0.9747\n",
      "Beta for hedge[ 2] = ^GDAXI vs ^STOXX50E is 0.9868\n",
      "\n",
      ">>>>>COMPUTE EXACT:<<<<<<<\n",
      "-------\n",
      "Warning: cannot compute exact solution, hedge rics size 3 =/= 2\n",
      "\n",
      ">>>>COMPUTE NUMERICAL:<<<<<<\n",
      "-------------------\n",
      "Optimisation result Numerical solution with optimize.minimize:\n",
      "-------------------\n",
      "Delta: 10\n",
      "Beta USD: 12.874\n",
      "\n",
      "Hedge delta:-9.99999999638392\n",
      "Hedge beta:-12.874000018665479\n",
      "--------------------\n",
      "Betas for the hedge:\n",
      "--------------------\n",
      "[[1.3739]\n",
      " [0.9747]\n",
      " [0.9868]]\n",
      "--------------\n",
      "Optimal hedge:\n",
      "--------------\n",
      "[[-7.79665114]\n",
      " [-0.9986475 ]\n",
      " [-1.20470135]]\n"
     ]
    }
   ],
   "source": [
    "ric = \"BBVA.MC\"\n",
    "benchmark = \"^STOXX50E\"\n",
    "hedge_rics = ['SAN.MC', '^FCHI', '^GDAXI']\n",
    "delta = 10\n",
    "\n",
    "# compute optimal hedge\n",
    "hedge = stream_classes.hedge_maneger(ric, benchmark, hedge_rics, delta)\n",
    "hedge.load_inputs(bool_print=True)\n",
    "print('\\n>>>>>COMPUTE EXACT:<<<<<<<')\n",
    "hedge.compute(bool_print=True)\n",
    "print('\\n>>>>COMPUTE NUMERICAL:<<<<<<')\n",
    "hedge.compute_numerical(epsilon=0, bool_print=True)"
   ]
  },
  {
   "cell_type": "code",
   "execution_count": 262,
   "id": "c7d7c64e-f0ab-4b00-a571-1eaa77501155",
   "metadata": {},
   "outputs": [
    {
     "name": "stdout",
     "output_type": "stream",
     "text": [
      "\n",
      ">>>>>COMPUTE EXACT:<<<<<<<\n",
      "-------\n",
      "Warning: cannot compute exact solution, hedge rics size 3 =/= 2\n",
      "\n",
      ">>>>COMPUTE NUMERICAL:<<<<<<\n",
      "-------------------\n",
      "Optimisation result Numerical solution with optimize.minimize:\n",
      "-------------------\n",
      "Delta: 10\n",
      "Beta USD: 12.874\n",
      "\n",
      "Hedge delta:-10.125163918325054\n",
      "Hedge beta:-12.731065713963945\n",
      "--------------------\n",
      "Betas for the hedge:\n",
      "--------------------\n",
      "[[1.3739]\n",
      " [0.9747]\n",
      " [0.9868]]\n",
      "--------------\n",
      "Optimal hedge:\n",
      "--------------\n",
      "[[-7.12136545]\n",
      " [-1.41542217]\n",
      " [-1.58837629]]\n"
     ]
    }
   ],
   "source": [
    "print('\\n>>>>>COMPUTE EXACT:<<<<<<<')\n",
    "hedge.compute(bool_print=True)\n",
    "print('\\n>>>>COMPUTE NUMERICAL:<<<<<<')\n",
    "hedge.compute_numerical(epsilon=0.01, bool_print=True)"
   ]
  },
  {
   "cell_type": "markdown",
   "id": "178dd166-f80e-488c-9114-b01dae9fa392",
   "metadata": {},
   "source": [
    "---\n",
    "Esta solución no es mala porque los futuros son más líquidos y los vendo rápido mientras coloco los 7.2MM"
   ]
  }
 ],
 "metadata": {
  "kernelspec": {
   "display_name": "Python 3",
   "language": "python",
   "name": "python3"
  },
  "language_info": {
   "codemirror_mode": {
    "name": "ipython",
    "version": 3
   },
   "file_extension": ".py",
   "mimetype": "text/x-python",
   "name": "python",
   "nbconvert_exporter": "python",
   "pygments_lexer": "ipython3",
   "version": "3.8.8"
  }
 },
 "nbformat": 4,
 "nbformat_minor": 5
}
