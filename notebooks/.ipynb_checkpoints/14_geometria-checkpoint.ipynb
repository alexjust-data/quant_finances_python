{
 "cells": [
  {
   "cell_type": "code",
   "execution_count": 1,
   "id": "70fc7bb9-7d4f-4c9d-92f2-b07214b5b2df",
   "metadata": {},
   "outputs": [],
   "source": [
    "# "
   ]
  },
  {
   "cell_type": "code",
   "execution_count": 4,
   "id": "4099b63b-98ea-4612-9e97-c77b2ea3a93c",
   "metadata": {},
   "outputs": [
    {
     "name": "stdout",
     "output_type": "stream",
     "text": [
      "---------------\n",
      "Imput portfolio\n",
      "---------------\n",
      "Delta mnUSD for BBVA.MC is 10\n",
      "Beta for BBVA.MC vs ^STOXX50E is 1.2874\n",
      "Beta mnUSD for BBVA.MC vs ^STOXX50E is 12.874\n",
      "---------------\n",
      "Input hedges:\n",
      "-------------\n",
      "Beta for hedge[ 0] = SAN.MC vs ^STOXX50E is 1.3739\n",
      "Beta for hedge[ 1] = REP.MC vs ^STOXX50E is 1.1593\n",
      "\n",
      ">>>>>COMPUTE EXACT:<<<<<<<\n",
      "-------------------\n",
      "Optimisation result Exact solution from linear algebra:\n",
      "-------------------\n",
      "Delta: 10\n",
      "Beta USD: 12.874\n",
      "\n",
      "Hedge delta:-10.0\n",
      "Hedge beta:-12.874000000000002\n",
      "--------------------\n",
      "Betas for the hedge:\n",
      "--------------------\n",
      "[[1.3739]\n",
      " [1.1593]]\n",
      "--------------\n",
      "Optimal hedge:\n",
      "--------------\n",
      "[[-5.96924511]\n",
      " [-4.03075489]]\n"
     ]
    }
   ],
   "source": [
    "# reset all variables\n",
    "%reset -f\n",
    "\n",
    "import importlib\n",
    "import stream_classes\n",
    "import stream_functions\n",
    "importlib.reload(stream_functions)\n",
    "importlib.reload(stream_classes)\n",
    "\n",
    "\n",
    "ric = \"BBVA.MC\"\n",
    "benchmark = \"^STOXX50E\"\n",
    "hedge_rics = ['SAN.MC', 'REP.MC']\n",
    "delta = 10\n",
    "\n",
    "# compute optimal hedge\n",
    "hedge = stream_classes.hedge_maneger(ric, benchmark, hedge_rics, delta)\n",
    "hedge.load_inputs(bool_print=True)\n",
    "print('\\n>>>>>COMPUTE EXACT:<<<<<<<')\n",
    "hedge.compute(bool_print=True)"
   ]
  },
  {
   "cell_type": "code",
   "execution_count": null,
   "id": "5b1bc2fd-4e6b-41a5-aee8-8da2c9b176ba",
   "metadata": {},
   "outputs": [],
   "source": []
  }
 ],
 "metadata": {
  "kernelspec": {
   "display_name": "Python 3",
   "language": "python",
   "name": "python3"
  },
  "language_info": {
   "codemirror_mode": {
    "name": "ipython",
    "version": 3
   },
   "file_extension": ".py",
   "mimetype": "text/x-python",
   "name": "python",
   "nbconvert_exporter": "python",
   "pygments_lexer": "ipython3",
   "version": "3.8.8"
  }
 },
 "nbformat": 4,
 "nbformat_minor": 5
}
