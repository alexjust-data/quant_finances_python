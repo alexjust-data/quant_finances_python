{
 "cells": [
  {
   "cell_type": "markdown",
   "id": "8d9067ee-c56a-4730-9103-90a03b5a8f3e",
   "metadata": {},
   "source": [
    "# Datos de mercado\n",
    "\n",
    "Quiero reciclar el código del Jarque-Bera para calcular las medidas de riesgo del mercado y publicarlo en el histograma.\n",
    "\n",
    "¿Cómo obtengo los datos del mercado?\n",
    "\n",
    "* https://finance.yahoo.com/\n",
    "\n",
    "Por ejemplo busco `dbk` Deutsche Bank. DBK.DE , Nasdak : ^IXIC , Moneda mexicana : MXN=X\n",
    "\n",
    "* https://finance.yahoo.com/quote/DBK.DE/history?p=DBK.DE\n",
    "\n",
    "Voy a historical data y añado el espacio temporal que quiero con los datos. Download y guardo el archivo."
   ]
  },
  {
   "cell_type": "code",
   "execution_count": 1,
   "id": "992fe296-fa37-414e-b3c2-d206a2f9fa11",
   "metadata": {},
   "outputs": [
    {
     "data": {
      "image/png": "[encoded data removed]",
      "text/plain": [
       "<Figure size 432x288 with 1 Axes>"
      ]
     },
     "metadata": {
      "needs_background": "light"
     },
     "output_type": "display_data"
    },
    {
     "name": "stdout",
     "output_type": "stream",
     "text": [
      "Distibución: REAL RETURNS MXN=X\n",
      "mean: 0.00019001684415399867\n",
      "std : 0.008473654348085138\n",
      "skewness : 1.156229334919665\n",
      "kurtosis : 9.362283839614417\n",
      "VaR 95% : -0.01204573525904855\n",
      "CVaR 95% : -0.016880449248073918\n",
      "Jarque-Bera : 6657.237386531356\n",
      "p_value : 0.0\n",
      "is normal :False\n"
     ]
    }
   ],
   "source": [
    "# !/usr/bin/ python\n",
    "# -*- coding: utf-8 -*-\n",
    "\n",
    "import numpy as np\n",
    "import pandas as pd\n",
    "import scipy\n",
    "import importlib\n",
    "import matplotlib.pyplot as plt\n",
    "import matplotlib as mpl\n",
    "from scipy.stats import skew, kurtosis, chi2\n",
    "\n",
    "\n",
    "# market cod. reading from pandas\n",
    "ric = \"MXN=X\" # DBK.DE , ^IXIC , MXN=X\n",
    "path = \"data/\" + ric + \".csv\"\n",
    "table_raw = pd.read_csv(path) \n",
    "\n",
    "# creating table returns #\n",
    "##########################\n",
    "\n",
    "t = pd.DataFrame()\n",
    "\"\"\"\n",
    "creating convention columns datetime (dayfirst=True)\n",
    "will compare varius series times together\n",
    "\"\"\"\n",
    "t['date'] = pd.to_datetime(table_raw['Date'],\n",
    "                           dayfirst=True)\n",
    "t['close'] = table_raw['Close']            # close price market\n",
    "t.sort_values(by=\"date\", ascending=True)   # assure order days\n",
    "\"\"\"\n",
    "calculating real returns:\n",
    "For simple returns, you can get them by dividing today’s\n",
    "price with yesterdays’ and then subtracting 1 from the result.\n",
    "https://stackoverflow.com/questions/20000726/calculate-daily-returns-with-pandas-dataframe\n",
    "\"\"\"\n",
    "t['close_previous'] = table_raw['Close'].shift(1)\n",
    "t['return_close'] = (t['close'] / t['close_previous']) - 1\n",
    "t = t.dropna()                  # eliminate nan\n",
    "t = t.reset_index(drop=True)    # for having deleted rows\n",
    "\n",
    "# input for Jarque-Bera test #\n",
    "##############################\n",
    "\n",
    "x = t['return_close'].values    # return to arrays\n",
    "x_str = \"Real returns \" + ric   # label e.g. ric\n",
    "x_size = len(x)\n",
    "\n",
    "# Recyled code #\n",
    "################\n",
    "\n",
    "x_mean = np.mean(x)\n",
    "x_stdev = np.std(x)\n",
    "x_skew = skew(x)\n",
    "x_kurt = kurtosis(x)\n",
    "x_var_95 = np.percentile(x, 5)\n",
    "x_cvar_95 = np.mean(x[x <= x_var_95])\n",
    "jb = x_size/6 * (x_skew**2 + 1/4*(x_kurt**2))\n",
    "p_value = 1 - chi2.cdf(jb, df=2) # buscamos dos grados de libertad\n",
    "is_normal = (p_value > 0.05) # equivalenty jb < 6\n",
    "\n",
    "# plot histogram\n",
    "plt.figure()\n",
    "plt.hist(x, bins=100)\n",
    "plt.title(x_str)\n",
    "plt.show()\n",
    "\n",
    "# print risk metrics\n",
    "print(\"Distibución: \" + x_str.upper())\n",
    "print(\"mean: \" + str(x_mean))\n",
    "print(\"std : \" + str(x_stdev))\n",
    "print(\"skewness : \" + str(x_skew))\n",
    "print(\"kurtosis : \" + str(x_kurt))\n",
    "print(\"VaR 95% : \" + str(x_var_95))\n",
    "print(\"CVaR 95% : \" + str(x_cvar_95))\n",
    "print(\"Jarque-Bera : \" + str(jb))\n",
    "print(\"p_value : \" + str(p_value))\n",
    "print(\"is normal :\" + str(is_normal))"
   ]
  },
  {
   "cell_type": "markdown",
   "id": "be773d0b-b5bf-4377-bf3c-c8dcb41f6c6f",
   "metadata": {},
   "source": [
    "> Podemos ver como su Jarque-Bera : 6657  $\\nless$ 6 no pasa el test de normalidad.  \n",
    "> Hay días que ganó más del 8% y esto hace que las colas sean largas, la kurtosis en exceso es grande."
   ]
  },
  {
   "cell_type": "markdown",
   "id": "56a5f755-0045-4bbe-a9b2-b954aaaffb44",
   "metadata": {},
   "source": [
    "**Refactoring**"
   ]
  },
  {
   "cell_type": "code",
   "execution_count": 2,
   "id": "2f349533-d939-42d6-aa1e-c33bb0f53f68",
   "metadata": {},
   "outputs": [
    {
     "data": {
      "image/png": "[encoded data removed]",
      "text/plain": [
       "<Figure size 432x288 with 1 Axes>"
      ]
     },
     "metadata": {
      "needs_background": "light"
     },
     "output_type": "display_data"
    },
    {
     "name": "stdout",
     "output_type": "stream",
     "text": [
      "Distibución: REAL RETURNS DBK.DE\n",
      "mean: 1.3595815869703402e-05\n",
      "std : 0.026048496464774504\n",
      "skewness : 0.4443541180611775\n",
      "kurtosis : 8.633007533803895\n",
      "VaR 95% : -0.03891232113415408\n",
      "CVaR 95% : -0.06006752804852893\n",
      "Jarque-Bera : 13554.213577487986\n",
      "p_value : 0.0\n",
      "is normal :False\n"
     ]
    }
   ],
   "source": [
    "def normality_test(x, x_size, ric):\n",
    "    \"\"\"Create a normality test by example with Jarque_Bera\n",
    "    Arg:\n",
    "        1. x_size : size of distribution.\n",
    "        2. type_random_variable : generate random distributions.\n",
    "        3. degrees_freedom : only for t-student\n",
    "    Return:\n",
    "        Plot and risk metrics\n",
    "    \"\"\"\n",
    "    \n",
    "    x_str = \"Real returns \" + ric   # label e.g. ric\n",
    "    \n",
    "    # Recyled code #\n",
    "    ################\n",
    "\n",
    "    x_mean = np.mean(x)\n",
    "    x_stdev = np.std(x)\n",
    "    x_skew = skew(x)\n",
    "    x_kurt = kurtosis(x)\n",
    "    x_var_95 = np.percentile(x, 5)\n",
    "    x_cvar_95 = np.mean(x[x <= x_var_95])\n",
    "    jb = x_size/6 * (x_skew**2 + 1/4*(x_kurt**2))\n",
    "    p_value = 1 - chi2.cdf(jb, df=2) # buscamos dos grados de libertad\n",
    "    is_normal = (p_value > 0.05) # equivalenty jb < 6\n",
    "\n",
    "    # plot histogram\n",
    "    plt.figure()\n",
    "    plt.hist(x, bins=100)\n",
    "    plt.title(x_str)\n",
    "    plt.show()\n",
    "\n",
    "    # print risk metrics\n",
    "    print(\"Distibución: \" + x_str.upper())\n",
    "    print(\"mean: \" + str(x_mean))\n",
    "    print(\"std : \" + str(x_stdev))\n",
    "    print(\"skewness : \" + str(x_skew))\n",
    "    print(\"kurtosis : \" + str(x_kurt))\n",
    "    print(\"VaR 95% : \" + str(x_var_95))\n",
    "    print(\"CVaR 95% : \" + str(x_cvar_95))\n",
    "    print(\"Jarque-Bera : \" + str(jb))\n",
    "    print(\"p_value : \" + str(p_value))\n",
    "    print(\"is normal :\" + str(is_normal))\n",
    "\n",
    "def get_data_market(ric):\n",
    "    \"\"\"Get values and create new values from data markets\n",
    "    arg:\n",
    "        - ric : cod of market\n",
    "    return:\n",
    "        - x : array of real returns for day\n",
    "        - x_size : len of data\n",
    "    \"\"\"\n",
    "    # market cod. reading from pandas\n",
    "    path = \"data/\" + ric + \".csv\"\n",
    "    table_raw = pd.read_csv(path) \n",
    "\n",
    "    # creating table returns\n",
    "    t = pd.DataFrame()\n",
    "    t['date'] = pd.to_datetime(table_raw['Date'], \n",
    "                               dayfirst=True)\n",
    "    t['close'] = table_raw['Close'] # close price market\n",
    "    t.sort_values(by=\"date\", \n",
    "                  ascending=True)   # assure order days\n",
    "    t['close_previous'] = table_raw['Close'].shift(1)\n",
    "    t['return_close'] = (t['close'] / t['close_previous']) - 1\n",
    "    t = t.dropna()                  # eliminate nan\n",
    "    t = t.reset_index(drop=True)    # for having deleted rows\n",
    "\n",
    "    # input for Jarque-Bera test\n",
    "    x = t['return_close'].values    # return to arrays\n",
    "    x_size = len(x)\n",
    "    \n",
    "    return x, x_size, ric\n",
    "\n",
    "if __name__ == \"__main__\":\n",
    "    \n",
    "    # DBK.DE , ^IXIC , MXN=X\n",
    "    x, x_size, ric = get_data_market(\"DBK.DE\")\n",
    "    # test\n",
    "    normality_test(x, x_size, ric)"
   ]
  },
  {
   "cell_type": "markdown",
   "id": "f2ffe814-b1c4-43b3-8364-0dfdbf1e355d",
   "metadata": {},
   "source": [
    "> Hay unos días que el Deutsche Bank perdió hasta el 20% y ganó otros más del 20% y esto hace que las colas sean largas (la kurtosis en exceso es grande)\n",
    ">\n",
    "> El rendimiento es positivo mean: 1.3595815869703402e-05"
   ]
  },
  {
   "cell_type": "code",
   "execution_count": 3,
   "id": "65a4c168-ad17-41d5-863f-664d65dab553",
   "metadata": {},
   "outputs": [
    {
     "data": {
      "image/png": "[encoded data removed]",
      "text/plain": [
       "<Figure size 432x288 with 1 Axes>"
      ]
     },
     "metadata": {
      "needs_background": "light"
     },
     "output_type": "display_data"
    },
    {
     "name": "stdout",
     "output_type": "stream",
     "text": [
      "Distibución: REAL RETURNS ^IXIC\n",
      "mean: 0.0007212274097762335\n",
      "std : 0.013171238256671073\n",
      "skewness : -0.6316034641118642\n",
      "kurtosis : 10.96977254091543\n",
      "VaR 95% : -0.021344583847905007\n",
      "CVaR 95% : -0.03291847556163226\n",
      "Jarque-Bera : 8428.521942830355\n",
      "p_value : 0.0\n",
      "is normal :False\n"
     ]
    }
   ],
   "source": [
    "# NASDAQ\n",
    "x, x_size, ric = get_data_market(\"^IXIC\")\n",
    "# test\n",
    "normality_test(x, x_size, ric)"
   ]
  },
  {
   "cell_type": "markdown",
   "id": "0a022a73-711e-4b15-bf2f-2fecad71625e",
   "metadata": {},
   "source": [
    "## El cociente de Sharpe\n",
    "\n",
    "NOTAS : https://www.litefinance.com/es/blog/for-beginners/coeficiente-de-sharpe-evaluacion-de-la-estrategia-de-negociacion/\n",
    "\n",
    "El cociente de Sharpe es la media / desv standard; como la media y la desv standard tiene las mismas unidades el cociente es adimensional. Me cuál es el cociente esperado por unidad de riesgo. Por ejemplo el cociente de Sharp es 3, significa que el rendimeinto es 3 veces más grande que la desv satnadar. En otras palabras, si augmentamos en un 1% la volatilidad (llamada desviación standard) y mi Shard es 3, entonces espero que mi rendimiento sea del 3%.\n",
    "\n",
    "**Qué es un buen Sharp?**  \n",
    "Si pensamos en rendimientos normales el intervalo de confianza al 95% es 1,96 digamos 2, es por eso que si tenemos un Sharp más grande de 2 significa que el intervalo de confianza de la media que es media $\\pm 1,96$ significa que dicho intervalo de confianza está totalmente a la derecha del cero, mientras que si mi Sharp es del por ejmplo del 1.5 entonces el 0 estará dentro de mi intervalo de confianza. Es por eso que se acostumbra a prdir un Sharp por encima de 2, porque asumiendo normalidad tengo todo mi intervalo de confianza a la derecha del cero o por simetría con 97,5% la media es positiva\n",
    "\n",
    "* `x_sharpe = x_mean / x_stdev * np.sqrt(252)`\n",
    "\n",
    "Por qué multiplico por $\\sqrt{252}$? Lo estoy ajustando porque se acostumbra un Sharp anualizado. Si supongo que mis rendimientos siguen tienen un rendimiento que depende del tiempo $rdt + \\sigma dwt$ que es lo clásico de blackshones los rendimientos crecen linales en tiempo y los rendimientos de volatilidad crecen como la raíz cuadrada del tiempo.\n",
    "Por lo tanto el dividendo (x_mean) que crece con potencia 1 y el divisor que crece con potencia $\\frac{1}{2}$ el cociente crece con potencia $\\frac{1}{2}$ por eso le coloco el $\\sqrt{252}$. Los rendimientos de x_mean son diarios y 252 son la convención de días anuales , entonces lo estamos anualizando. En otras palabras, la **stdev** crece como la raiz cuadrada del tiempo, las ganancias diarias crecen linealmente en tiempo, entonces algo que crece a la potencia 1 dividido por algo que crece a la potencia 1/2, esto $\\sqrt{252}$ crece a la potencia 1/2.\n",
    "\n",
    "$$\n",
    "\\text{coeficiente de Sharp} = \\frac{mean}{stdev}\n",
    "$$\n",
    "\n",
    "En libros nos encontrmos con \n",
    "\n",
    "$$\n",
    "\\text{coeficiente de Sharp} = \\frac{\\text{rendimiento esperado} - \\text{tasa libre de riesgo}}{stdev}\n",
    "$$\n",
    "\n",
    "A veces si, a veces no, porqué ¿qué es la tasa libre de riesgo? NO está claro qué es la tasa libre de riesgo; dicen que son los bonos del tesoro de EEUU ¿pero es cierto? En **nuestro caso lo estamos haciendo como si la tasa libre de riesgo fuera 0**.\n",
    "\n"
   ]
  },
  {
   "cell_type": "code",
   "execution_count": 4,
   "id": "ec558d49-5e90-40d0-8ac6-35fd70ee1d96",
   "metadata": {},
   "outputs": [],
   "source": [
    "def normality_test(x, x_size, ric):\n",
    "    \"\"\"Create a normality test by example with Jarque_Bera\n",
    "    Arg:\n",
    "        1. x_size : size of distribution.\n",
    "        2. type_random_variable : generate random distributions.\n",
    "        3. degrees_freedom : only for t-student\n",
    "    Return:\n",
    "        Plot and risk metrics\n",
    "    \"\"\"\n",
    "    \n",
    "    x_str = \"Real returns \" + ric   # label e.g. ric\n",
    "    \n",
    "    # Recyled code #\n",
    "    ################\n",
    "\n",
    "    x_mean = np.mean(x)\n",
    "    x_stdev = np.std(x)\n",
    "    x_skew = skew(x)\n",
    "    x_kurt = kurtosis(x)\n",
    "    x_sharpe = x_mean / x_stdev * np.sqrt(252) # anualizado\n",
    "    x_var_95 = np.percentile(x, 5)\n",
    "    x_cvar_95 = np.mean(x[x <= x_var_95])\n",
    "    jb = x_size/6 * (x_skew**2 + 1/4*(x_kurt**2))\n",
    "    p_value = 1 - chi2.cdf(jb, df=2) # buscamos dos grados de libertad\n",
    "    is_normal = (p_value > 0.05) # equivalenty jb < 6\n",
    "\n",
    "    # plot histogram\n",
    "    plt.figure()\n",
    "    plt.hist(x, bins=100)\n",
    "    plt.title(x_str)\n",
    "    plt.show()\n",
    "\n",
    "    # print risk metrics\n",
    "    print(\"Distibución: \" + x_str.upper())\n",
    "    print(\"mean: \" + str(x_mean))\n",
    "    print(\"std : \" + str(x_stdev))\n",
    "    print(\"skewness : \" + str(x_skew))\n",
    "    print(\"kurtosis : \" + str(x_kurt))\n",
    "    print(\"x_sharpe :\" + str(x_sharpe))\n",
    "    print(\"VaR 95% : \" + str(x_var_95))\n",
    "    print(\"CVaR 95% : \" + str(x_cvar_95))\n",
    "    print(\"Jarque-Bera : \" + str(jb))\n",
    "    print(\"p_value : \" + str(p_value))\n",
    "    print(\"is normal :\" + str(is_normal))"
   ]
  },
  {
   "cell_type": "code",
   "execution_count": 5,
   "id": "236c9db5-065f-465c-9a78-1da3b9f32948",
   "metadata": {},
   "outputs": [
    {
     "data": {
      "image/png": "[encoded data removed]",
      "text/plain": [
       "<Figure size 432x288 with 1 Axes>"
      ]
     },
     "metadata": {
      "needs_background": "light"
     },
     "output_type": "display_data"
    },
    {
     "name": "stdout",
     "output_type": "stream",
     "text": [
      "Distibución: REAL RETURNS ^IXIC\n",
      "mean: 0.0007212274097762335\n",
      "std : 0.013171238256671073\n",
      "skewness : -0.6316034641118642\n",
      "kurtosis : 10.96977254091543\n",
      "x_sharpe :0.8692523790728852\n",
      "VaR 95% : -0.021344583847905007\n",
      "CVaR 95% : -0.03291847556163226\n",
      "Jarque-Bera : 8428.521942830355\n",
      "p_value : 0.0\n",
      "is normal :False\n"
     ]
    }
   ],
   "source": [
    "# NASDAQ\n",
    "x, x_size, ric = get_data_market(\"^IXIC\")\n",
    "# test\n",
    "normality_test(x, x_size, ric)"
   ]
  },
  {
   "cell_type": "code",
   "execution_count": 6,
   "id": "087204c8-767b-4282-9bfd-6cdef278ce9b",
   "metadata": {},
   "outputs": [
    {
     "data": {
      "image/png": "[encoded data removed]",
      "text/plain": [
       "<Figure size 432x288 with 1 Axes>"
      ]
     },
     "metadata": {
      "needs_background": "light"
     },
     "output_type": "display_data"
    },
    {
     "name": "stdout",
     "output_type": "stream",
     "text": [
      "Distibución: REAL RETURNS MXN=X\n",
      "mean: 0.00019001684415399867\n",
      "std : 0.008473654348085138\n",
      "skewness : 1.156229334919665\n",
      "kurtosis : 9.362283839614417\n",
      "x_sharpe :0.3559767443134419\n",
      "VaR 95% : -0.01204573525904855\n",
      "CVaR 95% : -0.016880449248073918\n",
      "Jarque-Bera : 6657.237386531356\n",
      "p_value : 0.0\n",
      "is normal :False\n"
     ]
    }
   ],
   "source": [
    "# MXN=X\n",
    "x, x_size, ric = get_data_market(\"MXN=X\")\n",
    "# test\n",
    "normality_test(x, x_size, ric)"
   ]
  },
  {
   "cell_type": "code",
   "execution_count": 7,
   "id": "0116d783-d557-4a77-9522-7e8df06b386c",
   "metadata": {},
   "outputs": [
    {
     "data": {
      "image/png": "[encoded data removed]",
      "text/plain": [
       "<Figure size 432x288 with 1 Axes>"
      ]
     },
     "metadata": {
      "needs_background": "light"
     },
     "output_type": "display_data"
    },
    {
     "name": "stdout",
     "output_type": "stream",
     "text": [
      "Distibución: REAL RETURNS DBK.DE\n",
      "mean: 1.3595815869703402e-05\n",
      "std : 0.026048496464774504\n",
      "skewness : 0.4443541180611775\n",
      "kurtosis : 8.633007533803895\n",
      "x_sharpe :0.008285579410137047\n",
      "VaR 95% : -0.03891232113415408\n",
      "CVaR 95% : -0.06006752804852893\n",
      "Jarque-Bera : 13554.213577487986\n",
      "p_value : 0.0\n",
      "is normal :False\n"
     ]
    }
   ],
   "source": [
    "# DBK.DE\n",
    "x, x_size, ric = get_data_market(\"DBK.DE\")\n",
    "# test\n",
    "normality_test(x, x_size, ric)"
   ]
  },
  {
   "cell_type": "markdown",
   "id": "439e5b28-2ce6-4af1-b6c2-577e92974999",
   "metadata": {},
   "source": [
    "> vomun un `x_sharpe :0.00828` muy pequeño porque la media de rendimientos es muy pequeña `mean: 1.359e-05`"
   ]
  },
  {
   "cell_type": "markdown",
   "id": "14a6a977-8de0-4f3a-99b8-c38e8721f66c",
   "metadata": {},
   "source": [
    "## Gráfica de precios\n",
    "\n",
    "* `# plot timeseries of price `"
   ]
  },
  {
   "cell_type": "code",
   "execution_count": 8,
   "id": "a50c0991-d788-4e16-b537-0fd72d73a20e",
   "metadata": {
    "tags": []
   },
   "outputs": [
    {
     "data": {
      "text/plain": [
       "Text(0.5, 1.0, 'tiem series real price DBK.DE')"
      ]
     },
     "execution_count": 8,
     "metadata": {},
     "output_type": "execute_result"
    },
    {
     "data": {
      "image/png": "[encoded data removed]",
      "text/plain": [
       "<Figure size 432x288 with 1 Axes>"
      ]
     },
     "metadata": {
      "needs_background": "light"
     },
     "output_type": "display_data"
    }
   ],
   "source": [
    "# plot timeseries of price\n",
    "plt.figure()\n",
    "# time by close price\n",
    "plt.plot(t[\"date\"], t[\"close\"])\n",
    "plt.xlabel(\"Time\")\n",
    "plt.ylabel(\"Price\")\n",
    "plt.title(\"tiem series real price \" + ric)"
   ]
  },
  {
   "cell_type": "markdown",
   "id": "18b4e285-b946-4d5d-982d-7a46cc9f1472",
   "metadata": {},
   "source": [
    "**Refactoring** get_data_market()"
   ]
  },
  {
   "cell_type": "code",
   "execution_count": 9,
   "id": "5f225df4-ced8-4c08-841e-ee8de7b213e3",
   "metadata": {},
   "outputs": [],
   "source": [
    "def get_data_market(ric):\n",
    "    \"\"\"Get values and create new values from data markets\n",
    "    arg:\n",
    "        - ric : cod of market\n",
    "    return:\n",
    "        - x : array of real returns for day\n",
    "        - x_size : len of data\n",
    "    \"\"\"\n",
    "    # market cod. reading from pandas\n",
    "    path = \"data/\" + ric + \".csv\"\n",
    "    table_raw = pd.read_csv(path) \n",
    "\n",
    "    # creating table returns\n",
    "    t = pd.DataFrame()\n",
    "    t['date'] = pd.to_datetime(table_raw['Date'], \n",
    "                               dayfirst=True)\n",
    "    t['close'] = table_raw['Close'] # close price market\n",
    "    t.sort_values(by=\"date\", \n",
    "                  ascending=True)   # assure order days\n",
    "    t['close_previous'] = table_raw['Close'].shift(1)\n",
    "    t['return_close'] = (t['close'] / t['close_previous']) - 1\n",
    "    t = t.dropna()                  # eliminate nan\n",
    "    t = t.reset_index(drop=True)    # for having deleted rows\n",
    "\n",
    "    # input for Jarque-Bera test\n",
    "    x = t['return_close'].values    # return to arrays\n",
    "    x_size = len(x)\n",
    "    \n",
    "    # plot timeseries of price\n",
    "    plt.figure()\n",
    "    plt.plot(t[\"date\"], t[\"close\"])\n",
    "    plt.xlabel(\"Time\")\n",
    "    plt.ylabel(\"Price\")\n",
    "    plt.title(\"tiem series real price \" + ric)\n",
    "    \n",
    "    return x, x_size, ric"
   ]
  },
  {
   "cell_type": "code",
   "execution_count": 10,
   "id": "1705594a-8639-45ed-8ab4-9708d2d42157",
   "metadata": {},
   "outputs": [
    {
     "data": {
      "image/png": "[encoded data removed]",
      "text/plain": [
       "<Figure size 432x288 with 1 Axes>"
      ]
     },
     "metadata": {
      "needs_background": "light"
     },
     "output_type": "display_data"
    },
    {
     "data": {
      "image/png": "[encoded data removed]",
      "text/plain": [
       "<Figure size 432x288 with 1 Axes>"
      ]
     },
     "metadata": {
      "needs_background": "light"
     },
     "output_type": "display_data"
    },
    {
     "name": "stdout",
     "output_type": "stream",
     "text": [
      "Distibución: REAL RETURNS DBK.DE\n",
      "mean: 1.3595815869703402e-05\n",
      "std : 0.026048496464774504\n",
      "skewness : 0.4443541180611775\n",
      "kurtosis : 8.633007533803895\n",
      "x_sharpe :0.008285579410137047\n",
      "VaR 95% : -0.03891232113415408\n",
      "CVaR 95% : -0.06006752804852893\n",
      "Jarque-Bera : 13554.213577487986\n",
      "p_value : 0.0\n",
      "is normal :False\n"
     ]
    }
   ],
   "source": [
    "# DBK.DE\n",
    "x, x_size, ric = get_data_market(\"DBK.DE\")\n",
    "# test\n",
    "normality_test(x, x_size, ric)"
   ]
  },
  {
   "cell_type": "code",
   "execution_count": 11,
   "id": "b8d3b613-fca5-44b0-b2b0-7d4b03ea9a0b",
   "metadata": {},
   "outputs": [
    {
     "data": {
      "image/png": "[encoded data removed]",
      "text/plain": [
       "<Figure size 432x288 with 1 Axes>"
      ]
     },
     "metadata": {
      "needs_background": "light"
     },
     "output_type": "display_data"
    },
    {
     "data": {
      "image/png": "[encoded data removed]",
      "text/plain": [
       "<Figure size 432x288 with 1 Axes>"
      ]
     },
     "metadata": {
      "needs_background": "light"
     },
     "output_type": "display_data"
    },
    {
     "name": "stdout",
     "output_type": "stream",
     "text": [
      "Distibución: REAL RETURNS ^IXIC\n",
      "mean: 0.0007212274097762335\n",
      "std : 0.013171238256671073\n",
      "skewness : -0.6316034641118642\n",
      "kurtosis : 10.96977254091543\n",
      "x_sharpe :0.8692523790728852\n",
      "VaR 95% : -0.021344583847905007\n",
      "CVaR 95% : -0.03291847556163226\n",
      "Jarque-Bera : 8428.521942830355\n",
      "p_value : 0.0\n",
      "is normal :False\n"
     ]
    }
   ],
   "source": [
    "# NASDAQ\n",
    "x, x_size, ric = get_data_market(\"^IXIC\")\n",
    "# test\n",
    "normality_test(x, x_size, ric)"
   ]
  }
 ],
 "metadata": {
  "kernelspec": {
   "display_name": "Python 3",
   "language": "python",
   "name": "python3"
  },
  "language_info": {
   "codemirror_mode": {
    "name": "ipython",
    "version": 3
   },
   "file_extension": ".py",
   "mimetype": "text/x-python",
   "name": "python",
   "nbconvert_exporter": "python",
   "pygments_lexer": "ipython3",
   "version": "3.8.8"
  }
 },
 "nbformat": 4,
 "nbformat_minor": 5
}
