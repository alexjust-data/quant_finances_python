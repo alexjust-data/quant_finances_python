{
 "cells": [
  {
   "cell_type": "markdown",
   "id": "087c6427-9c4a-4671-b2ac-77bb069d6c72",
   "metadata": {},
   "source": [
    "# Alphas, betas and regressions refactoring with classes\n",
    "\n",
    "* stream_05.py\n",
    "\n",
    "En 07 vimos $r_{a} = \\alpha + \\beta r_M + \\varepsilon$ y ahora vamos hacer esta regresion con respecto al mercado. En este caso para $r_M$ vamos a usar acciones europeas pero podrçia ser cualquier otros mercados.\n",
    "\n",
    "Vamos hacer esta regresión lineal y calcular el beta que ya aprendimos a calcularlo utilizando varianzas y covarianzas:\n",
    "\n",
    "$\\beta = \\frac{Cov(r_a, r_M)}{Var(r_M)} = \\rho(r_a, r_M)\\frac{\\sigma_{A}}{\\sigma_{M}}$\n",
    "\n",
    "pero ahora lo calcularemos tbn con la regresión. Tengo dos serie de tiempo y simplemente voy a tomar la regresion lineal... y veremos que será exactamente igual que calcular $\\beta$."
   ]
  },
  {
   "cell_type": "code",
   "execution_count": 30,
   "id": "9557eb64-65bc-4d97-9539-8c92024feb4c",
   "metadata": {},
   "outputs": [],
   "source": [
    "import numpy as np\n",
    "import pandas as pd\n",
    "import scipy\n",
    "import importlib\n",
    "import matplotlib.pyplot as plt\n",
    "import matplotlib as mpl\n",
    "from scipy.stats import skew, kurtosis, chi2, linregress\n",
    "\n",
    "# import our own files an reload\n",
    "import stream_classes_refactoring2\n",
    "import stream_functions\n",
    "importlib.reload(stream_functions)\n",
    "importlib.reload(stream_classes_refactoring2)\n",
    "\n",
    "\n",
    "\n",
    "# input parameters\n",
    "ric = \"MT.AS\"        # MT.SA, BBVA.MC, REP.MC, VWS.CO, ^VIX\n",
    "benchmark = \"^STOXX\"  # STOXX50E, ^STOXX, ^S&P500, ^NASDAQ, ^FCHI, ^GDAXI\n",
    "file_extension = \"csv\"\n",
    "nb_decimals = 4\n",
    "\n",
    "# ric = r_a and benchmark = r_m\n",
    "x1, str1, t1 = stream_functions.load_time_series(ric)\n",
    "x2, str2, t2 = stream_functions.load_time_series(benchmark)"
   ]
  },
  {
   "cell_type": "markdown",
   "id": "9fc3bd5b-6666-4812-bd16-dbc60290116a",
   "metadata": {},
   "source": [
    "* **ric** = rendimiento de mi activo = $r_a$ = y\n",
    "* **benchmark** = rendimiento del mercado =  $r_M$ = x"
   ]
  },
  {
   "cell_type": "code",
   "execution_count": 12,
   "id": "1a7dd6be-e153-4946-973d-b9141e1472f4",
   "metadata": {},
   "outputs": [
    {
     "name": "stdout",
     "output_type": "stream",
     "text": [
      "1816\n",
      "1784\n"
     ]
    }
   ],
   "source": [
    "print(len(x1))\n",
    "print(len(x2))"
   ]
  },
  {
   "cell_type": "markdown",
   "id": "23594139-3244-46cb-930a-84096b41a5a7",
   "metadata": {},
   "source": [
    "La serie de tiempo de mi activo **ArcelorMittal (MT.AS)** tiene diferente longitud que la del mercado **STXE 600 PR.EUR (^STOXX)**. Debemos sincronizarlos:\n",
    "* voy a crear listas de los timestamps\n",
    "* luego tomaré la intersección, conservo los que están en los dos grupos."
   ]
  },
  {
   "cell_type": "code",
   "execution_count": 16,
   "id": "a4549120-0fce-42e2-a2c2-205b03791212",
   "metadata": {},
   "outputs": [
    {
     "name": "stdout",
     "output_type": "stream",
     "text": [
      "        date      close  close_previous  return_close\n",
      "0 2015-01-05  17.674152       18.379162     -0.038359\n",
      "        date       close  close_previous  return_close\n",
      "0 2015-01-06  331.609985       333.98999     -0.007126\n"
     ]
    }
   ],
   "source": [
    "# aquí tengo mis fechas\n",
    "print(t1.head(1))\n",
    "print(t2.head(1))"
   ]
  },
  {
   "cell_type": "code",
   "execution_count": 20,
   "id": "b4fd1954-c06d-4f43-806c-143d9bbc4154",
   "metadata": {},
   "outputs": [],
   "source": [
    "# sinchronize timestamps\n",
    "timestamps1 = list(t1['date'].values) # .values lo convierte en array\n",
    "timestamps2 = list(t2['date'].values)\n",
    "timestamps = list(set(timestamps1) & set(timestamps2))"
   ]
  },
  {
   "cell_type": "markdown",
   "id": "d5adcd00-6f6c-4890-92f4-bd7c25bf7eac",
   "metadata": {},
   "source": [
    "Una vez que tengo el conjunto de fechas en **timestamps** voy a sincronizar mis datos:"
   ]
  },
  {
   "cell_type": "code",
   "execution_count": 22,
   "id": "c3826e53-d611-421b-bdcb-356fd2bd365c",
   "metadata": {},
   "outputs": [],
   "source": [
    "# synchronised time series for x1 (ric)\n",
    "t1_sync = t1[t1['date'].isin(timestamps)]\n",
    "t1_sync.sort_values(by='date', ascending=True)\n",
    "t1_sync = t1_sync.reset_index(drop=True)\n",
    "\n",
    "# synchronised time series for x2 (benchmark)\n",
    "t2_sync = t2[t2['date'].isin(timestamps)]\n",
    "t2_sync.sort_values(by='date', ascending=True)\n",
    "t2_sync = t2_sync.reset_index(drop=True)"
   ]
  },
  {
   "cell_type": "markdown",
   "id": "d2a8e3ac-2e1e-4fae-a7e9-5fbc5301dc64",
   "metadata": {},
   "source": [
    "Voy a crear un atabla para guardar lo que devuelve ric and benchmark"
   ]
  },
  {
   "cell_type": "code",
   "execution_count": 25,
   "id": "716c7d9e-3589-4065-a43e-23497f91cc7c",
   "metadata": {},
   "outputs": [],
   "source": [
    "# table of returns for ric and benchmark\n",
    "t = pd.DataFrame()\n",
    "t['date'] = t1_sync.date\n",
    "t['price_1'] = t1_sync.close\n",
    "t['price_2'] = t2_sync.close\n",
    "t['return_1'] = t1_sync.return_close\n",
    "t['return_2'] = t2_sync.return_close"
   ]
  },
  {
   "cell_type": "code",
   "execution_count": 26,
   "id": "5944b0cd-feb1-4e00-8027-61b0606a1d85",
   "metadata": {},
   "outputs": [
    {
     "data": {
      "text/html": [
       "<div>\n",
       "<style scoped>\n",
       "    .dataframe tbody tr th:only-of-type {\n",
       "        vertical-align: middle;\n",
       "    }\n",
       "\n",
       "    .dataframe tbody tr th {\n",
       "        vertical-align: top;\n",
       "    }\n",
       "\n",
       "    .dataframe thead th {\n",
       "        text-align: right;\n",
       "    }\n",
       "</style>\n",
       "<table border=\"1\" class=\"dataframe\">\n",
       "  <thead>\n",
       "    <tr style=\"text-align: right;\">\n",
       "      <th></th>\n",
       "      <th>date</th>\n",
       "      <th>price_1</th>\n",
       "      <th>price_2</th>\n",
       "      <th>return_1</th>\n",
       "      <th>return_2</th>\n",
       "    </tr>\n",
       "  </thead>\n",
       "  <tbody>\n",
       "    <tr>\n",
       "      <th>0</th>\n",
       "      <td>2015-01-06</td>\n",
       "      <td>17.670076</td>\n",
       "      <td>331.609985</td>\n",
       "      <td>-0.000231</td>\n",
       "      <td>-0.007126</td>\n",
       "    </tr>\n",
       "    <tr>\n",
       "      <th>1</th>\n",
       "      <td>2015-01-07</td>\n",
       "      <td>17.641550</td>\n",
       "      <td>333.200012</td>\n",
       "      <td>-0.001614</td>\n",
       "      <td>0.004795</td>\n",
       "    </tr>\n",
       "    <tr>\n",
       "      <th>2</th>\n",
       "      <td>2015-01-08</td>\n",
       "      <td>18.287470</td>\n",
       "      <td>342.350006</td>\n",
       "      <td>0.036614</td>\n",
       "      <td>0.027461</td>\n",
       "    </tr>\n",
       "    <tr>\n",
       "      <th>3</th>\n",
       "      <td>2015-01-09</td>\n",
       "      <td>17.820860</td>\n",
       "      <td>337.929993</td>\n",
       "      <td>-0.025515</td>\n",
       "      <td>-0.012911</td>\n",
       "    </tr>\n",
       "    <tr>\n",
       "      <th>4</th>\n",
       "      <td>2015-01-12</td>\n",
       "      <td>17.374624</td>\n",
       "      <td>339.869995</td>\n",
       "      <td>-0.025040</td>\n",
       "      <td>0.005741</td>\n",
       "    </tr>\n",
       "  </tbody>\n",
       "</table>\n",
       "</div>"
      ],
      "text/plain": [
       "        date    price_1     price_2  return_1  return_2\n",
       "0 2015-01-06  17.670076  331.609985 -0.000231 -0.007126\n",
       "1 2015-01-07  17.641550  333.200012 -0.001614  0.004795\n",
       "2 2015-01-08  18.287470  342.350006  0.036614  0.027461\n",
       "3 2015-01-09  17.820860  337.929993 -0.025515 -0.012911\n",
       "4 2015-01-12  17.374624  339.869995 -0.025040  0.005741"
      ]
     },
     "execution_count": 26,
     "metadata": {},
     "output_type": "execute_result"
    }
   ],
   "source": [
    "t.head()"
   ]
  },
  {
   "cell_type": "markdown",
   "id": "9e71c0c3-74b0-4e79-9458-5d67285390d3",
   "metadata": {},
   "source": [
    "---\n",
    "\n",
    "$r_{a} = \\alpha + \\beta r_M + \\varepsilon$\n",
    "\n",
    "* $r_a$ = **price_1**\n",
    "* $r_M$ = **price_2**\n",
    "\n",
    "Yo voy hacer la regresion lineal del \n",
    "* **return_1** con respecto $r_a$\n",
    "* **return_2** con respecto $r_M$"
   ]
  },
  {
   "cell_type": "code",
   "execution_count": 29,
   "id": "3605e25e-0ef4-4bf4-9922-9177a8b5b918",
   "metadata": {},
   "outputs": [],
   "source": [
    "# compute vectors of return\n",
    "y = t['return_1'].values\n",
    "x = t['return_2'].values"
   ]
  },
  {
   "cell_type": "markdown",
   "id": "4dba8631-9287-4d12-9a92-c196418a63a9",
   "metadata": {},
   "source": [
    "Regresion lineal\n",
    "\n",
    "* https://docs.scipy.org/doc/scipy-1.6.2/reference/generated/scipy.stats.linregress.html\n"
   ]
  },
  {
   "cell_type": "code",
   "execution_count": 45,
   "id": "1933d14d-03d8-46d7-970a-36f410ae805d",
   "metadata": {},
   "outputs": [],
   "source": [
    "slope, intercep, r_values, p_values, std_err = linregress(x, y)\n",
    "\n",
    "slope = np.round(slope, nb_decimals)\n",
    "intercept = np.round(intercep, nb_decimals)\n",
    "p_values = np.round(p_values, nb_decimals)\n",
    "r_values = np.round(r_values, nb_decimals)\n",
    "r_squared = np.round(r_values**2, nb_decimals)\n",
    "\n",
    "# Si el `p_value < 0.05` rechazamos la hipótesis nula.\n",
    "null_hypothesis = p_values > 0.05\n",
    "\n",
    "# predictor \n",
    "predictor_linreg = slope*x + intercept"
   ]
  },
  {
   "cell_type": "markdown",
   "id": "a3da31e1-26c2-4569-b398-6385ed6853de",
   "metadata": {},
   "source": [
    "* **slope** (pendiente) = $\\beta$\n",
    "* **intercep** (ordenada al origen) = $\\alpha$\n",
    "* **r_value** es la correlación.\n",
    "* **r_squared** * 100 el porcentaje de toda la información vista como la varianza del modelo, la recupera la regresión lineal. Es decir si $R^2 = .58$ significa que $\\alpha + \\beta r_M$ recupera el 58% y el error $\\varepsilon$ tiene el 42%.\n",
    "* La **hipótesis nula** de este caso es que tanto alpha como beta son 0. Que no hay regresión lineal. \n",
    "* Mi **predictor_linreg** de la regresión lineal va a ser $r_{a} = \\alpha + \\beta r_M$, osea que voy a aproximar mi rendimiento como $\\alpha + \\beta r_M$. Con esto podré comparar mi verdadera $y$ con el predictor."
   ]
  },
  {
   "cell_type": "code",
   "execution_count": 42,
   "id": "2b170791-90c9-4acb-9bbd-4409bc3c6496",
   "metadata": {},
   "outputs": [
    {
     "name": "stdout",
     "output_type": "stream",
     "text": [
      "0.0\n"
     ]
    }
   ],
   "source": [
    "print(p_values)"
   ]
  },
  {
   "cell_type": "markdown",
   "id": "3eb39a8e-7ed6-4040-ada0-ac05658a4ece",
   "metadata": {},
   "source": [
    "Como el p_value es muy pequeño rechazamos la hipótesis nula, los alpha y beta que tengo nos dice que son estadísticamente significativos."
   ]
  },
  {
   "cell_type": "code",
   "execution_count": 43,
   "id": "a6d843bd-de0b-4626-ba88-e36180d0c16f",
   "metadata": {},
   "outputs": [
    {
     "name": "stdout",
     "output_type": "stream",
     "text": [
      "False\n"
     ]
    }
   ],
   "source": [
    "print(null_hypothesis)"
   ]
  },
  {
   "cell_type": "code",
   "execution_count": 53,
   "id": "0a8a4478-ba2c-4591-9cd6-8a9209745342",
   "metadata": {},
   "outputs": [
    {
     "data": {
      "image/png": "[encoded data removed]",
      "text/plain": [
       "<Figure size 432x288 with 1 Axes>"
      ]
     },
     "metadata": {
      "needs_background": "light"
     },
     "output_type": "display_data"
    }
   ],
   "source": [
    "# scatterplot of returns\n",
    "str_title = \"Scarterplot of returns \" + \"\\n\"\\\n",
    "    + \"Linear regression of / ric \"\\\n",
    "    + \" / benchmark : \" + benchmark + \"\\n\"\\\n",
    "    + \"alpha (intercept) : \" + str(intercept)\\\n",
    "    + \" / beta (slope) : \" + str(slope) + \"\\n\"\\\n",
    "    + \"p-value : \" + str(p_values)\\\n",
    "    + \" / null hypothesis : \" + str(null_hypothesis) + \"\\n\"\\\n",
    "    + \"r-value : \" + str(r_values)\\\n",
    "    + \" / r-squared : \" + str(r_squared)\n",
    "\n",
    "plt.figure()\n",
    "plt.title(str_title)\n",
    "plt.scatter(x,y)\n",
    "plt.plot(x, predictor_linreg, color=\"green\")\n",
    "plt.ylabel(ric)\n",
    "plt.xlabel(benchmark)\n",
    "plt.grid()\n",
    "plt.show()"
   ]
  },
  {
   "cell_type": "markdown",
   "id": "84748386-213d-4bae-93d0-bf2b57db45ca",
   "metadata": {},
   "source": [
    "Esta regresión lineal en verde si tiene buena cara, entonces cuando uno se pregunta si debería considerar la *tasa libre de riesgo* y seguir el modelo como tal, yo simplemente dije, voy a suponer hacer las matemáticas más simples que pueda $r_{a} = \\alpha + \\beta r_M + \\varepsilon$ y cunado optengo esa linea verde digo ok, perfecto. Entonces bajo esa perspectiva, como tiene una buena $R^2$ el modelo no estám mal, entonces voy a suponer que la **tasa libre de riesgo** es igual a cero o que no existe no es un mal modelo por lo que se muestra.\n",
    "\n",
    "**MONTO MI ESTRUCTURA**  y pruebo con otros activos:"
   ]
  },
  {
   "cell_type": "code",
   "execution_count": 59,
   "id": "3cc18d72-1e65-4111-85e4-cebc8cbc923f",
   "metadata": {},
   "outputs": [
    {
     "name": "stdout",
     "output_type": "stream",
     "text": [
      "Empty DataFrame\n",
      "Columns: [date, price_1, price_2, return_1, return_2]\n",
      "Index: []\n"
     ]
    },
    {
     "ename": "ValueError",
     "evalue": "Inputs must not be empty.",
     "output_type": "error",
     "traceback": [
      "\u001b[0;31m---------------------------------------------------------------------------\u001b[0m",
      "\u001b[0;31mValueError\u001b[0m                                Traceback (most recent call last)",
      "\u001b[0;32m<ipython-input-59-fec658cbf3d1>\u001b[0m in \u001b[0;36m<module>\u001b[0;34m\u001b[0m\n\u001b[1;32m     56\u001b[0m \u001b[0;34m\u001b[0m\u001b[0m\n\u001b[1;32m     57\u001b[0m \u001b[0;31m# linal regression\u001b[0m\u001b[0;34m\u001b[0m\u001b[0;34m\u001b[0m\u001b[0;34m\u001b[0m\u001b[0m\n\u001b[0;32m---> 58\u001b[0;31m \u001b[0mslope\u001b[0m\u001b[0;34m,\u001b[0m \u001b[0mintercep\u001b[0m\u001b[0;34m,\u001b[0m \u001b[0mr_values\u001b[0m\u001b[0;34m,\u001b[0m \u001b[0mp_values\u001b[0m\u001b[0;34m,\u001b[0m \u001b[0mstd_err\u001b[0m \u001b[0;34m=\u001b[0m \u001b[0mlinregress\u001b[0m\u001b[0;34m(\u001b[0m\u001b[0mx\u001b[0m\u001b[0;34m,\u001b[0m \u001b[0my\u001b[0m\u001b[0;34m)\u001b[0m\u001b[0;34m\u001b[0m\u001b[0;34m\u001b[0m\u001b[0m\n\u001b[0m\u001b[1;32m     59\u001b[0m \u001b[0;34m\u001b[0m\u001b[0m\n\u001b[1;32m     60\u001b[0m \u001b[0mslope\u001b[0m \u001b[0;34m=\u001b[0m \u001b[0mnp\u001b[0m\u001b[0;34m.\u001b[0m\u001b[0mround\u001b[0m\u001b[0;34m(\u001b[0m\u001b[0mslope\u001b[0m\u001b[0;34m,\u001b[0m \u001b[0mnb_decimals\u001b[0m\u001b[0;34m)\u001b[0m\u001b[0;34m\u001b[0m\u001b[0;34m\u001b[0m\u001b[0m\n",
      "\u001b[0;32m~/opt/anaconda3/lib/python3.8/site-packages/scipy/stats/_stats_mstats_common.py\u001b[0m in \u001b[0;36mlinregress\u001b[0;34m(x, y)\u001b[0m\n\u001b[1;32m    134\u001b[0m \u001b[0;34m\u001b[0m\u001b[0m\n\u001b[1;32m    135\u001b[0m     \u001b[0;32mif\u001b[0m \u001b[0mx\u001b[0m\u001b[0;34m.\u001b[0m\u001b[0msize\u001b[0m \u001b[0;34m==\u001b[0m \u001b[0;36m0\u001b[0m \u001b[0;32mor\u001b[0m \u001b[0my\u001b[0m\u001b[0;34m.\u001b[0m\u001b[0msize\u001b[0m \u001b[0;34m==\u001b[0m \u001b[0;36m0\u001b[0m\u001b[0;34m:\u001b[0m\u001b[0;34m\u001b[0m\u001b[0;34m\u001b[0m\u001b[0m\n\u001b[0;32m--> 136\u001b[0;31m         \u001b[0;32mraise\u001b[0m \u001b[0mValueError\u001b[0m\u001b[0;34m(\u001b[0m\u001b[0;34m\"Inputs must not be empty.\"\u001b[0m\u001b[0;34m)\u001b[0m\u001b[0;34m\u001b[0m\u001b[0;34m\u001b[0m\u001b[0m\n\u001b[0m\u001b[1;32m    137\u001b[0m \u001b[0;34m\u001b[0m\u001b[0m\n\u001b[1;32m    138\u001b[0m     \u001b[0mn\u001b[0m \u001b[0;34m=\u001b[0m \u001b[0mlen\u001b[0m\u001b[0;34m(\u001b[0m\u001b[0mx\u001b[0m\u001b[0;34m)\u001b[0m\u001b[0;34m\u001b[0m\u001b[0;34m\u001b[0m\u001b[0m\n",
      "\u001b[0;31mValueError\u001b[0m: Inputs must not be empty."
     ]
    }
   ],
   "source": [
    "import numpy as np\n",
    "import pandas as pd\n",
    "import scipy\n",
    "import importlib\n",
    "import matplotlib.pyplot as plt\n",
    "import matplotlib as mpl\n",
    "from scipy.stats import skew, kurtosis, chi2, linregress\n",
    "\n",
    "# import our own files an reload\n",
    "import stream_classes_refactoring2\n",
    "import stream_functions\n",
    "importlib.reload(stream_functions)\n",
    "importlib.reload(stream_classes_refactoring2)\n",
    "\n",
    "\n",
    "\n",
    "# Banco Santander, S.A. (SAN) vs S&P 500 INDEX (^SPX)\n",
    "ric = \"SAN\"         # SAN MT.SA, BBVA.MC, REP.MC, VWS.CO, ^VIX\n",
    "benchmark = \"^SPX\"  # STOXX50E, ^STOXX, ^S&P500, ^NASDAQ, ^FCHI, ^GDAXI\n",
    "file_extension = \"csv\"\n",
    "nb_decimals = 4\n",
    "\n",
    "\n",
    "# ric = r_a and benchmark = r_m\n",
    "x1, str1, t1 = stream_functions.load_time_series(ric)\n",
    "x2, str2, t2 = stream_functions.load_time_series(benchmark)\n",
    "\n",
    "# sinchronize timestamps\n",
    "timestamps1 = list(t1['date'].values) # .values lo convierte en array\n",
    "timestamps2 = list(t2['date'].values)\n",
    "timestamps = list(set(timestamps1) & set(timestamps2))\n",
    "\n",
    "# synchronised time series for x1 (ric)\n",
    "t1_sync = t1[t1['date'].isin(timestamps)]\n",
    "t1_sync.sort_values(by='date', ascending=True)\n",
    "t1_sync = t1_sync.reset_index(drop=True)\n",
    "\n",
    "# synchronised time series for x2 (benchmark)\n",
    "t2_sync = t2[t2['date'].isin(timestamps)]\n",
    "t2_sync.sort_values(by='date', ascending=True)\n",
    "t2_sync = t2_sync.reset_index(drop=True)\n",
    "\n",
    "# table of returns for ric and benchmark\n",
    "t = pd.DataFrame()\n",
    "t['date'] = t1_sync.date\n",
    "t['price_1'] = t1_sync.close\n",
    "t['price_2'] = t2_sync.close\n",
    "t['return_1'] = t1_sync.return_close\n",
    "t['return_2'] = t2_sync.return_close\n",
    "\n",
    "# compute vectors of return\n",
    "y = t['return_1'].values\n",
    "x = t['return_2'].values\n",
    "\n",
    "# linal regression\n",
    "slope, intercep, r_values, p_values, std_err = linregress(x, y)\n",
    "\n",
    "slope = np.round(slope, nb_decimals)\n",
    "intercept = np.round(intercep, nb_decimals)\n",
    "p_values = np.round(p_values, nb_decimals)\n",
    "r_values = np.round(r_values, nb_decimals)\n",
    "r_squared = np.round(r_values**2, nb_decimals)\n",
    "\n",
    "# Si el `p_value < 0.05` rechazamos la hipótesis nula.\n",
    "null_hypothesis = p_values > 0.05\n",
    "\n",
    "# predictor \n",
    "predictor_linreg = slope*x + intercept\n",
    "\n",
    "# scatterplot of returns\n",
    "str_title = \"Scarterplot of returns \" + \"\\n\"\\\n",
    "    + \"Linear regression of / ric \"\\\n",
    "    + \" / benchmark : \" + benchmark + \"\\n\"\\\n",
    "    + \"alpha (intercept) : \" + str(intercept)\\\n",
    "    + \" / beta (slope) : \" + str(slope) + \"\\n\"\\\n",
    "    + \"p-value : \" + str(p_values)\\\n",
    "    + \" / null hypothesis : \" + str(null_hypothesis) + \"\\n\"\\\n",
    "    + \"r-value : \" + str(r_values)\\\n",
    "    + \" / r-squared : \" + str(r_squared)\n",
    "\n",
    "plt.figure()\n",
    "plt.title(str_title)\n",
    "plt.scatter(x,y)\n",
    "plt.plot(x, predictor_linreg, color=\"green\")\n",
    "plt.ylabel(ric)\n",
    "plt.xlabel(benchmark)\n",
    "plt.grid()\n",
    "plt.show()"
   ]
  },
  {
   "cell_type": "code",
   "execution_count": null,
   "id": "00174f9a-c199-4505-b768-73253bfee0bb",
   "metadata": {},
   "outputs": [],
   "source": []
  }
 ],
 "metadata": {
  "kernelspec": {
   "display_name": "Python 3",
   "language": "python",
   "name": "python3"
  },
  "language_info": {
   "codemirror_mode": {
    "name": "ipython",
    "version": 3
   },
   "file_extension": ".py",
   "mimetype": "text/x-python",
   "name": "python",
   "nbconvert_exporter": "python",
   "pygments_lexer": "ipython3",
   "version": "3.8.8"
  }
 },
 "nbformat": 4,
 "nbformat_minor": 5
}
