{
 "cells": [
  {
   "cell_type": "markdown",
   "id": "168d66de-7a51-4480-a2c2-7867552af591",
   "metadata": {},
   "source": [
    "# Clases\n",
    "\n",
    "Cuando tengo más de dos o tres salidas (returns) de funciones o métodos, a mi me gusta guardarlo en clases.\n",
    "\n",
    "Cuando trabajamos Java, C++, etc se acostrumbra a guardar cada `clase` en un archivo diferente. En nuestro caso con python vamos a colocar tantas clases como queramos en un mismo archivo. Se acostumbra que si tenemos clases que están reacionadas entre si estén en archivos diferentes."
   ]
  },
  {
   "cell_type": "code",
   "execution_count": 1,
   "id": "279ba4de-6f8e-4544-b206-6a74d4853d06",
   "metadata": {},
   "outputs": [],
   "source": [
    "# Activamos alertas de estilo\n",
    "%load_ext pycodestyle_magic\n",
    "%pycodestyle_on"
   ]
  },
  {
   "cell_type": "code",
   "execution_count": 2,
   "id": "70860819-02fe-459f-929d-205d9fd50ebb",
   "metadata": {},
   "outputs": [],
   "source": [
    "# !/usr/bin/ python\n",
    "# -*- coding: utf-8 -*-\n",
    "\n",
    "import numpy as np\n",
    "import pandas as pd\n",
    "import scipy\n",
    "import importlib\n",
    "import matplotlib.pyplot as plt\n",
    "import matplotlib as mpl\n",
    "from scipy.stats import skew, kurtosis, chi2\n",
    "\n",
    "import stream_functions\n",
    "importlib.reload(stream_functions)  # aveces no importa bien\n",
    "\n",
    "\n",
    "class jarque_bera_test():\n",
    "\n",
    "    # create constructor\n",
    "    # self. nos permitirá llamar a cada uno de ellos\n",
    "    # compute \"risk metrics\"\n",
    "    def __init__(self, x):\n",
    "        self.size = len(x)  # size of returns\n",
    "        self.x_mean = np.mean(x)\n",
    "        self.x_stdev = np.std(x)\n",
    "        self.x_skew = skew(x)\n",
    "        self.x_kurt = kurtosis(x)\n",
    "        self.x_sharpe = self.x_mean / self.x_stdev * np.sqrt(252)  # anualizado\n",
    "        self.x_var_95 = np.percentile(x, 5)\n",
    "        self.x_cvar_95 = np.mean(x[x <= self.x_var_95])\n",
    "        self.jarque_bera = self.size/6 * (\n",
    "            self.x_skew**2 + 1/4*(self.x_kurt**2)\n",
    "        )\n",
    "        # buscamos dos grados de libertad\n",
    "        self.p_value = 1 - chi2.cdf(self.jarque_bera, df=2)\n",
    "        self.is_normal = (self.p_value > 0.05)  # equivalenty jb < 6\n",
    "\n",
    "        # print risk metrics\n",
    "        self.plot_str = \"mean: \" + str(np.round(self.x_mean, 4))\\\n",
    "            + \" | std : \" + str(np.round(self.x_stdev, 4))\\\n",
    "            + \" | skewness : \" + str(np.round(self.x_skew, 4))\\\n",
    "            + \" | kurtosis : \" + str(np.round(self.x_kurt, 4))\\\n",
    "            + \" | x_sharpe ratio :\" + str(np.round(self.x_sharpe, 4)) + \"\\n\"\\\n",
    "            + \" VaR 95% : \" + str(np.round(self.x_var_95, 4))\\\n",
    "            + \" | CVaR 95% : \" + str(np.round(self.x_cvar_95, 4))\\\n",
    "            + \" | Jarque-Bera : \" + str(np.round(self.jarque_bera, 4))\\\n",
    "            + \" | p_value : \" + str(np.round(self.p_value, 4))\\\n",
    "            + \" | is normal :\" + str(self.is_normal)"
   ]
  },
  {
   "cell_type": "code",
   "execution_count": 4,
   "id": "bedcd470-8a4c-4265-a1b1-65370363c126",
   "metadata": {},
   "outputs": [],
   "source": [
    "import importlib\n",
    "import stream_functions\n",
    "import stream_classes\n",
    "importlib.reload(stream_functions)  # aveces no importa bien\n",
    "\n",
    "ric = \"^VIX\"\n",
    "\n",
    "# capturo el return de los métodos\n",
    "x, x_str, t = stream_functions.load_time_series(ric)\n",
    "plot_str = stream_functions.jarque_bera_test(x, x_str)\n",
    "\n",
    "# creo objeto\n",
    "# el constructor pide la x [def __init__(self, x):]\n",
    "z = stream_classes.jarque_bera_test(x)"
   ]
  },
  {
   "cell_type": "code",
   "execution_count": 5,
   "id": "eaf0c3d6-c53c-4897-9c48-be567dd68175",
   "metadata": {},
   "outputs": [
    {
     "data": {
      "text/plain": [
       "0.0"
      ]
     },
     "execution_count": 5,
     "metadata": {},
     "output_type": "execute_result"
    }
   ],
   "source": [
    "z.p_value"
   ]
  },
  {
   "cell_type": "code",
   "execution_count": 6,
   "id": "51bc5e9c-f5d2-40e9-b73d-e4d0bc4d49b8",
   "metadata": {},
   "outputs": [
    {
     "data": {
      "text/plain": [
       "2.5624546688174"
      ]
     },
     "execution_count": 6,
     "metadata": {},
     "output_type": "execute_result"
    }
   ],
   "source": [
    "z.x_skew"
   ]
  },
  {
   "cell_type": "markdown",
   "id": "4ed30183-4c6c-4db2-947d-78bf5035c025",
   "metadata": {},
   "source": [
    ">En `z` vamos a tener diferentes objetos de diferentes activos ¿cómo se yo que tal objeto biene de tal activo? Necesito de alguna manera llamarlo."
   ]
  },
  {
   "cell_type": "code",
   "execution_count": 7,
   "id": "45301554-cf72-4365-9e96-ef402495ad0e",
   "metadata": {},
   "outputs": [
    {
     "name": "stdout",
     "output_type": "stream",
     "text": [
      "<stream_classes.jarque_bera_test object at 0x7fa63ed985b0>\n"
     ]
    }
   ],
   "source": [
    "print(z)"
   ]
  },
  {
   "cell_type": "markdown",
   "id": "a04a10ae-9ce4-4a17-81c3-37f1b9400381",
   "metadata": {},
   "source": [
    "> Quiero que cuando yo le dé print al objeto, me de los datos del objeto. Para ello se acostrumbra separar el `constructor` de los cálculos del `print`.\n",
    ">\n",
    "> `str_self` : Me voy a crear un `print` que me va a decir:\n",
    "> * `self.str_name` : el nombre\n",
    "> * `self.size` : la talla o dimensión de los datos\n",
    "> * `self.plot_str()` :  imprimo lo que sucede en la siguiente funcion que creo."
   ]
  },
  {
   "cell_type": "code",
   "execution_count": 7,
   "id": "334b1568-ac1f-4b27-ab78-11de713a6b63",
   "metadata": {},
   "outputs": [],
   "source": [
    "def __str__(self):\n",
    "    str_self = self.str_name + \"/ size \" + str(self.size) + \\\n",
    "               \"\\n\" + self.plot_str() + \"\\n\"\n",
    "\n",
    "    return str_self"
   ]
  },
  {
   "cell_type": "markdown",
   "id": "5265050a-4665-4b87-9152-e13410c2a0a3",
   "metadata": {},
   "source": [
    "> Creo método para imprimir los cálculos"
   ]
  },
  {
   "cell_type": "code",
   "execution_count": 8,
   "id": "eabe885d-fd86-4f2f-9365-1406d6e46114",
   "metadata": {},
   "outputs": [],
   "source": [
    "def plot_str(self):\n",
    "    # print risk metrics\n",
    "    self.plot_str = \"mean: \" + str(np.round(self.x_mean, 4))\\\n",
    "        + \" | std : \" + str(np.round(self.x_stdev, 4))\\\n",
    "        + \" | skewness : \" + str(np.round(self.x_skew, 4))\\\n",
    "        + \" | kurtosis : \" + str(np.round(self.x_kurt, 4))\\\n",
    "        + \" | x_sharpe ratio :\" + str(np.round(self.x_sharpe, 4)) + \"\\n\"\\\n",
    "        + \" VaR 95% : \" + str(np.round(self.x_var_95, 4))\\\n",
    "        + \" | CVaR 95% : \" + str(np.round(self.x_cvar_95, 4))\\\n",
    "        + \" | Jarque-Bera : \" + str(np.round(self.jarque_bera, 4))\\\n",
    "        + \" | p_value : \" + str(np.round(self.p_value, 4))\\\n",
    "        + \" | is normal :\" + str(self.is_normal)"
   ]
  },
  {
   "cell_type": "markdown",
   "id": "f10fba25-2ec5-47c5-b056-5ab490f3de12",
   "metadata": {},
   "source": [
    "**MONTO LA CLASE**\n",
    "> "
   ]
  },
  {
   "cell_type": "code",
   "execution_count": 9,
   "id": "75e3cb50-f29a-4940-82a1-0da3b1bbe8a5",
   "metadata": {},
   "outputs": [],
   "source": [
    "class jarque_bera_test():\n",
    "\n",
    "    # create constructor\n",
    "    # self. nos permitirá llamar a cada uno de ellos\n",
    "    # compute \"risk metrics\"\n",
    "    def __init__(self, x, x_str):\n",
    "        self.name = x_str\n",
    "        self.size = len(x)  # size of returns\n",
    "        self.x_mean = np.mean(x)\n",
    "        self.x_stdev = np.std(x)\n",
    "        self.x_skew = skew(x)\n",
    "        self.x_kurt = kurtosis(x)\n",
    "        self.x_sharpe = self.x_mean / self.x_stdev * np.sqrt(252)  # anualizado\n",
    "        self.x_var_95 = np.percentile(x, 5)\n",
    "        self.x_cvar_95 = np.mean(x[x <= self.x_var_95])\n",
    "        self.jarque_bera = self.size/6 * (\n",
    "            self.x_skew**2 + 1/4*(self.x_kurt**2)\n",
    "        )\n",
    "        self.p_value = 1 - chi2.cdf(self.jarque_bera, df=2)\n",
    "        self.is_normal = (self.p_value > 0.05)  # equivalenty jb < 6\n",
    "\n",
    "    def __str__(self):\n",
    "        str_self = self.str_name + \" | size \" + str(self.size) + \\\n",
    "                   \"\\n\" + self.str_stats() + \"\\n\"\n",
    "        return str_self\n",
    "\n",
    "    def plot_str(self):\n",
    "        # print risk metrics\n",
    "        plot_str = \"mean: \" + str(np.round(self.x_mean, 4))\\\n",
    "            + \" | std : \" + str(np.round(self.x_stdev, 4))\\\n",
    "            + \" | skewness : \" + str(np.round(self.x_skew, 4))\\\n",
    "            + \" | kurtosis : \" + str(np.round(self.x_kurt, 4))\\\n",
    "            + \" | x_sharpe ratio :\" + str(np.round(self.x_sharpe, 4)) + \"\\n\"\\\n",
    "            + \" VaR 95% : \" + str(np.round(self.x_var_95, 4))\\\n",
    "            + \" | CVaR 95% : \" + str(np.round(self.x_cvar_95, 4))\\\n",
    "            + \" | Jarque-Bera : \" + str(np.round(self.jarque_bera, 4))\\\n",
    "            + \" | p_value : \" + str(np.round(self.p_value, 4))\\\n",
    "            + \" | is normal :\" + str(self.is_normal)\n",
    "        return plot_str"
   ]
  },
  {
   "cell_type": "markdown",
   "id": "a9942153-57b1-4f19-9ffc-d635f188d328",
   "metadata": {},
   "source": [
    "> Vamos a llamar al constructor e imprimir los datos del str que hemos escrito en ` def __str__(self):`"
   ]
  },
  {
   "cell_type": "code",
   "execution_count": 2,
   "id": "15ba20cc-ed30-4677-8148-e3cb359e0499",
   "metadata": {},
   "outputs": [],
   "source": [
    "import importlib\n",
    "import stream_functions\n",
    "import stream_classes_refactoring\n",
    "importlib.reload(stream_functions)  # aveces no importa bien\n",
    "\n",
    "\n",
    "ric = \"^VIX\"\n",
    "x, x_str, t = stream_functions.load_time_series(ric)\n",
    "z = stream_classes_refactoring.jarque_bera_test(x, x_str)"
   ]
  },
  {
   "cell_type": "code",
   "execution_count": 3,
   "id": "998e4d7e-a715-49c4-8607-7d166cd07677",
   "metadata": {},
   "outputs": [
    {
     "name": "stdout",
     "output_type": "stream",
     "text": [
      "Real returns ^VIX | size 1784 \n",
      "mean: 0.0038 | std : 0.0907 | skewness : 2.5625 | kurtosis : 19.8197 | x_sharpe ratio :0.6681 | VaR 95% : -0.1087 | CVaR 95% : -0.1473 | Jarque-Bera : 31152.0607 | p_value : 0.0 | is normal :False \n",
      "\n"
     ]
    }
   ],
   "source": [
    "# llamo al constructor y realiza los calculos\n",
    "print(z)"
   ]
  },
  {
   "cell_type": "markdown",
   "id": "82dfa73f-3f8c-4b8f-8904-614b80cbaf26",
   "metadata": {},
   "source": [
    "**MEJORANDO**\n",
    "> De esta forma si hay algún error no sabríamos donde está ubicado el error.  \n",
    ">Vayamos a separar ahora los cálculos de los print.\n",
    ">\n",
    "> Tal como tenemos ahora la clase, en el consructor me está haciendo los cálculos. Yo ahora voy a crear un método [`def compute(self):`] para que me haga los cálculos a parte, así sabré si falla el constructor o los cálculos.\n",
    ">\n",
    ">En el `constructor` voy a inicializar todos los atributos, así si alguien va a la clase que estoy creando, el partícipe verá una nota clara en el inicializador viendo cuáles son todas las variables que necesito y van a tener que leer todo el código.\n",
    ">\n",
    "> El argumento de entrada `x` voy a generar un objeto `return` que será el que use en toda la clase"
   ]
  },
  {
   "cell_type": "code",
   "execution_count": null,
   "id": "d63d39e0-59c3-44d9-8ce7-088b458b02e7",
   "metadata": {},
   "outputs": [],
   "source": [
    "class jarque_bera_test():\n",
    "\n",
    "    def __init__(self, x, x_str):\n",
    "        # create constructor\n",
    "        self.returns = x\n",
    "        self.name = x_str\n",
    "        self.size = len(x)  # size of returns\n",
    "        self.round_digit = 4  # por si quiero modificarlo\n",
    "        self.x_mean = 0.0\n",
    "        self.x_stdev = 0.0\n",
    "        self.x_skew = 0.0\n",
    "        self.x_kurt = 0.0\n",
    "        self.x_sharpe = 0.0\n",
    "        self.median = 0.0\n",
    "        self.x_var_95 = 0.0\n",
    "        self.x_cvar_95 = 0.0\n",
    "        self.jarque_bera = 0.0\n",
    "        self.p_value = 0.0\n",
    "        self.is_normal = 0.0\n",
    "\n",
    "    def compute(self):\n",
    "        # compute \"risk metrics\"\n",
    "        self.x_mean = np.mean(self.return)\n",
    "        self.x_stdev = np.std(self.return)\n",
    "        self.x_skew = skew(self.return)\n",
    "        self.x_kurt = kurtosis(self.return)\n",
    "        self.x_sharpe = self.x_mean / self.x_stdev * np.sqrt(252)\n",
    "        self.median = np.median(self.returns)\n",
    "        self.x_var_95 = np.percentile(self.return, 5)\n",
    "        self.x_cvar_95 = np.mean(self.return[self.return <= self.x_var_95])\n",
    "        self.jarque_bera = self.size/6 * (\n",
    "            self.x_skew**2 + 1/4*(self.x_kurt**2)\n",
    "        )\n",
    "        self.p_value = 1 - chi2.cdf(self.jarque_bera, df=2)\n",
    "        self.is_normal = (self.p_value > 0.05)  # equivalenty jb < 6\n",
    "\n",
    "    def __str__(self):\n",
    "        str_self = self.str_name + \" | size \" + str(self.size) + \\\n",
    "                   \"\\n\" + self.str_stats() + \"\\n\"\n",
    "        return str_self\n",
    "\n",
    "    def plot_str(self):\n",
    "        plot_str = \"mean: \" + str(np.round(self.x_mean, self.round_digit))\\\n",
    "            + \" | std : \" + str(np.round(self.x_stdev, self.round_digit))\\\n",
    "            + \" | skewness : \" + str(np.round(self.x_skew, self.round_digit))\\\n",
    "            + \" | kurtosis : \" + str(np.round(self.x_kurt, self.round_digit))\\\n",
    "            + \" | x_sharpe ratio :\" + str(np.round(self.x_sharpe, self.round_digit))\\\n",
    "            + \" | VaR 95% : \" + str(np.round(self.x_var_95, self.round_digit))\\\n",
    "            + \" | CVaR 95% : \" + str(np.round(self.x_cvar_95, self.round_digit))\\\n",
    "            + \" | Jarque-Bera : \" + str(np.round(self.jarque_bera, self.round_digit))\\\n",
    "            + \" | p_value : \" + str(np.round(self.p_value, self.round_digit))\\\n",
    "            + \" | is normal :\" + str(self.is_normal)\n",
    "        return plot_str"
   ]
  },
  {
   "cell_type": "code",
   "execution_count": 1,
   "id": "4d336452-3c1b-49b5-93c5-82084f638d8c",
   "metadata": {},
   "outputs": [],
   "source": [
    "import importlib\n",
    "import stream_functions\n",
    "import stream_classes_refactoring2\n",
    "importlib.reload(stream_functions)  # aveces no importa bien\n",
    "\n",
    "\n",
    "ric = \"^VIX\"\n",
    "x, x_str, t = stream_functions.load_time_series(ric)\n",
    "z = stream_classes_refactoring2.jarque_bera_test(x, x_str)"
   ]
  },
  {
   "cell_type": "code",
   "execution_count": 2,
   "id": "134d708b-e4a3-41fc-993f-b2883efb04c8",
   "metadata": {},
   "outputs": [],
   "source": [
    "# ahora vemos si hay algún fallo en los cálculos\n",
    "z.compute()"
   ]
  },
  {
   "cell_type": "code",
   "execution_count": 3,
   "id": "9669bb48-1cf0-4896-9c0d-33dab44dfcd8",
   "metadata": {},
   "outputs": [
    {
     "name": "stdout",
     "output_type": "stream",
     "text": [
      "Real returns ^VIX | size 1784\n",
      "mean: 0.0038 | std : 0.0907 | skewness : 2.5625 | kurtosis : 19.8197 | x_sharpe ratio :0.6681 | VaR 95% : -0.1087 | CVaR 95% : -0.1473 | Jarque-Bera : 31152.0607 | p_value : 0.0 | is normal :False\n",
      "\n"
     ]
    }
   ],
   "source": [
    "print(z)"
   ]
  },
  {
   "cell_type": "markdown",
   "id": "3e33d69b-b01e-4b08-a81f-564c88a94721",
   "metadata": {},
   "source": [
    "> Ahora tengo los datos de cada atributo y calculado de forma independiente del constructor."
   ]
  },
  {
   "cell_type": "code",
   "execution_count": 4,
   "id": "12d77c59-6c7f-41a5-a4b5-274ac643392c",
   "metadata": {},
   "outputs": [
    {
     "data": {
      "text/plain": [
       "0.003819183647873081"
      ]
     },
     "execution_count": 4,
     "metadata": {},
     "output_type": "execute_result"
    }
   ],
   "source": [
    "z.mean"
   ]
  },
  {
   "cell_type": "code",
   "execution_count": 5,
   "id": "955486b8-de63-4bbf-96ae-41892e6ccdcd",
   "metadata": {},
   "outputs": [
    {
     "data": {
      "text/plain": [
       "-0.007183595761387496"
      ]
     },
     "execution_count": 5,
     "metadata": {},
     "output_type": "execute_result"
    }
   ],
   "source": [
    "z.median"
   ]
  },
  {
   "cell_type": "markdown",
   "id": "797f7374-64f1-4b26-87ed-afb784d735d1",
   "metadata": {},
   "source": [
    "**RESULTADO** `stream_classes_refactoring2.py`\n",
    ">  \n",
    "> Fíjate que ahora   \n",
    "`stream_functions.plot_histogram(x, x_str, z.plot_str(), bins=50)`   \n",
    "está llamando a `z.plot_str()` cuando antes lo hacíamos con la función."
   ]
  },
  {
   "cell_type": "code",
   "execution_count": 1,
   "id": "0c7be390-f898-4cc0-a6b2-cb6072e3bcee",
   "metadata": {},
   "outputs": [
    {
     "name": "stdout",
     "output_type": "stream",
     "text": [
      "Real returns SGRE.MC | size 1812\n",
      "mean: 0.0008 | std : 0.02575 | skewness : -0.13957 | kurtosis : 7.84484 | median : 0.00076 | x_sharpe ratio :0.4938\n",
      " VaR 95% : -0.036 | CVaR 95% : -0.05876 | Jarque-Bera : 4652.27038 | p_value : 0.0 | is normal :False\n",
      "\n"
     ]
    },
    {
     "data": {
      "image/png": "[encoded data removed]",
      "text/plain": [
       "<Figure size 432x288 with 1 Axes>"
      ]
     },
     "metadata": {
      "needs_background": "light"
     },
     "output_type": "display_data"
    },
    {
     "data": {
      "image/png": "[encoded data removed]",
      "text/plain": [
       "<Figure size 432x288 with 1 Axes>"
      ]
     },
     "metadata": {
      "needs_background": "light"
     },
     "output_type": "display_data"
    }
   ],
   "source": [
    "import importlib\n",
    "import stream_functions\n",
    "import stream_classes_refactoring2\n",
    "importlib.reload(stream_functions)  # aveces no importa bien\n",
    "\n",
    "\n",
    "ric = \"SGRE.MC\"\n",
    "x, x_str, t = stream_functions.load_time_series(ric)\n",
    "z = stream_classes_refactoring2.jarque_bera_test(x, x_str)\n",
    "z.compute()\n",
    "print(z)\n",
    "\n",
    "# genero plots de los métodos\n",
    "stream_functions.plot_time_series_price(ric, t)\n",
    "stream_functions.plot_histogram(x, x_str, z.plot_str(), bins=50)"
   ]
  }
 ],
 "metadata": {
  "kernelspec": {
   "display_name": "Python 3",
   "language": "python",
   "name": "python3"
  },
  "language_info": {
   "codemirror_mode": {
    "name": "ipython",
    "version": 3
   },
   "file_extension": ".py",
   "mimetype": "text/x-python",
   "name": "python",
   "nbconvert_exporter": "python",
   "pygments_lexer": "ipython3",
   "version": "3.8.8"
  }
 },
 "nbformat": 4,
 "nbformat_minor": 5
}
