{
 "cells": [
  {
   "cell_type": "markdown",
   "id": "1cad9e26-2e1f-4865-a7ee-b7d0ec148373",
   "metadata": {},
   "source": [
    "# Distribuciones en Python\n",
    "\n",
    "1. Cálculo de funciones estadísticas, momentos, percentiles y Valor en Riesgo **(VaR)**.\n",
    "2. Visualización de datos en Python: histogramas.\n",
    "3. Tests de Normalidad o Gaussianidad: Jaque-Bera\n",
    "4. Los limites del p-values y los tests estadícticos cuando una distribución noirmal fala el test de normalidad."
   ]
  },
  {
   "cell_type": "code",
   "execution_count": 1,
   "id": "25eb22d4-8069-4fe8-9a55-eac610567d97",
   "metadata": {},
   "outputs": [],
   "source": [
    "%load_ext pycodestyle_magic"
   ]
  },
  {
   "cell_type": "code",
   "execution_count": 2,
   "id": "aeeb90ce-bc26-443b-bfb9-6105b6f8ed76",
   "metadata": {},
   "outputs": [],
   "source": [
    "%pycodestyle_on"
   ]
  },
  {
   "cell_type": "code",
   "execution_count": 3,
   "id": "3ce679f7-2c03-463e-bbd7-bad533dfccaa",
   "metadata": {},
   "outputs": [],
   "source": [
    "import numpy as np\n",
    "import scipy\n",
    "import importlib\n",
    "import pandas as pd\n",
    "import matplotlib.pyplot as plt\n",
    "import matplotlib as mpl"
   ]
  },
  {
   "cell_type": "code",
   "execution_count": 4,
   "id": "aa028872-be5b-403a-960b-e635d1f3cdc1",
   "metadata": {},
   "outputs": [
    {
     "name": "stderr",
     "output_type": "stream",
     "text": [
      "3:9: W291 trailing whitespace\n"
     ]
    }
   ],
   "source": [
    "def normality_test(x_size, type_random_variable, degrees_freedom=5):\n",
    "    \"\"\"Create a normality test e.g Jarque_bera\n",
    "    Arg:\n",
    "        1. x_size : size of distribution.\n",
    "        2. type_random_variable : generate random distributions.\n",
    "        3. degrees_freedom : only for t-student\n",
    "    Return:\n",
    "    \"\"\"\n",
    "    if type_random_variable == \"normal\":\n",
    "        x = np.random.standard_normal(size=x_size)\n",
    "        x_str = type_random_variable\n",
    "    elif type_random_variable == \"exponential\":\n",
    "        x = np.random.standard_exponential(size=x_size)\n",
    "        x_str = type_random_variable\n",
    "    elif type_random_variable == \"student\":\n",
    "        x = np.random.standard_t(size=x_size, df=degrees_freedom)\n",
    "        x_str = type_random_variable + \"(df=\" + str(degrees_freedom) + \")\"\n",
    "\n",
    "    # compute risk metrics\n",
    "    x_mean = np.mean(x)\n",
    "    x_stdev = np.std(x)\n",
    "\n",
    "    # plot histogram\n",
    "    plt.figure()\n",
    "    plt.hist(x, bins=100)\n",
    "    plt.title(type_random_variable)\n",
    "    plt.show()\n",
    "\n",
    "    # print risk metrics\n",
    "    print(\"mean: \" + str(x_mean))\n",
    "    print(\"std :\" + str(x_stdev))"
   ]
  },
  {
   "cell_type": "code",
   "execution_count": 5,
   "id": "b07816c0-42f0-4756-8839-b4976e8a155b",
   "metadata": {},
   "outputs": [],
   "source": [
    "x_size = 10**6                    # generate random variable\n",
    "degrees_freedom = 5               # grados de libertad\n",
    "type_random_variable = \"student\"  # normal , exponential, student"
   ]
  },
  {
   "cell_type": "markdown",
   "id": "b82c5af3-40c5-4fb1-b682-3f3a64347c10",
   "metadata": {},
   "source": [
    "**NORMAL**"
   ]
  },
  {
   "cell_type": "code",
   "execution_count": 6,
   "id": "43560e3e-7e25-43c5-9373-3827c4b57932",
   "metadata": {},
   "outputs": [
    {
     "data": {
      "image/png": "[encoded data removed]",
      "text/plain": [
       "<Figure size 432x288 with 1 Axes>"
      ]
     },
     "metadata": {
      "needs_background": "light"
     },
     "output_type": "display_data"
    },
    {
     "name": "stdout",
     "output_type": "stream",
     "text": [
      "mean: 0.000800061037295098\n",
      "std :0.9998238768421746\n"
     ]
    }
   ],
   "source": [
    "normality_test(10**6, \"normal\")"
   ]
  },
  {
   "cell_type": "markdown",
   "id": "a47749b2-77b9-4c76-a21a-d8874217e3ea",
   "metadata": {},
   "source": [
    "**EXPONENTIAL**"
   ]
  },
  {
   "cell_type": "code",
   "execution_count": 7,
   "id": "268e3ec7-c20b-4da6-b7b3-4676bb122af4",
   "metadata": {},
   "outputs": [
    {
     "data": {
      "image/png": "[encoded data removed]",
      "text/plain": [
       "<Figure size 432x288 with 1 Axes>"
      ]
     },
     "metadata": {
      "needs_background": "light"
     },
     "output_type": "display_data"
    },
    {
     "name": "stdout",
     "output_type": "stream",
     "text": [
      "mean: 0.9998463779262183\n",
      "std :0.9988905161548808\n"
     ]
    }
   ],
   "source": [
    "normality_test(10**6, \"exponential\")"
   ]
  },
  {
   "cell_type": "markdown",
   "id": "2dfee2ec-725e-4e83-977b-fb166fd35dd6",
   "metadata": {},
   "source": [
    "**STUDENT**"
   ]
  },
  {
   "cell_type": "code",
   "execution_count": 8,
   "id": "08c62e41-e83d-449f-8360-78072da78a51",
   "metadata": {},
   "outputs": [
    {
     "data": {
      "image/png": "[encoded data removed]",
      "text/plain": [
       "<Figure size 432x288 with 1 Axes>"
      ]
     },
     "metadata": {
      "needs_background": "light"
     },
     "output_type": "display_data"
    },
    {
     "name": "stdout",
     "output_type": "stream",
     "text": [
      "mean: -0.0014495126276510826\n",
      "std :1.2936438137117252\n"
     ]
    }
   ],
   "source": [
    "normality_test(10**6, \"student\", 5)"
   ]
  },
  {
   "cell_type": "markdown",
   "id": "0a0e6e18-38b7-47b4-bfd1-448e6732257e",
   "metadata": {},
   "source": [
    "Con la `variable aleatoria con distribución t-student` la distribución converje a una distribución normal,  \n",
    "cuantos más grados de libertad más se acerca a una distribución normal.\n",
    "* Si te fijas en la distribución degrees_free = 5 , las variables se concentran en la x en un intervalo muy pequeño entre -1,5 y 2\n",
    "* Con degrees_free = 500 la distribución es más amplia."
   ]
  },
  {
   "cell_type": "code",
   "execution_count": 9,
   "id": "72bb2a37-5a45-4176-9228-e3d2ddaef4b5",
   "metadata": {},
   "outputs": [
    {
     "data": {
      "image/png": "[encoded data removed]",
      "text/plain": [
       "<Figure size 432x288 with 1 Axes>"
      ]
     },
     "metadata": {
      "needs_background": "light"
     },
     "output_type": "display_data"
    },
    {
     "name": "stdout",
     "output_type": "stream",
     "text": [
      "mean: -0.001404004779060744\n",
      "std :1.0016348212922583\n"
     ]
    }
   ],
   "source": [
    "normality_test(10**6, \"student\", 500)"
   ]
  },
  {
   "cell_type": "markdown",
   "id": "6a216223-e32d-4e70-945f-ca3a3bc3997b",
   "metadata": {},
   "source": [
    "## TEST DE Jarque-Bera\n",
    "\n",
    "Es un test de normalidad\n",
    "\n",
    "Para calcular el test de Jarque-Bera necesitamos la **skewness** y la **kurtosis**, por eso quiero que mi código calcule los primeros cuatro momentos que son:\n",
    "* mean\n",
    "* varianza (desviación estandard)\n",
    "Si la distribución es normal, con estos dos números son suficientes para clasificar la distribución. Es decir, si tenemos dos distribuciones normales que tiene la misma media y la misma varianza significa que es la misma distribución. Esto no para con otras distribución, la **skewness** y la **kurtosis** entonces en el TEST DE Jarque-Bera es de calcular esta estadística:\n",
    "\n",
    "$$\n",
    "JB = \\frac{n}{6} \\left( S^2 - \\frac{1}{4}(K - 3)^2 \\right)\n",
    "$$\n",
    "\n",
    "donde **S** es skewness y **K** es la kurtosis.  \n",
    "\n",
    "Para calcular la **skewness** se hace dividiendo el momento del orden tres dividido por el momento de orden dos:\n",
    "\n",
    "$$\n",
    "S = \\frac{ \\hat{\\mu}_3 }{ \\hat{\\sigma}^3 } = \\frac{ \\frac{1}{n} \\sum^{n}_{i=1}(x_i - \\overline{x})^3}{ \n",
    "\\left( \\frac{1}{n} \\sum^{n}_{i=1}(x_i - \\overline{x})^2 \\right)^\\frac{3}{2}}\n",
    "$$\n",
    "\n",
    "La Kurtosis se divide el momento de orden 4 dicidido por el momento de orden 2:\n",
    "\n",
    "$$\n",
    "K= \\frac{ \\hat{\\mu}_4 }{ \\hat{\\sigma}^4 } = \\frac{ \\frac{1}{n} \\sum^{n}_{i=1}(x_i - \\overline{x})^4}{ \n",
    "\\left( \\frac{1}{n} \\sum^{n}_{i=1}(x_i - \\overline{x})^2 \\right)^2}\n",
    "$$\n",
    "\n",
    "\n",
    ">support\n",
    ">* https://docs.scipy.org/doc/numpy-1.14.0/reference/routines.random.html\n",
    ">* https://docs.scipy.org/doc/scipy/reference/generated/scipy.stats.skew.html\n",
    "\n",
    "### SKEWNESS & KURTOSIS"
   ]
  },
  {
   "cell_type": "code",
   "execution_count": 10,
   "id": "57714571-7742-44e6-b460-f2e2f3f52179",
   "metadata": {},
   "outputs": [],
   "source": [
    "from scipy.stats import skew, kurtosis, chi2"
   ]
  },
  {
   "cell_type": "code",
   "execution_count": 11,
   "id": "d15e6fb9-abd0-44e9-b757-002dc735daeb",
   "metadata": {},
   "outputs": [
    {
     "name": "stderr",
     "output_type": "stream",
     "text": [
      "3:9: W291 trailing whitespace\n"
     ]
    }
   ],
   "source": [
    "def normality_test(x_size, type_random_variable, degrees_freedom=5):\n",
    "    \"\"\"Create a normality test e.g Jarque_bera\n",
    "    Arg: \n",
    "        1. x_size : size of distribution.\n",
    "        2. type_random_variable : generate random distributions.\n",
    "        3. degrees_freedom : only for t-student\n",
    "    Return:\n",
    "    \"\"\"\n",
    "    if type_random_variable == \"normal\":\n",
    "        x = np.random.standard_normal(x_size)\n",
    "        x_str = type_random_variable\n",
    "    elif type_random_variable == \"exponential\":\n",
    "        x = np.random.standard_exponential(x_size)\n",
    "        x_str = type_random_variable\n",
    "    elif type_random_variable == \"student\":\n",
    "        x = np.random.standard_t(size=x_size, df=degrees_freedom)\n",
    "        x_str = type_random_variable + \"(df=\" + str(degrees_freedom) + \")\"\n",
    "\n",
    "    # compute risk metrics\n",
    "    x_mean = np.mean(x)\n",
    "    x_stdev = np.std(x)\n",
    "    x_skew = skew(x)\n",
    "    x_kurt = kurtosis(x)\n",
    "\n",
    "    # plot histogram\n",
    "    plt.figure()\n",
    "    plt.hist(x, bins=100)\n",
    "    plt.title(type_random_variable)\n",
    "    plt.show()\n",
    "\n",
    "    # print risk metrics\n",
    "    print(\"mean: \" + str(x_mean))\n",
    "    print(\"std :\" + str(x_stdev))\n",
    "    print(\"skewness : \" + str(x_skew))\n",
    "    print(\"kurtosis :\" + str(x_kurt))"
   ]
  },
  {
   "cell_type": "markdown",
   "id": "babb513b-1076-4d4e-a96b-384649bd0c01",
   "metadata": {},
   "source": [
    "En una variable aleatoria normal standard \n",
    "* `mean` es 0,\n",
    "* `std` es 1, \n",
    "* `skew` es 0, \n",
    "* `kurtosis` es 3.\n",
    "\n",
    "\n",
    "Pero aveces la **kurtosis** se llama **kurtosis en exceso** que es kurtosis original -3 .\n",
    "\n",
    "\n",
    "Cuando vemos la distribución normal podemos ver que tenemos la kurtosis en exceso (kurtosis original = 3, pero la con exceso es -3, osea en este caso tenemos 0 para una variable normal standard):"
   ]
  },
  {
   "cell_type": "code",
   "execution_count": 12,
   "id": "6165d493-deed-4f34-91e1-64dcc6efc165",
   "metadata": {},
   "outputs": [
    {
     "data": {
      "image/png": "[encoded data removed]",
      "text/plain": [
       "<Figure size 432x288 with 1 Axes>"
      ]
     },
     "metadata": {
      "needs_background": "light"
     },
     "output_type": "display_data"
    },
    {
     "name": "stdout",
     "output_type": "stream",
     "text": [
      "mean: -0.0007743526036957208\n",
      "std :0.9988925945398556\n",
      "skewness : -0.0033567391305399635\n",
      "kurtosis :-0.006023114891490433\n"
     ]
    }
   ],
   "source": [
    "normality_test(10**6, \"normal\")  # exces kurtosis"
   ]
  },
  {
   "cell_type": "markdown",
   "id": "d76bbb43-e619-4fd3-93af-14415cc28edf",
   "metadata": {},
   "source": [
    "**EXPONENCIAL**"
   ]
  },
  {
   "cell_type": "code",
   "execution_count": 13,
   "id": "afc57cb5-cfa8-4c72-a4a8-61608ead316b",
   "metadata": {},
   "outputs": [
    {
     "data": {
      "image/png": "[encoded data removed]",
      "text/plain": [
       "<Figure size 432x288 with 1 Axes>"
      ]
     },
     "metadata": {
      "needs_background": "light"
     },
     "output_type": "display_data"
    },
    {
     "name": "stdout",
     "output_type": "stream",
     "text": [
      "mean: 0.9996670097412833\n",
      "std :0.9982285741075176\n",
      "skewness : 1.9874361194657404\n",
      "kurtosis :5.901647982860819\n"
     ]
    }
   ],
   "source": [
    "normality_test(10**6, \"exponential\")"
   ]
  },
  {
   "cell_type": "markdown",
   "id": "9e5ac06e-3cf4-4572-a6ba-78162396e204",
   "metadata": {},
   "source": [
    "La media es 1 y la des. standard es 1, es normal porque es una exponencial standard que tiene el exponente landa = 1 por tanto la mean y std es igual a lambda.\n",
    "\n",
    "**SKEWNESS POSITIVA**\n",
    "\n",
    "¿Que significa skew: 2?\n",
    "\n",
    "Sabemos que la **skew** es la integral de orden 3, el valor debajo de la curva de orden 3, pero lo que significa es que si la skewness es + tengo más puntos a la derecha de la media que a la izquierda. En este caso la media es 1 y el área debajo de la curva a la derecha del 1 es más pequeña que el área bajo la curva a la derecha del 1 hasta infinito.\n",
    "\n",
    "**KURTOSIS Y LAS COLAS**\n",
    "\n",
    "La kurtosis nos dice qué tan grande es la cola. Relativa a una distrobución normal:\n",
    "* la kurtosis < 0, la kurtosis es exceso significa que la variable aleatoria con la que estoy jugando decrece más rápido que la normal. \n",
    "* la kurtosis > 0, decrece menos rápido que la normal, y se considera colas largas.\n",
    "\n",
    "**STUDENT**"
   ]
  },
  {
   "cell_type": "code",
   "execution_count": 14,
   "id": "b2e3dcfe-250a-4b07-898e-813769087da3",
   "metadata": {},
   "outputs": [
    {
     "data": {
      "image/png": "[encoded data removed]",
      "text/plain": [
       "<Figure size 432x288 with 1 Axes>"
      ]
     },
     "metadata": {
      "needs_background": "light"
     },
     "output_type": "display_data"
    },
    {
     "name": "stdout",
     "output_type": "stream",
     "text": [
      "mean: 0.0002876102725112637\n",
      "std :1.2899833419752318\n",
      "skewness : 0.008824289635151111\n",
      "kurtosis :4.546081420643943\n"
     ]
    }
   ],
   "source": [
    "normality_test(10**6, \"student\", 5)"
   ]
  },
  {
   "cell_type": "markdown",
   "id": "23a78ede-26a1-413a-bc49-86a6c30815c3",
   "metadata": {},
   "source": [
    "* skew: no es muy grande\n",
    "* std : es mayor\n",
    "* kurt : es mayor, significa que tengo colas largas"
   ]
  },
  {
   "cell_type": "code",
   "execution_count": 15,
   "id": "f3a864cf-1c77-4603-97fc-e52ea48e650a",
   "metadata": {},
   "outputs": [
    {
     "data": {
      "image/png": "[encoded data removed]",
      "text/plain": [
       "<Figure size 432x288 with 1 Axes>"
      ]
     },
     "metadata": {
      "needs_background": "light"
     },
     "output_type": "display_data"
    },
    {
     "name": "stdout",
     "output_type": "stream",
     "text": [
      "mean: 0.00035997516136844775\n",
      "std :1.002116420036465\n",
      "skewness : 0.003729254451914918\n",
      "kurtosis :0.018555939135692423\n"
     ]
    }
   ],
   "source": [
    "normality_test(10**6, \"student\", 500)"
   ]
  },
  {
   "cell_type": "markdown",
   "id": "302064e0-8c68-4cae-b5b8-4dc7b224dbf3",
   "metadata": {},
   "source": [
    "* Ahora con 500 grados de libertad la kurtosis es con exceso."
   ]
  },
  {
   "cell_type": "markdown",
   "id": "fc922980-8d17-477e-8126-7de1591b4070",
   "metadata": {},
   "source": [
    "### Median"
   ]
  },
  {
   "cell_type": "code",
   "execution_count": 16,
   "id": "12e3a827-e4ea-4661-85cf-94ab7b345aed",
   "metadata": {},
   "outputs": [
    {
     "data": {
      "text/plain": [
       "-0.0003595168839050886"
      ]
     },
     "execution_count": 16,
     "metadata": {},
     "output_type": "execute_result"
    }
   ],
   "source": [
    "x = np.random.standard_normal(size=10**6)\n",
    "\n",
    "# esperamos que la media de una variable normal sea cero.\n",
    "x_median = np.percentile(x, 50)\n",
    "\n",
    "x_median"
   ]
  },
  {
   "cell_type": "markdown",
   "id": "d34a0e56-4bdd-4aeb-91a4-5eeb378800e8",
   "metadata": {},
   "source": [
    "**INTERVALO DE CONFIANZA**  \n",
    "\n",
    "Si yo quiero calcular los intervalos de confianza con 90% de confianza, en una distribución con variable aleatoria normal, como la media es 0 y la desv sta es 1, los intervalos son $\\pm$ 1.64 para cada lado. 5% van a estar a la izquierda de 1.64 y 5 % a la derecha de 1.64. \n",
    "\n",
    "Si le pido el percentil 5% me tendría que dar en la parte izquierda de la distribución en el intervalo 1.64"
   ]
  },
  {
   "cell_type": "code",
   "execution_count": 17,
   "id": "955122dd-905e-4a82-b8a3-d5ff8c9f5303",
   "metadata": {},
   "outputs": [
    {
     "data": {
      "text/plain": [
       "-1.6456470481195957"
      ]
     },
     "execution_count": 17,
     "metadata": {},
     "output_type": "execute_result"
    }
   ],
   "source": [
    "np.percentile(x, 5)"
   ]
  },
  {
   "cell_type": "markdown",
   "id": "dc44e6e6-5b33-4811-974a-7d4720875a49",
   "metadata": {},
   "source": [
    "Si le pido el percentil 95% me tendría que dar en la parte derecha de la distribución en el intervalo 1.64"
   ]
  },
  {
   "cell_type": "code",
   "execution_count": 18,
   "id": "e0893fc9-c183-4cff-969b-d1e40b9ded5e",
   "metadata": {},
   "outputs": [
    {
     "data": {
      "text/plain": [
       "1.6442925887419657"
      ]
     },
     "execution_count": 18,
     "metadata": {},
     "output_type": "execute_result"
    }
   ],
   "source": [
    "np.percentile(x, 95)"
   ]
  },
  {
   "cell_type": "markdown",
   "id": "5c63b1a5-7d3c-49a8-9755-7d9c61529dcc",
   "metadata": {},
   "source": [
    "¿Qué pasa si le pido el intervlo del 95%? Los intervalos son $\\pm$ 1.96 , osea el 2.5% de mis datos estarán a a izquierda y 2.5% estarán a la derecha"
   ]
  },
  {
   "cell_type": "code",
   "execution_count": 19,
   "id": "fbc45b48-1e14-473e-9fe2-79c45a8b20ce",
   "metadata": {},
   "outputs": [
    {
     "data": {
      "text/plain": [
       "-1.9589360668804967"
      ]
     },
     "execution_count": 19,
     "metadata": {},
     "output_type": "execute_result"
    }
   ],
   "source": [
    "np.percentile(x, 2.5)"
   ]
  },
  {
   "cell_type": "code",
   "execution_count": 20,
   "id": "146b1f23-08f7-4d3f-998d-8aabcda8b1b7",
   "metadata": {},
   "outputs": [
    {
     "data": {
      "text/plain": [
       "1.9607701845112873"
      ]
     },
     "execution_count": 20,
     "metadata": {},
     "output_type": "execute_result"
    }
   ],
   "source": [
    "np.percentile(x, 97.5)"
   ]
  },
  {
   "cell_type": "markdown",
   "id": "a3cdff7c-6119-45a0-bb90-82a10a0f883b",
   "metadata": {},
   "source": [
    "**VALOR EN RIESGO (VaR)**\n",
    "\n",
    "En un histograma con distribución normal, el valor en VaR es: \"dame un número en el que sólamente el 5% de los casos están a la izquierda o de forma equivalente el 95% de los casos estén a la derecha\" y esto es equivalente a calcularlo con el precentil 5."
   ]
  },
  {
   "cell_type": "code",
   "execution_count": 21,
   "id": "6347a112-560a-4b3b-9a79-1ccae9a7238d",
   "metadata": {},
   "outputs": [
    {
     "data": {
      "text/plain": [
       "-1.6456470481195957"
      ]
     },
     "execution_count": 21,
     "metadata": {},
     "output_type": "execute_result"
    }
   ],
   "source": [
    "x_var_95 = np.percentile(x, 5)\n",
    "x_var_95"
   ]
  },
  {
   "cell_type": "code",
   "execution_count": 22,
   "id": "fc67b5db-0fb4-4be2-88eb-eb68f1a7bd30",
   "metadata": {},
   "outputs": [],
   "source": [
    "def normality_test(x_size, type_random_variable, degrees_freedom=5):\n",
    "    \"\"\"Create a normality test e.g Jarque_bera\n",
    "    Arg:\n",
    "        1. x_size : size of distribution.\n",
    "        2. type_random_variable : generate random distributions.\n",
    "        3. degrees_freedom : only for t-student\n",
    "    Return:\n",
    "    \"\"\"\n",
    "    if type_random_variable == \"normal\":\n",
    "        x = np.random.standard_normal(x_size)\n",
    "        x_str = type_random_variable\n",
    "    elif type_random_variable == \"exponential\":\n",
    "        x = np.random.standard_exponential(x_size)\n",
    "        x_str = type_random_variable\n",
    "    elif type_random_variable == \"student\":\n",
    "        x = np.random.standard_t(size=x_size, df=degrees_freedom)\n",
    "        x_str = type_random_variable + \"(df=\" + str(degrees_freedom) + \")\"\n",
    "\n",
    "    # compute risk metrics\n",
    "    x_mean = np.mean(x)\n",
    "    x_stdev = np.std(x)\n",
    "    x_skew = skew(x)\n",
    "    x_kurt = kurtosis(x)\n",
    "    x_var_95 = np.percentile(x, 5)\n",
    "\n",
    "    # plot histogram\n",
    "    plt.figure()\n",
    "    plt.hist(x, bins=100)\n",
    "    plt.title(type_random_variable)\n",
    "    plt.show()\n",
    "\n",
    "    # print risk metrics\n",
    "    print(\"mean: \" + str(x_mean))\n",
    "    print(\"std :\" + str(x_stdev))\n",
    "    print(\"skewness : \" + str(x_skew))\n",
    "    print(\"kurtosis :\" + str(x_kurt))\n",
    "    print(\"VaR 95% :\" + str(x_var_95))"
   ]
  },
  {
   "cell_type": "code",
   "execution_count": 23,
   "id": "786dd1a2-730a-43f5-bdb6-6e62b91c8985",
   "metadata": {},
   "outputs": [
    {
     "data": {
      "image/png": "[encoded data removed]",
      "text/plain": [
       "<Figure size 432x288 with 1 Axes>"
      ]
     },
     "metadata": {
      "needs_background": "light"
     },
     "output_type": "display_data"
    },
    {
     "name": "stdout",
     "output_type": "stream",
     "text": [
      "mean: -0.001699979986472386\n",
      "std :0.998919734512415\n",
      "skewness : 0.0035672017389473073\n",
      "kurtosis :0.0005359859675246881\n",
      "VaR 95% :-1.6427084808610868\n"
     ]
    }
   ],
   "source": [
    "normality_test(10**6, \"normal\")"
   ]
  },
  {
   "cell_type": "code",
   "execution_count": 24,
   "id": "437e6f15-29fc-4638-9824-e6a6db1b2fa1",
   "metadata": {},
   "outputs": [
    {
     "data": {
      "image/png": "[encoded data removed]",
      "text/plain": [
       "<Figure size 432x288 with 1 Axes>"
      ]
     },
     "metadata": {
      "needs_background": "light"
     },
     "output_type": "display_data"
    },
    {
     "name": "stdout",
     "output_type": "stream",
     "text": [
      "mean: 1.0022731863738215\n",
      "std :1.0016002568085338\n",
      "skewness : 2.0000477959453353\n",
      "kurtosis :6.026325300590422\n",
      "VaR 95% :0.051610143667251654\n"
     ]
    }
   ],
   "source": [
    "normality_test(10**6, \"exponential\")"
   ]
  },
  {
   "cell_type": "markdown",
   "id": "f2baf8f4-bbd3-4a87-a58a-562738b567bf",
   "metadata": {},
   "source": [
    "En una distribución exponencial, podemos ver en el `VaR 95% :0.05146408138999089` que sólamente el 5% de los valores son mayores que 0.0514"
   ]
  },
  {
   "cell_type": "code",
   "execution_count": 25,
   "id": "0e38860b-bc08-44ab-8754-7033e658dd5d",
   "metadata": {},
   "outputs": [
    {
     "data": {
      "image/png": "[encoded data removed]",
      "text/plain": [
       "<Figure size 432x288 with 1 Axes>"
      ]
     },
     "metadata": {
      "needs_background": "light"
     },
     "output_type": "display_data"
    },
    {
     "name": "stdout",
     "output_type": "stream",
     "text": [
      "mean: -0.0010735977206786278\n",
      "std :1.2892954884280048\n",
      "skewness : 0.051807170461202055\n",
      "kurtosis :5.899943023036869\n",
      "VaR 95% :-2.0162125913632214\n"
     ]
    }
   ],
   "source": [
    "normality_test(10**6, \"student\")"
   ]
  },
  {
   "cell_type": "markdown",
   "id": "c8233bc7-3db7-40d8-b1fc-337dc169b1c7",
   "metadata": {},
   "source": [
    "Podemos ver cómo el valor en riesgo está más hacia la izquierda que en la distribución normal que era -1.64, ésto utilizando 5 grados de libertad."
   ]
  },
  {
   "cell_type": "code",
   "execution_count": 26,
   "id": "3f871eef-cfbc-4223-a621-1db5bdb4e738",
   "metadata": {},
   "outputs": [
    {
     "data": {
      "image/png": "[encoded data removed]",
      "text/plain": [
       "<Figure size 432x288 with 1 Axes>"
      ]
     },
     "metadata": {
      "needs_background": "light"
     },
     "output_type": "display_data"
    },
    {
     "name": "stdout",
     "output_type": "stream",
     "text": [
      "mean: -0.0008177736601323647\n",
      "std :1.0089780089085394\n",
      "skewness : -0.0029522169267313897\n",
      "kurtosis :0.052762203676821606\n",
      "VaR 95% :-1.6600446106095263\n"
     ]
    }
   ],
   "source": [
    "normality_test(10**6, \"student\", 100)"
   ]
  },
  {
   "cell_type": "markdown",
   "id": "9dedcc3a-be0d-4790-a975-968601a91b48",
   "metadata": {},
   "source": [
    "Con 100 grados de libertad ya se hacerca más a la normal."
   ]
  },
  {
   "cell_type": "markdown",
   "id": "e96fc0e7-839f-4153-afb9-309c843ce991",
   "metadata": {},
   "source": [
    "**TEST DE Jarque-Bera**\n",
    "\n",
    "En estadística , la prueba de Jarque-Bera es una prueba de bondad de ajuste de si los datos de muestra tienen la asimetría y la curtosis que coinciden con una distribución normal. El estadístico de prueba siempre es no negativo. Si está lejos de cero, indica que los datos no tienen una distribución normal.\n",
    "\n",
    "https://en.wikipedia.org/wiki/Jarque%E2%80%93Bera_test\n",
    "\n",
    "> \"In statistics, the Jarque–Bera test is a [goodness-of-fit](https://www.investopedia.com/terms/g/goodness-of-fit.asp) test of whether sample data have the skewness and kurtosis matching a normal distribution. The test statistic is always nonnegative. If it is far from zero, it signals the data do not have a normal distribution.\"\n",
    ">\n",
    "> \"Samples from a normal distribution have an expected skewness of 0 and an expected excess kurtosis of 0 (which is the same as a kurtosis of 3). As the definition of JB shows, any deviation from this increases the JB statistic.\"\n",
    "\n",
    "\n",
    "$$\n",
    "JB = \\frac{n}{6} \\left( S^2 - \\frac{1}{4}(K - 3)^2 \\right)\n",
    "$$\n",
    "\n",
    "donde **S** es skewness y **K** es la kurtosis.  \n",
    "\n",
    "`x_jb = x_size/6 * (x_skew**2 + 1/4*(x_kurt**2))`"
   ]
  },
  {
   "cell_type": "code",
   "execution_count": 27,
   "id": "bcfb6596-76c7-4642-b80b-21538177a5e7",
   "metadata": {},
   "outputs": [],
   "source": [
    "def normality_test(x_size, type_random_variable, degrees_freedom=5):\n",
    "    \"\"\"Create a normality test e.g Jarque_bera\n",
    "    Arg:\n",
    "        1. x_size : size of distribution.\n",
    "        2. type_random_variable : generate random distributions.\n",
    "        3. degrees_freedom : only for t-student\n",
    "    Return:\n",
    "    \"\"\"\n",
    "    if type_random_variable == \"normal\":\n",
    "        x = np.random.standard_normal(x_size)\n",
    "        x_str = type_random_variable\n",
    "    elif type_random_variable == \"exponential\":\n",
    "        x = np.random.standard_exponential(x_size)\n",
    "        x_str = type_random_variable\n",
    "    elif type_random_variable == \"student\":\n",
    "        x = np.random.standard_t(size=x_size, df=degrees_freedom)\n",
    "        x_str = type_random_variable + \"(df=\" + str(degrees_freedom) + \")\"\n",
    "\n",
    "    # compute risk metrics\n",
    "    x_mean = np.mean(x)\n",
    "    x_stdev = np.std(x)\n",
    "    x_skew = skew(x)\n",
    "    x_kurt = kurtosis(x)\n",
    "    x_var_95 = np.percentile(x, 5)\n",
    "    x_jb = x_size/6 * (x_skew**2 + 1/4*(x_kurt**2))\n",
    "\n",
    "    # plot histogram\n",
    "    plt.figure()\n",
    "    plt.hist(x, bins=100)\n",
    "    plt.title(type_random_variable)\n",
    "    plt.show()\n",
    "\n",
    "    # print risk metrics\n",
    "    print(\"mean: \" + str(x_mean))\n",
    "    print(\"std : \" + str(x_stdev))\n",
    "    print(\"skewness : \" + str(x_skew))\n",
    "    print(\"kurtosis : \" + str(x_kurt))\n",
    "    print(\"VaR 95% : \" + str(x_var_95))\n",
    "    print(\"Jarque-Bera : \" + str(x_jb))"
   ]
  },
  {
   "cell_type": "code",
   "execution_count": 28,
   "id": "fa6828c1-b16e-4666-9ae5-a1f7e74d29f5",
   "metadata": {},
   "outputs": [
    {
     "data": {
      "image/png": "[encoded data removed]",
      "text/plain": [
       "<Figure size 432x288 with 1 Axes>"
      ]
     },
     "metadata": {
      "needs_background": "light"
     },
     "output_type": "display_data"
    },
    {
     "name": "stdout",
     "output_type": "stream",
     "text": [
      "mean: 0.00016976553289518046\n",
      "std : 0.99987313694643\n",
      "skewness : -0.0009310681742185724\n",
      "kurtosis : 0.0014837038170814054\n",
      "VaR 95% : -1.6449878124573145\n",
      "Jarque-Bera : 0.23620536654136481\n"
     ]
    }
   ],
   "source": [
    "normality_test(10**6, \"normal\")"
   ]
  },
  {
   "cell_type": "code",
   "execution_count": 29,
   "id": "4c7d5320-21fe-45b8-a4fb-6748462aa54d",
   "metadata": {},
   "outputs": [
    {
     "data": {
      "image/png": "[encoded data removed]",
      "text/plain": [
       "<Figure size 432x288 with 1 Axes>"
      ]
     },
     "metadata": {
      "needs_background": "light"
     },
     "output_type": "display_data"
    },
    {
     "name": "stdout",
     "output_type": "stream",
     "text": [
      "mean: 0.9991812371801759\n",
      "std : 0.9982362318288572\n",
      "skewness : 1.9937085323322963\n",
      "kurtosis : 5.902878477387951\n",
      "VaR 95% : 0.05159412782146743\n",
      "Jarque-Bera : 2114311.2152661784\n"
     ]
    }
   ],
   "source": [
    "normality_test(10**6, \"exponential\")"
   ]
  },
  {
   "cell_type": "markdown",
   "id": "49be1794-67cd-4ee8-99b5-05cbf2f504f8",
   "metadata": {},
   "source": [
    "**JB CON DISTRUCIÓN NORMAL Y EL CHI-SQUARD**\n",
    "\n",
    "https://numpy.org/doc/stable/reference/random/generated/numpy.random.chisquare.html> \n",
    "\n",
    "> \"Si los datos provienen de una distribución normal, el estadístico JB tiene asintóticamente una [distribución chi-cuadrado](https://en.wikipedia.org/wiki/Chi-squared_distribution) con dos grados de libertad , por lo que el estadístico se puede usar para probar la hipótesis de que los datos provienen de una distribución normal .\"\n",
    "\n",
    "Vamos a comprobar si puedo confiar en una distrobución `chi-squard`\n",
    "\n",
    "https://en.wikipedia.org/wiki/Chi-squared_distribution#/media/File:Chi-square_pdf.svg\n",
    "\n",
    "<img src=\"img/01.png\">"
   ]
  },
  {
   "cell_type": "code",
   "execution_count": 37,
   "id": "272fc747-037d-42ea-beec-7b1e18a8181b",
   "metadata": {},
   "outputs": [],
   "source": [
    "def normality_test(x_size, type_random_variable, degrees_freedom=5):\n",
    "    \"\"\"Create a normality test e.g Jarque_bera\n",
    "    Arg:\n",
    "        1. x_size : size of distribution.\n",
    "        2. type_random_variable : generate random distributions.\n",
    "        3. degrees_freedom : only for t-student\n",
    "    Return:\n",
    "    \"\"\"\n",
    "    if type_random_variable == \"normal\":\n",
    "        x = np.random.standard_normal(x_size)\n",
    "        x_str = type_random_variable\n",
    "    elif type_random_variable == \"exponential\":\n",
    "        x = np.random.standard_exponential(x_size)\n",
    "        x_str = type_random_variable\n",
    "    elif type_random_variable == \"student\":\n",
    "        x = np.random.standard_t(size=x_size, df=degrees_freedom)\n",
    "        x_str = type_random_variable + \"(df=\" + str(degrees_freedom) + \")\"\n",
    "    elif type_random_variable == \"chi-squared\":\n",
    "        x = np.random.chisquare(size=x_size, df=degrees_freedom)\n",
    "        x_str = type_random_variable + \"(df=\" + str(degrees_freedom) + \")\"\n",
    "\n",
    "    # compute risk metrics\n",
    "    x_mean = np.mean(x)\n",
    "    x_stdev = np.std(x)\n",
    "    x_skew = skew(x)\n",
    "    x_kurt = kurtosis(x)\n",
    "    x_var_95 = np.percentile(x, 5)\n",
    "    x_jb = x_size/6 * (x_skew**2 + 1/4*(x_kurt**2))\n",
    "\n",
    "    # plot histogram\n",
    "    plt.figure()\n",
    "    plt.hist(x, bins=100)\n",
    "    plt.title(type_random_variable)\n",
    "    plt.show()\n",
    "\n",
    "    # print risk metrics\n",
    "    print(\"mean: \" + str(x_mean))\n",
    "    print(\"std : \" + str(x_stdev))\n",
    "    print(\"skewness : \" + str(x_skew))\n",
    "    print(\"kurtosis : \" + str(x_kurt))\n",
    "    print(\"VaR 95% : \" + str(x_var_95))\n",
    "    print(\"Jarque-Bera : \" + str(x_jb))"
   ]
  },
  {
   "cell_type": "code",
   "execution_count": 39,
   "id": "b23c50fc-2ce4-4b3e-a96e-fa727955630a",
   "metadata": {},
   "outputs": [
    {
     "data": {
      "image/png": "[encoded data removed]",
      "text/plain": [
       "<Figure size 432x288 with 1 Axes>"
      ]
     },
     "metadata": {
      "needs_background": "light"
     },
     "output_type": "display_data"
    },
    {
     "name": "stdout",
     "output_type": "stream",
     "text": [
      "mean: 0.9987037941120012\n",
      "std : 1.4151835702495013\n",
      "skewness : 2.8480359813347866\n",
      "kurtosis : 12.284029728529898\n",
      "VaR 95% : 0.003941638981192743\n",
      "Jarque-Bera : 7639275.92397153\n"
     ]
    }
   ],
   "source": [
    "normality_test(10**6, \"chi-squared\", 1)"
   ]
  },
  {
   "cell_type": "code",
   "execution_count": 40,
   "id": "502b8083-deae-4e04-bb21-2a41b40e1514",
   "metadata": {},
   "outputs": [
    {
     "data": {
      "image/png": "[encoded data removed]",
      "text/plain": [
       "<Figure size 432x288 with 1 Axes>"
      ]
     },
     "metadata": {
      "needs_background": "light"
     },
     "output_type": "display_data"
    },
    {
     "name": "stdout",
     "output_type": "stream",
     "text": [
      "mean: 2.0013233180449106\n",
      "std : 2.0016547506782367\n",
      "skewness : 2.0020963296607466\n",
      "kurtosis : 6.033125147836289\n",
      "VaR 95% : 0.10255029206361933\n",
      "Jarque-Bera : 2184673.2459341157\n"
     ]
    }
   ],
   "source": [
    "normality_test(10**6, \"chi-squared\", 2)"
   ]
  },
  {
   "cell_type": "markdown",
   "id": "c71f1e24-ab67-4e70-a3c8-4ee351f89b9a",
   "metadata": {},
   "source": [
    "> Como nos marca el dibiujop, parece que la asintota vuela al infinito."
   ]
  },
  {
   "cell_type": "code",
   "execution_count": 41,
   "id": "414e08d3-a2eb-4cfa-aae0-83dad911c2ab",
   "metadata": {},
   "outputs": [
    {
     "data": {
      "image/png": "[encoded data removed]",
      "text/plain": [
       "<Figure size 432x288 with 1 Axes>"
      ]
     },
     "metadata": {
      "needs_background": "light"
     },
     "output_type": "display_data"
    },
    {
     "name": "stdout",
     "output_type": "stream",
     "text": [
      "mean: 3.001882946920359\n",
      "std : 2.449980910051582\n",
      "skewness : 1.6340748396812004\n",
      "kurtosis : 3.98535696024142\n",
      "VaR 95% : 0.35232684078395154\n",
      "Jarque-Bera : 1106828.017802554\n"
     ]
    }
   ],
   "source": [
    "normality_test(10**6, \"chi-squared\", 3)"
   ]
  },
  {
   "cell_type": "code",
   "execution_count": 42,
   "id": "89c1e72c-7d52-48a9-b7f2-078d5b24a0c2",
   "metadata": {},
   "outputs": [
    {
     "data": {
      "image/png": "[encoded data removed]",
      "text/plain": [
       "<Figure size 432x288 with 1 Axes>"
      ]
     },
     "metadata": {
      "needs_background": "light"
     },
     "output_type": "display_data"
    },
    {
     "name": "stdout",
     "output_type": "stream",
     "text": [
      "mean: 4.00009425765395\n",
      "std : 2.8280726762248185\n",
      "skewness : 1.4112592610694792\n",
      "kurtosis : 2.9641059003587795\n",
      "VaR 95% : 0.7116443542876868\n",
      "Jarque-Bera : 698022.2748483008\n"
     ]
    }
   ],
   "source": [
    "normality_test(10**6, \"chi-squared\", 4)"
   ]
  },
  {
   "cell_type": "markdown",
   "id": "48ac8d8b-aee8-45b1-abda-e2f6d03666ef",
   "metadata": {},
   "source": [
    "> El que nos interesa según definición es el de 2º de libertad"
   ]
  },
  {
   "cell_type": "code",
   "execution_count": 43,
   "id": "e5f8070f-43ea-4bba-bcca-3028865166fc",
   "metadata": {},
   "outputs": [
    {
     "data": {
      "image/png": "[encoded data removed]",
      "text/plain": [
       "<Figure size 432x288 with 1 Axes>"
      ]
     },
     "metadata": {
      "needs_background": "light"
     },
     "output_type": "display_data"
    },
    {
     "name": "stdout",
     "output_type": "stream",
     "text": [
      "mean: 2.000475269898026\n",
      "std : 2.000857472433822\n",
      "skewness : 1.9983768924099217\n",
      "kurtosis : 5.9989219317602025\n",
      "VaR 95% : 0.10312956050027919\n",
      "Jarque-Bera : 2165046.048326054\n"
     ]
    }
   ],
   "source": [
    "normality_test(10**6, \"chi-squared\", 2)"
   ]
  },
  {
   "cell_type": "markdown",
   "id": "d9139459-fecd-49eb-a4de-5a425d63bb67",
   "metadata": {},
   "source": [
    "¿Buscamos que el JB se vaya a cero? Si, cualquier desviación de cero nos va a alejar de la normalidad, porque el test de JB dice que si mi distribución es normal entonces el test de JB se comporta asintoticamente  como una variable chi-squart de grado 2, y entonces quiero que la variable sea lo más pequeña posible."
   ]
  },
  {
   "cell_type": "markdown",
   "id": "c8e61f71-c38d-42ef-82ee-4c2a39558e6d",
   "metadata": {},
   "source": [
    "**P-VALUE**\n",
    "\n",
    "\n",
    "¿Qué es el p-value?\n",
    "\n",
    "dada la probabilidad de que mi distribución es normal, (o mejor para este caso, dada que mi distribución es chi-square) cuando calculo del JB me dice cuál es la probabilidad de que dicha variable aleatoria (que es mi chi-square) sea mayor que el valor que encontré $Pr(T > t)$\n",
    "\n",
    "Como yo lo que quiero es la cola a la derecha, voy a restarle del 1 toda la función acumulativa.\n",
    "\n",
    "* https://docs.scipy.org/doc/scipy/reference/generated/scipy.stats.chi2.html\n",
    "\n",
    "`p_value = 1 - chi2.cdf(jb, df = degrees_freedom)`\n"
   ]
  },
  {
   "cell_type": "code",
   "execution_count": 47,
   "id": "c68db550-bea8-4193-ad2b-5e457afae238",
   "metadata": {},
   "outputs": [],
   "source": [
    "def normality_test(x_size, type_random_variable, degrees_freedom=5):\n",
    "    \"\"\"Create a normality test e.g Jarque_bera\n",
    "    Arg:\n",
    "        1. x_size : size of distribution.\n",
    "        2. type_random_variable : generate random distributions.\n",
    "        3. degrees_freedom : only for t-student\n",
    "    Return:\n",
    "    \"\"\"\n",
    "    if type_random_variable == \"normal\":\n",
    "        x = np.random.standard_normal(x_size)\n",
    "        x_str = type_random_variable\n",
    "    elif type_random_variable == \"exponential\":\n",
    "        x = np.random.standard_exponential(x_size)\n",
    "        x_str = type_random_variable\n",
    "    elif type_random_variable == \"student\":\n",
    "        x = np.random.standard_t(size=x_size, df=degrees_freedom)\n",
    "        x_str = type_random_variable + \"(df=\" + str(degrees_freedom) + \")\"\n",
    "    elif type_random_variable == \"chi-squared\":\n",
    "        x = np.random.chisquare(size=x_size, df=degrees_freedom)\n",
    "        x_str = type_random_variable + \"(df=\" + str(degrees_freedom) + \")\"\n",
    "\n",
    "    # compute risk metrics\n",
    "    x_mean = np.mean(x)\n",
    "    x_stdev = np.std(x)\n",
    "    x_skew = skew(x)\n",
    "    x_kurt = kurtosis(x)\n",
    "    x_var_95 = np.percentile(x, 5)\n",
    "    jb = x_size/6 * (x_skew**2 + 1/4*(x_kurt**2))\n",
    "    p_value = 1 - chi2.cdf(jb, df=degrees_freedom)\n",
    "\n",
    "    # plot histogram\n",
    "    plt.figure()\n",
    "    plt.hist(x, bins=100)\n",
    "    plt.title(type_random_variable)\n",
    "    plt.show()\n",
    "\n",
    "    # print risk metrics\n",
    "    print(\"mean: \" + str(x_mean))\n",
    "    print(\"std : \" + str(x_stdev))\n",
    "    print(\"skewness : \" + str(x_skew))\n",
    "    print(\"kurtosis : \" + str(x_kurt))\n",
    "    print(\"VaR 95% : \" + str(x_var_95))\n",
    "    print(\"Jarque-Bera : \" + str(jb))\n",
    "    print(\"p_value : \" + str(p_value))"
   ]
  },
  {
   "cell_type": "code",
   "execution_count": 52,
   "id": "55faef85-7bf6-46b1-ab37-a9b86d4fd486",
   "metadata": {},
   "outputs": [
    {
     "data": {
      "image/png": "[encoded data removed]",
      "text/plain": [
       "<Figure size 432x288 with 1 Axes>"
      ]
     },
     "metadata": {
      "needs_background": "light"
     },
     "output_type": "display_data"
    },
    {
     "name": "stdout",
     "output_type": "stream",
     "text": [
      "mean: 0.0006323778428630176\n",
      "std : 1.0009745725605377\n",
      "skewness : -0.0015074450647469832\n",
      "kurtosis : -0.010019033393342092\n",
      "VaR 95% : -1.6459735418991162\n",
      "Jarque-Bera : 4.561274692909337\n",
      "p_value : 0.47172718904354205\n"
     ]
    }
   ],
   "source": [
    "normality_test(10**6, \"normal\")"
   ]
  },
  {
   "cell_type": "markdown",
   "id": "ec09cb33-7c36-405b-841f-ceee1b589628",
   "metadata": {},
   "source": [
    "> Tengo el p-value **¿Que necesito para rechazar la hipótesis?**  \n",
    "> para rechazar la hipotesis necesito que el p-value (la Pr de que haya valores a la derecha, necesito que esa probabilidad se mayor que 5% si estamos ajustando al 5%). Rechazamos cuando el p-value sea un valor menor al nivel de significancia, con 95% de confianza si yo voy a rechazar o no la normalidad.\n",
    "\n",
    "* `is normal = (p_value > 0.05)`\n",
    "\n",
    "La **hipótesis** es que :  \n",
    ">\" si tu distribución es normal en tonces la estadística de Jarque-Bera que el número resultado de la fórmula, se comporta asintoticamente como un chi-square con 2º de libertad\"\n",
    ">\n",
    "> A ese valor que concontré de Jarque-Bera, le voy a calcular el p-value, si ese p-value es menor que 0.05 la distribución no es normal y rechazo la hipotesis nula."
   ]
  },
  {
   "cell_type": "code",
   "execution_count": 1,
   "id": "9730ef84-ec51-4d84-ad30-c3d95edfd621",
   "metadata": {},
   "outputs": [],
   "source": [
    "def normality_test(x_size, type_random_variable, degrees_freedom=5):\n",
    "    \"\"\"Create a normality test e.g Jarque_bera\n",
    "    Arg:\n",
    "        1. x_size : size of distribution.\n",
    "        2. type_random_variable : generate random distributions.\n",
    "        3. degrees_freedom : only for t-student\n",
    "    Return:\n",
    "    \"\"\"\n",
    "    if type_random_variable == \"normal\":\n",
    "        x = np.random.standard_normal(x_size)\n",
    "        x_str = type_random_variable\n",
    "    elif type_random_variable == \"exponential\":\n",
    "        x = np.random.standard_exponential(x_size)\n",
    "        x_str = type_random_variable\n",
    "    elif type_random_variable == \"student\":\n",
    "        x = np.random.standard_t(size=x_size, df=degrees_freedom)\n",
    "        x_str = type_random_variable + \"(df=\" + str(degrees_freedom) + \")\"\n",
    "    elif type_random_variable == \"chi-squared\":\n",
    "        x = np.random.chisquare(size=x_size, df=degrees_freedom)\n",
    "        x_str = type_random_variable + \"(df=\" + str(degrees_freedom) + \")\"\n",
    "\n",
    "    # compute risk metrics\n",
    "    x_mean = np.mean(x)\n",
    "    x_stdev = np.std(x)\n",
    "    x_skew = skew(x)\n",
    "    x_kurt = kurtosis(x)\n",
    "    x_var_95 = np.percentile(x, 5)\n",
    "    jb = x_size/6 * (x_skew**2 + 1/4*(x_kurt**2))\n",
    "    p_value = 1 - chi2.cdf(jb, df=degrees_freedom)\n",
    "    is_normal = (p_value > 0.05) # equivalenty jb < 6\n",
    "\n",
    "    # plot histogram\n",
    "    plt.figure()\n",
    "    plt.hist(x, bins=100)\n",
    "    plt.title(type_random_variable)\n",
    "    plt.show()\n",
    "\n",
    "    # print risk metrics\n",
    "    print(\"mean: \" + str(x_mean))\n",
    "    print(\"std : \" + str(x_stdev))\n",
    "    print(\"skewness : \" + str(x_skew))\n",
    "    print(\"kurtosis : \" + str(x_kurt))\n",
    "    print(\"VaR 95% : \" + str(x_var_95))\n",
    "    print(\"Jarque-Bera : \" + str(jb))\n",
    "    print(\"p_value : \" + str(p_value))\n",
    "    print(\"is normal :\" + str(is_nomral))"
   ]
  },
  {
   "cell_type": "code",
   "execution_count": 2,
   "id": "6f054419-5707-4594-8b90-d15627f4c08e",
   "metadata": {},
   "outputs": [
    {
     "ename": "NameError",
     "evalue": "name 'np' is not defined",
     "output_type": "error",
     "traceback": [
      "\u001b[0;31m---------------------------------------------------------------------------\u001b[0m",
      "\u001b[0;31mNameError\u001b[0m                                 Traceback (most recent call last)",
      "\u001b[0;32m<ipython-input-2-27e9a781cbcb>\u001b[0m in \u001b[0;36m<module>\u001b[0;34m\u001b[0m\n\u001b[0;32m----> 1\u001b[0;31m \u001b[0mnormality_test\u001b[0m\u001b[0;34m(\u001b[0m\u001b[0;36m10\u001b[0m\u001b[0;34m**\u001b[0m\u001b[0;36m6\u001b[0m\u001b[0;34m,\u001b[0m \u001b[0;34m\"normal\"\u001b[0m\u001b[0;34m)\u001b[0m\u001b[0;34m\u001b[0m\u001b[0;34m\u001b[0m\u001b[0m\n\u001b[0m",
      "\u001b[0;32m<ipython-input-1-e1f0563a90f3>\u001b[0m in \u001b[0;36mnormality_test\u001b[0;34m(x_size, type_random_variable, degrees_freedom)\u001b[0m\n\u001b[1;32m      8\u001b[0m     \"\"\"\n\u001b[1;32m      9\u001b[0m     \u001b[0;32mif\u001b[0m \u001b[0mtype_random_variable\u001b[0m \u001b[0;34m==\u001b[0m \u001b[0;34m\"normal\"\u001b[0m\u001b[0;34m:\u001b[0m\u001b[0;34m\u001b[0m\u001b[0;34m\u001b[0m\u001b[0m\n\u001b[0;32m---> 10\u001b[0;31m         \u001b[0mx\u001b[0m \u001b[0;34m=\u001b[0m \u001b[0mnp\u001b[0m\u001b[0;34m.\u001b[0m\u001b[0mrandom\u001b[0m\u001b[0;34m.\u001b[0m\u001b[0mstandard_normal\u001b[0m\u001b[0;34m(\u001b[0m\u001b[0mx_size\u001b[0m\u001b[0;34m)\u001b[0m\u001b[0;34m\u001b[0m\u001b[0;34m\u001b[0m\u001b[0m\n\u001b[0m\u001b[1;32m     11\u001b[0m         \u001b[0mx_str\u001b[0m \u001b[0;34m=\u001b[0m \u001b[0mtype_random_variable\u001b[0m\u001b[0;34m\u001b[0m\u001b[0;34m\u001b[0m\u001b[0m\n\u001b[1;32m     12\u001b[0m     \u001b[0;32melif\u001b[0m \u001b[0mtype_random_variable\u001b[0m \u001b[0;34m==\u001b[0m \u001b[0;34m\"exponential\"\u001b[0m\u001b[0;34m:\u001b[0m\u001b[0;34m\u001b[0m\u001b[0;34m\u001b[0m\u001b[0m\n",
      "\u001b[0;31mNameError\u001b[0m: name 'np' is not defined"
     ]
    }
   ],
   "source": [
    "normality_test(10**6, \"normal\")"
   ]
  },
  {
   "cell_type": "code",
   "execution_count": null,
   "id": "e5e13708-9de0-42e1-95f3-c55eff99b0c2",
   "metadata": {},
   "outputs": [],
   "source": []
  }
 ],
 "metadata": {
  "kernelspec": {
   "display_name": "Python 3",
   "language": "python",
   "name": "python3"
  },
  "language_info": {
   "codemirror_mode": {
    "name": "ipython",
    "version": 3
   },
   "file_extension": ".py",
   "mimetype": "text/x-python",
   "name": "python",
   "nbconvert_exporter": "python",
   "pygments_lexer": "ipython3",
   "version": "3.8.8"
  }
 },
 "nbformat": 4,
 "nbformat_minor": 5
}
